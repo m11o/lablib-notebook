{
 "cells": [
  {
   "cell_type": "code",
   "execution_count": 18,
   "metadata": {},
   "outputs": [
    {
     "name": "stdout",
     "output_type": "stream",
     "text": [
      "['/workspaces/lablib-notebook/notebooks/fluorine', '/root/.vscode-server/extensions/ms-toolsai.jupyter-2021.11.1001550889/pythonFiles', '/root/.vscode-server/extensions/ms-toolsai.jupyter-2021.11.1001550889/pythonFiles/lib/python', '/opt/conda/lib/python39.zip', '/opt/conda/lib/python3.9', '/opt/conda/lib/python3.9/lib-dynload', '', '/opt/conda/lib/python3.9/site-packages', '/opt/conda/lib/python3.9/site-packages/locket-0.2.1-py3.9.egg', '/opt/conda/lib/python3.9/site-packages/IPython/extensions', '/root/.ipython', '/app', '/app/utils', '/app/OASIS', '/app/OASIS/oasis']\n"
     ]
    },
    {
     "ename": "ImportError",
     "evalue": "attempted relative import with no known parent package",
     "output_type": "error",
     "traceback": [
      "\u001b[0;31m---------------------------------------------------------------------------\u001b[0m",
      "\u001b[0;31mImportError\u001b[0m                               Traceback (most recent call last)",
      "\u001b[0;32m/tmp/ipykernel_11034/3432058916.py\u001b[0m in \u001b[0;36m<module>\u001b[0;34m\u001b[0m\n\u001b[1;32m      1\u001b[0m \u001b[0;32mimport\u001b[0m \u001b[0msys\u001b[0m\u001b[0;34m\u001b[0m\u001b[0;34m\u001b[0m\u001b[0m\n\u001b[1;32m      2\u001b[0m \u001b[0mprint\u001b[0m\u001b[0;34m(\u001b[0m\u001b[0msys\u001b[0m\u001b[0;34m.\u001b[0m\u001b[0mpath\u001b[0m\u001b[0;34m)\u001b[0m\u001b[0;34m\u001b[0m\u001b[0;34m\u001b[0m\u001b[0m\n\u001b[0;32m----> 3\u001b[0;31m \u001b[0;32mfrom\u001b[0m \u001b[0;34m.\u001b[0m\u001b[0mutils\u001b[0m\u001b[0;34m.\u001b[0m\u001b[0mXYDataParser\u001b[0m \u001b[0;32mimport\u001b[0m \u001b[0mXYDataParser\u001b[0m\u001b[0;34m\u001b[0m\u001b[0;34m\u001b[0m\u001b[0m\n\u001b[0m",
      "\u001b[0;31mImportError\u001b[0m: attempted relative import with no known parent package"
     ]
    }
   ],
   "source": [
    "import sys\n",
    "print(sys.path)\n",
    "from .utils.XYDataParser import XYDataParser"
   ]
  },
  {
   "cell_type": "code",
   "execution_count": 17,
   "metadata": {},
   "outputs": [
    {
     "data": {
      "text/html": [
       "<div>\n",
       "<style scoped>\n",
       "    .dataframe tbody tr th:only-of-type {\n",
       "        vertical-align: middle;\n",
       "    }\n",
       "\n",
       "    .dataframe tbody tr th {\n",
       "        vertical-align: top;\n",
       "    }\n",
       "\n",
       "    .dataframe thead th {\n",
       "        text-align: right;\n",
       "    }\n",
       "</style>\n",
       "<table border=\"1\" class=\"dataframe\">\n",
       "  <thead>\n",
       "    <tr style=\"text-align: right;\">\n",
       "      <th></th>\n",
       "      <th>TimeFZ4\\t\\t\\t\\t\\t\\t\\t</th>\n",
       "    </tr>\n",
       "  </thead>\n",
       "  <tbody>\n",
       "    <tr>\n",
       "      <th>0</th>\n",
       "      <td>Box 1\\t\\t\\t\\t\\t\\t\\t</td>\n",
       "    </tr>\n",
       "    <tr>\n",
       "      <th>1</th>\n",
       "      <td>Animal ID\\t1\\t1h\\t\\t\\t\\t\\t</td>\n",
       "    </tr>\n",
       "    <tr>\n",
       "      <th>2</th>\n",
       "      <td>User Name\\tuser1\\t\\t\\t\\t\\t\\t</td>\n",
       "    </tr>\n",
       "    <tr>\n",
       "      <th>3</th>\n",
       "      <td>Exp. Date\\t2021/10/20\\t\\t\\t\\t\\t\\t</td>\n",
       "    </tr>\n",
       "    <tr>\n",
       "      <th>4</th>\n",
       "      <td>Start Time\\t15:23\\t\\t\\t\\t\\t\\t</td>\n",
       "    </tr>\n",
       "    <tr>\n",
       "      <th>...</th>\n",
       "      <td>...</td>\n",
       "    </tr>\n",
       "    <tr>\n",
       "      <th>390</th>\n",
       "      <td>356\\t217\\t60\\t1351\\t232\\t0\\t0\\t0.2</td>\n",
       "    </tr>\n",
       "    <tr>\n",
       "      <th>391</th>\n",
       "      <td>357\\t216\\t62\\t1386\\t82\\t0\\t0\\t0.2</td>\n",
       "    </tr>\n",
       "    <tr>\n",
       "      <th>392</th>\n",
       "      <td>358\\t216\\t61\\t1402\\t0\\t1\\t1\\t0.0</td>\n",
       "    </tr>\n",
       "    <tr>\n",
       "      <th>393</th>\n",
       "      <td>359\\t217\\t62\\t1398\\t16\\t1\\t2\\t0.1</td>\n",
       "    </tr>\n",
       "    <tr>\n",
       "      <th>394</th>\n",
       "      <td>360\\t218\\t61\\t1332\\t62\\t0\\t0\\t0.2</td>\n",
       "    </tr>\n",
       "  </tbody>\n",
       "</table>\n",
       "<p>395 rows × 1 columns</p>\n",
       "</div>"
      ],
      "text/plain": [
       "                  TimeFZ4\\t\\t\\t\\t\\t\\t\\t\n",
       "0                   Box 1\\t\\t\\t\\t\\t\\t\\t\n",
       "1            Animal ID\\t1\\t1h\\t\\t\\t\\t\\t\n",
       "2          User Name\\tuser1\\t\\t\\t\\t\\t\\t\n",
       "3     Exp. Date\\t2021/10/20\\t\\t\\t\\t\\t\\t\n",
       "4         Start Time\\t15:23\\t\\t\\t\\t\\t\\t\n",
       "..                                  ...\n",
       "390  356\\t217\\t60\\t1351\\t232\\t0\\t0\\t0.2\n",
       "391   357\\t216\\t62\\t1386\\t82\\t0\\t0\\t0.2\n",
       "392    358\\t216\\t61\\t1402\\t0\\t1\\t1\\t0.0\n",
       "393   359\\t217\\t62\\t1398\\t16\\t1\\t2\\t0.1\n",
       "394   360\\t218\\t61\\t1332\\t62\\t0\\t0\\t0.2\n",
       "\n",
       "[395 rows x 1 columns]"
      ]
     },
     "execution_count": 17,
     "metadata": {},
     "output_type": "execute_result"
    }
   ],
   "source": [
    "filename = './resources/xydata/60min/1h/pre/SRT/1_XY.txt'\n",
    "xydata = XYDataParser(filename)\n",
    "xydata.df"
   ]
  },
  {
   "cell_type": "code",
   "execution_count": null,
   "metadata": {},
   "outputs": [],
   "source": []
  }
 ],
 "metadata": {
  "interpreter": {
   "hash": "d4d1e4263499bec80672ea0156c357c1ee493ec2b1c70f0acce89fc37c4a6abe"
  },
  "kernelspec": {
   "display_name": "Python 3.8.12 64-bit ('base': conda)",
   "language": "python",
   "name": "python3"
  },
  "language_info": {
   "codemirror_mode": {
    "name": "ipython",
    "version": 3
   },
   "file_extension": ".py",
   "mimetype": "text/x-python",
   "name": "python",
   "nbconvert_exporter": "python",
   "pygments_lexer": "ipython3",
   "version": "3.9.7"
  },
  "orig_nbformat": 4
 },
 "nbformat": 4,
 "nbformat_minor": 2
}
