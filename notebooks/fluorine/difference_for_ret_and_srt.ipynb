{
 "cells": [
  {
   "cell_type": "code",
   "execution_count": 2,
   "metadata": {},
   "outputs": [],
   "source": [
    "import numpy as np\n",
    "import pandas as pd\n",
    "import matplotlib.pyplot as plt\n",
    "import matplotlib\n",
    "\n",
    "matplotlib.style.use('default')"
   ]
  },
  {
   "cell_type": "code",
   "execution_count": 3,
   "metadata": {},
   "outputs": [
    {
     "data": {
      "text/html": [
       "<div>\n",
       "<style scoped>\n",
       "    .dataframe tbody tr th:only-of-type {\n",
       "        vertical-align: middle;\n",
       "    }\n",
       "\n",
       "    .dataframe tbody tr th {\n",
       "        vertical-align: top;\n",
       "    }\n",
       "\n",
       "    .dataframe thead th {\n",
       "        text-align: right;\n",
       "    }\n",
       "</style>\n",
       "<table border=\"1\" class=\"dataframe\">\n",
       "  <thead>\n",
       "    <tr style=\"text-align: right;\">\n",
       "      <th></th>\n",
       "      <th>noRET_RET</th>\n",
       "      <th>noRET_EM</th>\n",
       "      <th>noRET_SRT</th>\n",
       "      <th>10min_RET</th>\n",
       "      <th>10min_EM</th>\n",
       "      <th>10min_SRT</th>\n",
       "      <th>1h_RET</th>\n",
       "      <th>1h_EM</th>\n",
       "      <th>1h_SRT</th>\n",
       "      <th>6h_RET</th>\n",
       "      <th>6h_EM</th>\n",
       "      <th>6h_SRT</th>\n",
       "    </tr>\n",
       "    <tr>\n",
       "      <th>animal</th>\n",
       "      <th></th>\n",
       "      <th></th>\n",
       "      <th></th>\n",
       "      <th></th>\n",
       "      <th></th>\n",
       "      <th></th>\n",
       "      <th></th>\n",
       "      <th></th>\n",
       "      <th></th>\n",
       "      <th></th>\n",
       "      <th></th>\n",
       "      <th></th>\n",
       "    </tr>\n",
       "  </thead>\n",
       "  <tbody>\n",
       "    <tr>\n",
       "      <th>#1</th>\n",
       "      <td>53.333333</td>\n",
       "      <td>27.483333</td>\n",
       "      <td>NaN</td>\n",
       "      <td>70.266667</td>\n",
       "      <td>51.400000</td>\n",
       "      <td>NaN</td>\n",
       "      <td>18.900000</td>\n",
       "      <td>3.050000</td>\n",
       "      <td>16.950000</td>\n",
       "      <td>28.050000</td>\n",
       "      <td>2.766667</td>\n",
       "      <td>31.666667</td>\n",
       "    </tr>\n",
       "    <tr>\n",
       "      <th>#2</th>\n",
       "      <td>26.366667</td>\n",
       "      <td>17.216667</td>\n",
       "      <td>NaN</td>\n",
       "      <td>28.350000</td>\n",
       "      <td>0.000000</td>\n",
       "      <td>NaN</td>\n",
       "      <td>30.283333</td>\n",
       "      <td>14.716667</td>\n",
       "      <td>49.166667</td>\n",
       "      <td>42.800000</td>\n",
       "      <td>28.333333</td>\n",
       "      <td>51.666667</td>\n",
       "    </tr>\n",
       "    <tr>\n",
       "      <th>#3</th>\n",
       "      <td>70.266667</td>\n",
       "      <td>38.883333</td>\n",
       "      <td>NaN</td>\n",
       "      <td>26.933333</td>\n",
       "      <td>10.000000</td>\n",
       "      <td>NaN</td>\n",
       "      <td>44.150000</td>\n",
       "      <td>6.666667</td>\n",
       "      <td>37.216667</td>\n",
       "      <td>62.216667</td>\n",
       "      <td>19.983333</td>\n",
       "      <td>43.883333</td>\n",
       "    </tr>\n",
       "    <tr>\n",
       "      <th>#4</th>\n",
       "      <td>42.783333</td>\n",
       "      <td>35.000000</td>\n",
       "      <td>NaN</td>\n",
       "      <td>72.483333</td>\n",
       "      <td>40.833333</td>\n",
       "      <td>NaN</td>\n",
       "      <td>69.983333</td>\n",
       "      <td>51.950000</td>\n",
       "      <td>68.900000</td>\n",
       "      <td>18.066667</td>\n",
       "      <td>4.983333</td>\n",
       "      <td>5.000000</td>\n",
       "    </tr>\n",
       "    <tr>\n",
       "      <th>#5</th>\n",
       "      <td>38.616667</td>\n",
       "      <td>16.383333</td>\n",
       "      <td>NaN</td>\n",
       "      <td>63.633333</td>\n",
       "      <td>67.216667</td>\n",
       "      <td>NaN</td>\n",
       "      <td>67.500000</td>\n",
       "      <td>16.116667</td>\n",
       "      <td>15.833333</td>\n",
       "      <td>48.066667</td>\n",
       "      <td>5.000000</td>\n",
       "      <td>26.400000</td>\n",
       "    </tr>\n",
       "    <tr>\n",
       "      <th>#6</th>\n",
       "      <td>39.183333</td>\n",
       "      <td>16.383333</td>\n",
       "      <td>NaN</td>\n",
       "      <td>46.950000</td>\n",
       "      <td>18.883333</td>\n",
       "      <td>NaN</td>\n",
       "      <td>38.600000</td>\n",
       "      <td>7.783333</td>\n",
       "      <td>16.950000</td>\n",
       "      <td>37.216667</td>\n",
       "      <td>10.566667</td>\n",
       "      <td>14.716667</td>\n",
       "    </tr>\n",
       "    <tr>\n",
       "      <th>#7</th>\n",
       "      <td>55.566667</td>\n",
       "      <td>36.133333</td>\n",
       "      <td>NaN</td>\n",
       "      <td>35.833333</td>\n",
       "      <td>27.500000</td>\n",
       "      <td>NaN</td>\n",
       "      <td>36.933333</td>\n",
       "      <td>13.600000</td>\n",
       "      <td>27.516667</td>\n",
       "      <td>64.166667</td>\n",
       "      <td>19.733333</td>\n",
       "      <td>53.633333</td>\n",
       "    </tr>\n",
       "    <tr>\n",
       "      <th>#8</th>\n",
       "      <td>46.650000</td>\n",
       "      <td>35.566667</td>\n",
       "      <td>NaN</td>\n",
       "      <td>35.283333</td>\n",
       "      <td>36.666667</td>\n",
       "      <td>NaN</td>\n",
       "      <td>67.783333</td>\n",
       "      <td>26.100000</td>\n",
       "      <td>42.783333</td>\n",
       "      <td>32.766667</td>\n",
       "      <td>20.000000</td>\n",
       "      <td>23.616667</td>\n",
       "    </tr>\n",
       "  </tbody>\n",
       "</table>\n",
       "</div>"
      ],
      "text/plain": [
       "        noRET_RET   noRET_EM  noRET_SRT  10min_RET   10min_EM  10min_SRT  \\\n",
       "animal                                                                     \n",
       "#1      53.333333  27.483333        NaN  70.266667  51.400000        NaN   \n",
       "#2      26.366667  17.216667        NaN  28.350000   0.000000        NaN   \n",
       "#3      70.266667  38.883333        NaN  26.933333  10.000000        NaN   \n",
       "#4      42.783333  35.000000        NaN  72.483333  40.833333        NaN   \n",
       "#5      38.616667  16.383333        NaN  63.633333  67.216667        NaN   \n",
       "#6      39.183333  16.383333        NaN  46.950000  18.883333        NaN   \n",
       "#7      55.566667  36.133333        NaN  35.833333  27.500000        NaN   \n",
       "#8      46.650000  35.566667        NaN  35.283333  36.666667        NaN   \n",
       "\n",
       "           1h_RET      1h_EM     1h_SRT     6h_RET      6h_EM     6h_SRT  \n",
       "animal                                                                    \n",
       "#1      18.900000   3.050000  16.950000  28.050000   2.766667  31.666667  \n",
       "#2      30.283333  14.716667  49.166667  42.800000  28.333333  51.666667  \n",
       "#3      44.150000   6.666667  37.216667  62.216667  19.983333  43.883333  \n",
       "#4      69.983333  51.950000  68.900000  18.066667   4.983333   5.000000  \n",
       "#5      67.500000  16.116667  15.833333  48.066667   5.000000  26.400000  \n",
       "#6      38.600000   7.783333  16.950000  37.216667  10.566667  14.716667  \n",
       "#7      36.933333  13.600000  27.516667  64.166667  19.733333  53.633333  \n",
       "#8      67.783333  26.100000  42.783333  32.766667  20.000000  23.616667  "
      ]
     },
     "execution_count": 3,
     "metadata": {},
     "output_type": "execute_result"
    }
   ],
   "source": [
    "df = pd.read_csv('./resources/60min_x1_summary.csv', header=[0], index_col=[0])\n",
    "df"
   ]
  },
  {
   "cell_type": "code",
   "execution_count": 4,
   "metadata": {},
   "outputs": [],
   "source": [
    "pre_1h_ret = df.loc['#5':'#8', '1h_RET']\n",
    "post_1h_ret  = df.loc['#1':'#4', '1h_RET']\n",
    "\n",
    "pre_1h_srt = df.loc['#5':'#8', '1h_SRT']\n",
    "post_1h_srt = df.loc['#1':'#4', '1h_SRT']\n",
    "\n",
    "pre_diff = pre_1h_ret - pre_1h_srt\n",
    "post_diff = post_1h_ret - post_1h_srt"
   ]
  },
  {
   "cell_type": "code",
   "execution_count": 5,
   "metadata": {},
   "outputs": [
    {
     "data": {
      "text/plain": [
       "animal\n",
       "#5    51.666667\n",
       "#6    21.650000\n",
       "#7     9.416667\n",
       "#8    25.000000\n",
       "dtype: float64"
      ]
     },
     "execution_count": 5,
     "metadata": {},
     "output_type": "execute_result"
    }
   ],
   "source": [
    "pre_diff"
   ]
  },
  {
   "cell_type": "code",
   "execution_count": 6,
   "metadata": {},
   "outputs": [
    {
     "data": {
      "text/plain": [
       "animal\n",
       "#1     1.950000\n",
       "#2   -18.883333\n",
       "#3     6.933333\n",
       "#4     1.083333\n",
       "dtype: float64"
      ]
     },
     "execution_count": 6,
     "metadata": {},
     "output_type": "execute_result"
    }
   ],
   "source": [
    "post_diff"
   ]
  },
  {
   "cell_type": "code",
   "execution_count": 7,
   "metadata": {},
   "outputs": [
    {
     "data": {
      "image/png": "[encoded data removed]",
      "text/plain": [
       "<Figure size 800x800 with 1 Axes>"
      ]
     },
     "metadata": {},
     "output_type": "display_data"
    }
   ],
   "source": [
    "fig, ax = plt.subplots(figsize=(4, 4), dpi=200)\n",
    "labels = ['pre', 'post']\n",
    "for index, items in enumerate([pre_diff, post_diff]):\n",
    "    mean, sem = items.mean(), items.sem()\n",
    "\n",
    "    ax.bar(x=index, height=mean, yerr=sem, capsize=2, label=labels[index], align='center', color='gray')\n",
    "\n",
    "ax.set_xticks(list(range(2)))\n",
    "ax.set_title('60min x1 1h')\n",
    "ax.set_xticklabels(labels=labels)\n",
    "plt.show()"
   ]
  },
  {
   "cell_type": "code",
   "execution_count": null,
   "metadata": {},
   "outputs": [],
   "source": []
  },
  {
   "cell_type": "code",
   "execution_count": 8,
   "metadata": {},
   "outputs": [],
   "source": [
    "pre_6h_ret = df.loc['#5':'#8', '6h_RET']\n",
    "post_6h_ret  = df.loc['#1':'#4', '6h_RET']\n",
    "\n",
    "pre_6h_srt = df.loc['#5':'#8', '6h_SRT']\n",
    "post_6h_srt = df.loc['#1':'#4', '6h_SRT']\n",
    "\n",
    "pre_diff = pre_6h_ret - pre_6h_srt\n",
    "post_diff = post_6h_ret - post_6h_srt"
   ]
  },
  {
   "cell_type": "code",
   "execution_count": null,
   "metadata": {},
   "outputs": [],
   "source": []
  },
  {
   "cell_type": "code",
   "execution_count": 9,
   "metadata": {},
   "outputs": [
    {
     "data": {
      "image/png": "[encoded data removed]",
      "text/plain": [
       "<Figure size 800x800 with 1 Axes>"
      ]
     },
     "metadata": {},
     "output_type": "display_data"
    }
   ],
   "source": [
    "fig, ax = plt.subplots(figsize=(4, 4), dpi=200)\n",
    "labels = ['pre', 'post']\n",
    "for index, items in enumerate([pre_diff, post_diff]):\n",
    "    mean, sem = items.mean(), items.sem()\n",
    "\n",
    "    ax.bar(x=index, height=mean, yerr=sem, capsize=2, label=labels[index], align='center', color='gray')\n",
    "\n",
    "ax.set_xticks(list(range(2)))\n",
    "ax.set_title('60min x1 6h')\n",
    "ax.set_xticklabels(labels=labels)\n",
    "plt.show()"
   ]
  }
 ],
 "metadata": {
  "interpreter": {
   "hash": "d4d1e4263499bec80672ea0156c357c1ee493ec2b1c70f0acce89fc37c4a6abe"
  },
  "kernelspec": {
   "display_name": "Python 3.8.12 64-bit ('base': conda)",
   "language": "python",
   "name": "python3"
  },
  "language_info": {
   "codemirror_mode": {
    "name": "ipython",
    "version": 3
   },
   "file_extension": ".py",
   "mimetype": "text/x-python",
   "name": "python",
   "nbconvert_exporter": "python",
   "pygments_lexer": "ipython3",
   "version": "3.8.12"
  },
  "orig_nbformat": 4
 },
 "nbformat": 4,
 "nbformat_minor": 2
}
