{
 "cells": [
  {
   "cell_type": "code",
   "execution_count": 1,
   "id": "94e66f68",
   "metadata": {},
   "outputs": [],
   "source": [
    "import pandas as pd\n",
    "import numpy as np\n",
    "import os\n",
    "\n",
    "from scipy.stats import f_oneway\n",
    "from matplotlib import pyplot as plt\n",
    "\n",
    "from utils.CaImageCSV import CaImageCSV\n",
    "from utils.CalculateEventRate import CalculateEventRate\n",
    "import utils.sulfur.constant as const"
   ]
  },
  {
   "cell_type": "code",
   "execution_count": 2,
   "id": "1413a3ea",
   "metadata": {},
   "outputs": [],
   "source": [
    "animal_names = const.ANIMAL_NAMES\n",
    "event_rates = pd.DataFrame(index=animal_names, columns=const.CONTEXTS)\n",
    "engram_event_rates = pd.DataFrame(index=animal_names, columns=const.CONTEXTS)\n",
    "non_engram_event_rates = pd.DataFrame(index=animal_names, columns=const.CONTEXTS)"
   ]
  },
  {
   "cell_type": "code",
   "execution_count": 3,
   "id": "ec1b8d69",
   "metadata": {},
   "outputs": [
    {
     "name": "stdout",
     "output_type": "stream",
     "text": [
      "animal name: ID181106CreA\n"
     ]
    },
    {
     "name": "stderr",
     "output_type": "stream",
     "text": [
      "/opt/conda/lib/python3.8/site-packages/pandas/core/indexing.py:1843: SettingWithCopyWarning: \n",
      "A value is trying to be set on a copy of a slice from a DataFrame.\n",
      "Try using .loc[row_indexer,col_indexer] = value instead\n",
      "\n",
      "See the caveats in the documentation: https://pandas.pydata.org/pandas-docs/stable/user_guide/indexing.html#returning-a-view-versus-a-copy\n",
      "  self.obj[item_labels[indexer[info_axis]]] = value\n"
     ]
    },
    {
     "name": "stdout",
     "output_type": "stream",
     "text": [
      "animal name: ID181106CreB\n"
     ]
    },
    {
     "name": "stderr",
     "output_type": "stream",
     "text": [
      "/opt/conda/lib/python3.8/site-packages/pandas/core/indexing.py:1843: SettingWithCopyWarning: \n",
      "A value is trying to be set on a copy of a slice from a DataFrame.\n",
      "Try using .loc[row_indexer,col_indexer] = value instead\n",
      "\n",
      "See the caveats in the documentation: https://pandas.pydata.org/pandas-docs/stable/user_guide/indexing.html#returning-a-view-versus-a-copy\n",
      "  self.obj[item_labels[indexer[info_axis]]] = value\n"
     ]
    },
    {
     "name": "stdout",
     "output_type": "stream",
     "text": [
      "animal name: ID181106CreC\n"
     ]
    },
    {
     "name": "stderr",
     "output_type": "stream",
     "text": [
      "/opt/conda/lib/python3.8/site-packages/pandas/core/indexing.py:1843: SettingWithCopyWarning: \n",
      "A value is trying to be set on a copy of a slice from a DataFrame.\n",
      "Try using .loc[row_indexer,col_indexer] = value instead\n",
      "\n",
      "See the caveats in the documentation: https://pandas.pydata.org/pandas-docs/stable/user_guide/indexing.html#returning-a-view-versus-a-copy\n",
      "  self.obj[item_labels[indexer[info_axis]]] = value\n"
     ]
    },
    {
     "name": "stdout",
     "output_type": "stream",
     "text": [
      "animal name: ID181106CreG\n"
     ]
    },
    {
     "name": "stderr",
     "output_type": "stream",
     "text": [
      "/opt/conda/lib/python3.8/site-packages/pandas/core/indexing.py:1843: SettingWithCopyWarning: \n",
      "A value is trying to be set on a copy of a slice from a DataFrame.\n",
      "Try using .loc[row_indexer,col_indexer] = value instead\n",
      "\n",
      "See the caveats in the documentation: https://pandas.pydata.org/pandas-docs/stable/user_guide/indexing.html#returning-a-view-versus-a-copy\n",
      "  self.obj[item_labels[indexer[info_axis]]] = value\n"
     ]
    },
    {
     "name": "stdout",
     "output_type": "stream",
     "text": [
      "animal name: ID181106CreH\n"
     ]
    },
    {
     "name": "stderr",
     "output_type": "stream",
     "text": [
      "/opt/conda/lib/python3.8/site-packages/pandas/core/indexing.py:1843: SettingWithCopyWarning: \n",
      "A value is trying to be set on a copy of a slice from a DataFrame.\n",
      "Try using .loc[row_indexer,col_indexer] = value instead\n",
      "\n",
      "See the caveats in the documentation: https://pandas.pydata.org/pandas-docs/stable/user_guide/indexing.html#returning-a-view-versus-a-copy\n",
      "  self.obj[item_labels[indexer[info_axis]]] = value\n"
     ]
    },
    {
     "name": "stdout",
     "output_type": "stream",
     "text": [
      "animal name: ID181106CreI\n"
     ]
    },
    {
     "name": "stderr",
     "output_type": "stream",
     "text": [
      "/opt/conda/lib/python3.8/site-packages/pandas/core/indexing.py:1843: SettingWithCopyWarning: \n",
      "A value is trying to be set on a copy of a slice from a DataFrame.\n",
      "Try using .loc[row_indexer,col_indexer] = value instead\n",
      "\n",
      "See the caveats in the documentation: https://pandas.pydata.org/pandas-docs/stable/user_guide/indexing.html#returning-a-view-versus-a-copy\n",
      "  self.obj[item_labels[indexer[info_axis]]] = value\n"
     ]
    },
    {
     "name": "stdout",
     "output_type": "stream",
     "text": [
      "animal name: ID181106CreK\n"
     ]
    },
    {
     "name": "stderr",
     "output_type": "stream",
     "text": [
      "/opt/conda/lib/python3.8/site-packages/pandas/core/indexing.py:1843: SettingWithCopyWarning: \n",
      "A value is trying to be set on a copy of a slice from a DataFrame.\n",
      "Try using .loc[row_indexer,col_indexer] = value instead\n",
      "\n",
      "See the caveats in the documentation: https://pandas.pydata.org/pandas-docs/stable/user_guide/indexing.html#returning-a-view-versus-a-copy\n",
      "  self.obj[item_labels[indexer[info_axis]]] = value\n"
     ]
    },
    {
     "name": "stdout",
     "output_type": "stream",
     "text": [
      "animal name: ID181106CreL\n"
     ]
    },
    {
     "name": "stderr",
     "output_type": "stream",
     "text": [
      "/opt/conda/lib/python3.8/site-packages/pandas/core/indexing.py:1843: SettingWithCopyWarning: \n",
      "A value is trying to be set on a copy of a slice from a DataFrame.\n",
      "Try using .loc[row_indexer,col_indexer] = value instead\n",
      "\n",
      "See the caveats in the documentation: https://pandas.pydata.org/pandas-docs/stable/user_guide/indexing.html#returning-a-view-versus-a-copy\n",
      "  self.obj[item_labels[indexer[info_axis]]] = value\n"
     ]
    },
    {
     "name": "stdout",
     "output_type": "stream",
     "text": [
      "animal name: ID181106CreN\n"
     ]
    },
    {
     "name": "stderr",
     "output_type": "stream",
     "text": [
      "/opt/conda/lib/python3.8/site-packages/pandas/core/indexing.py:1843: SettingWithCopyWarning: \n",
      "A value is trying to be set on a copy of a slice from a DataFrame.\n",
      "Try using .loc[row_indexer,col_indexer] = value instead\n",
      "\n",
      "See the caveats in the documentation: https://pandas.pydata.org/pandas-docs/stable/user_guide/indexing.html#returning-a-view-versus-a-copy\n",
      "  self.obj[item_labels[indexer[info_axis]]] = value\n"
     ]
    },
    {
     "name": "stdout",
     "output_type": "stream",
     "text": [
      "animal name: ID181106CreQ\n"
     ]
    },
    {
     "name": "stderr",
     "output_type": "stream",
     "text": [
      "/opt/conda/lib/python3.8/site-packages/pandas/core/indexing.py:1843: SettingWithCopyWarning: \n",
      "A value is trying to be set on a copy of a slice from a DataFrame.\n",
      "Try using .loc[row_indexer,col_indexer] = value instead\n",
      "\n",
      "See the caveats in the documentation: https://pandas.pydata.org/pandas-docs/stable/user_guide/indexing.html#returning-a-view-versus-a-copy\n",
      "  self.obj[item_labels[indexer[info_axis]]] = value\n"
     ]
    }
   ],
   "source": [
    "for animal_name in animal_names:\n",
    "    print('animal name: %s' % animal_name)\n",
    "    origin_file_path = './resources/%s_Longitudinal_Traces.csv' % animal_name\n",
    "    csv = CaImageCSV(origin_file_path)\n",
    "    \n",
    "    for context_name in const.CONTEXTS:\n",
    "        calculator = CalculateEventRate(animal_name, context_name, csv.engrams, threshold=0.05)\n",
    "        calculator.calc_event_rate()\n",
    "        \n",
    "        event_rates.at[animal_name, context_name] = calculator.event_rate\n",
    "        engram_event_rates.at[animal_name, context_name] = calculator.engram_event_rate\n",
    "        non_engram_event_rates.at[animal_name, context_name] = calculator.non_engram_event_rate"
   ]
  },
  {
   "cell_type": "code",
   "execution_count": 4,
   "id": "b35c6e49",
   "metadata": {},
   "outputs": [
    {
     "data": {
      "text/html": [
       "<div>\n",
       "<style scoped>\n",
       "    .dataframe tbody tr th:only-of-type {\n",
       "        vertical-align: middle;\n",
       "    }\n",
       "\n",
       "    .dataframe tbody tr th {\n",
       "        vertical-align: top;\n",
       "    }\n",
       "\n",
       "    .dataframe thead th {\n",
       "        text-align: right;\n",
       "    }\n",
       "</style>\n",
       "<table border=\"1\" class=\"dataframe\">\n",
       "  <thead>\n",
       "    <tr style=\"text-align: right;\">\n",
       "      <th></th>\n",
       "      <th>HC1</th>\n",
       "      <th>A1preES</th>\n",
       "      <th>A1postES</th>\n",
       "      <th>HC2</th>\n",
       "      <th>HC3</th>\n",
       "      <th>A2_1</th>\n",
       "      <th>A2_2</th>\n",
       "      <th>A3_1</th>\n",
       "      <th>A3_2</th>\n",
       "      <th>B1</th>\n",
       "      <th>HC4</th>\n",
       "      <th>A4preES</th>\n",
       "      <th>A4postES</th>\n",
       "      <th>HC5</th>\n",
       "      <th>HC6</th>\n",
       "      <th>A5</th>\n",
       "      <th>B2</th>\n",
       "    </tr>\n",
       "  </thead>\n",
       "  <tbody>\n",
       "    <tr>\n",
       "      <th>ID181106CreA</th>\n",
       "      <td>0.81798</td>\n",
       "      <td>0.874519</td>\n",
       "      <td>1.004991</td>\n",
       "      <td>0.876153</td>\n",
       "      <td>0.643177</td>\n",
       "      <td>0.643889</td>\n",
       "      <td>1.03399</td>\n",
       "      <td>0.609973</td>\n",
       "      <td>0.86329</td>\n",
       "      <td>0.840771</td>\n",
       "      <td>0.536528</td>\n",
       "      <td>1.041289</td>\n",
       "      <td>1.006417</td>\n",
       "      <td>0.640868</td>\n",
       "      <td>0.534706</td>\n",
       "      <td>1.315869</td>\n",
       "      <td>0.779773</td>\n",
       "    </tr>\n",
       "    <tr>\n",
       "      <th>ID181106CreB</th>\n",
       "      <td>0.870306</td>\n",
       "      <td>1.150598</td>\n",
       "      <td>1.291262</td>\n",
       "      <td>1.060107</td>\n",
       "      <td>0.957033</td>\n",
       "      <td>1.094371</td>\n",
       "      <td>1.244121</td>\n",
       "      <td>1.002692</td>\n",
       "      <td>1.107842</td>\n",
       "      <td>1.03265</td>\n",
       "      <td>0.90896</td>\n",
       "      <td>1.133037</td>\n",
       "      <td>1.180985</td>\n",
       "      <td>1.034735</td>\n",
       "      <td>0.877938</td>\n",
       "      <td>1.326441</td>\n",
       "      <td>1.224878</td>\n",
       "    </tr>\n",
       "    <tr>\n",
       "      <th>ID181106CreC</th>\n",
       "      <td>0.847137</td>\n",
       "      <td>1.151331</td>\n",
       "      <td>1.275759</td>\n",
       "      <td>0.999067</td>\n",
       "      <td>0.849179</td>\n",
       "      <td>1.155987</td>\n",
       "      <td>1.242026</td>\n",
       "      <td>1.124091</td>\n",
       "      <td>1.337928</td>\n",
       "      <td>1.11371</td>\n",
       "      <td>0.854646</td>\n",
       "      <td>1.476603</td>\n",
       "      <td>1.616296</td>\n",
       "      <td>1.062768</td>\n",
       "      <td>0.889778</td>\n",
       "      <td>1.447186</td>\n",
       "      <td>1.138035</td>\n",
       "    </tr>\n",
       "    <tr>\n",
       "      <th>ID181106CreG</th>\n",
       "      <td>1.011988</td>\n",
       "      <td>0.975</td>\n",
       "      <td>1.176374</td>\n",
       "      <td>0.949627</td>\n",
       "      <td>0.870504</td>\n",
       "      <td>0.92994</td>\n",
       "      <td>1.082509</td>\n",
       "      <td>0.970593</td>\n",
       "      <td>1.287787</td>\n",
       "      <td>0.833229</td>\n",
       "      <td>0.822249</td>\n",
       "      <td>1.002915</td>\n",
       "      <td>1.106259</td>\n",
       "      <td>0.894342</td>\n",
       "      <td>0.9582</td>\n",
       "      <td>1.303404</td>\n",
       "      <td>0.796217</td>\n",
       "    </tr>\n",
       "    <tr>\n",
       "      <th>ID181106CreH</th>\n",
       "      <td>0.393029</td>\n",
       "      <td>0.832823</td>\n",
       "      <td>1.059495</td>\n",
       "      <td>0.675488</td>\n",
       "      <td>0.661906</td>\n",
       "      <td>0.550978</td>\n",
       "      <td>0.822908</td>\n",
       "      <td>0.574327</td>\n",
       "      <td>0.883972</td>\n",
       "      <td>0.800179</td>\n",
       "      <td>0.563027</td>\n",
       "      <td>0.829703</td>\n",
       "      <td>0.952986</td>\n",
       "      <td>0.568336</td>\n",
       "      <td>0.557782</td>\n",
       "      <td>1.071895</td>\n",
       "      <td>0.591763</td>\n",
       "    </tr>\n",
       "    <tr>\n",
       "      <th>ID181106CreI</th>\n",
       "      <td>0.712935</td>\n",
       "      <td>0.882601</td>\n",
       "      <td>0.99673</td>\n",
       "      <td>0.8803</td>\n",
       "      <td>0.670208</td>\n",
       "      <td>0.692812</td>\n",
       "      <td>1.124061</td>\n",
       "      <td>0.726563</td>\n",
       "      <td>1.172251</td>\n",
       "      <td>1.071916</td>\n",
       "      <td>0.607601</td>\n",
       "      <td>1.22323</td>\n",
       "      <td>1.105896</td>\n",
       "      <td>0.764476</td>\n",
       "      <td>0.526559</td>\n",
       "      <td>1.235219</td>\n",
       "      <td>0.669119</td>\n",
       "    </tr>\n",
       "    <tr>\n",
       "      <th>ID181106CreK</th>\n",
       "      <td>0.72828</td>\n",
       "      <td>1.063494</td>\n",
       "      <td>1.099272</td>\n",
       "      <td>1.070028</td>\n",
       "      <td>0.731794</td>\n",
       "      <td>0.911993</td>\n",
       "      <td>1.082035</td>\n",
       "      <td>0.905502</td>\n",
       "      <td>1.085007</td>\n",
       "      <td>1.130679</td>\n",
       "      <td>0.729416</td>\n",
       "      <td>1.203162</td>\n",
       "      <td>1.196767</td>\n",
       "      <td>0.988643</td>\n",
       "      <td>0.731982</td>\n",
       "      <td>1.166895</td>\n",
       "      <td>1.094156</td>\n",
       "    </tr>\n",
       "    <tr>\n",
       "      <th>ID181106CreL</th>\n",
       "      <td>0.745939</td>\n",
       "      <td>1.011381</td>\n",
       "      <td>1.225103</td>\n",
       "      <td>0.919023</td>\n",
       "      <td>0.703174</td>\n",
       "      <td>0.944479</td>\n",
       "      <td>1.087917</td>\n",
       "      <td>0.904078</td>\n",
       "      <td>1.165644</td>\n",
       "      <td>1.051215</td>\n",
       "      <td>0.790261</td>\n",
       "      <td>1.082397</td>\n",
       "      <td>1.062524</td>\n",
       "      <td>0.845444</td>\n",
       "      <td>0.718918</td>\n",
       "      <td>1.08742</td>\n",
       "      <td>0.955137</td>\n",
       "    </tr>\n",
       "    <tr>\n",
       "      <th>ID181106CreN</th>\n",
       "      <td>0.7756</td>\n",
       "      <td>1.160685</td>\n",
       "      <td>1.116452</td>\n",
       "      <td>0.889189</td>\n",
       "      <td>0.778009</td>\n",
       "      <td>0.848181</td>\n",
       "      <td>1.093644</td>\n",
       "      <td>0.837742</td>\n",
       "      <td>1.085468</td>\n",
       "      <td>1.121746</td>\n",
       "      <td>0.705257</td>\n",
       "      <td>1.027489</td>\n",
       "      <td>1.294388</td>\n",
       "      <td>0.784712</td>\n",
       "      <td>0.669975</td>\n",
       "      <td>1.231495</td>\n",
       "      <td>1.109447</td>\n",
       "    </tr>\n",
       "    <tr>\n",
       "      <th>ID181106CreQ</th>\n",
       "      <td>0.895424</td>\n",
       "      <td>1.141987</td>\n",
       "      <td>1.163668</td>\n",
       "      <td>0.982151</td>\n",
       "      <td>0.838514</td>\n",
       "      <td>0.937236</td>\n",
       "      <td>1.16048</td>\n",
       "      <td>0.930205</td>\n",
       "      <td>1.167379</td>\n",
       "      <td>1.164914</td>\n",
       "      <td>0.84473</td>\n",
       "      <td>1.123463</td>\n",
       "      <td>0.995612</td>\n",
       "      <td>0.901861</td>\n",
       "      <td>0.746811</td>\n",
       "      <td>1.119548</td>\n",
       "      <td>0.946694</td>\n",
       "    </tr>\n",
       "  </tbody>\n",
       "</table>\n",
       "</div>"
      ],
      "text/plain": [
       "                   HC1   A1preES  A1postES       HC2       HC3      A2_1  \\\n",
       "ID181106CreA   0.81798  0.874519  1.004991  0.876153  0.643177  0.643889   \n",
       "ID181106CreB  0.870306  1.150598  1.291262  1.060107  0.957033  1.094371   \n",
       "ID181106CreC  0.847137  1.151331  1.275759  0.999067  0.849179  1.155987   \n",
       "ID181106CreG  1.011988     0.975  1.176374  0.949627  0.870504   0.92994   \n",
       "ID181106CreH  0.393029  0.832823  1.059495  0.675488  0.661906  0.550978   \n",
       "ID181106CreI  0.712935  0.882601   0.99673    0.8803  0.670208  0.692812   \n",
       "ID181106CreK   0.72828  1.063494  1.099272  1.070028  0.731794  0.911993   \n",
       "ID181106CreL  0.745939  1.011381  1.225103  0.919023  0.703174  0.944479   \n",
       "ID181106CreN    0.7756  1.160685  1.116452  0.889189  0.778009  0.848181   \n",
       "ID181106CreQ  0.895424  1.141987  1.163668  0.982151  0.838514  0.937236   \n",
       "\n",
       "                  A2_2      A3_1      A3_2        B1       HC4   A4preES  \\\n",
       "ID181106CreA   1.03399  0.609973   0.86329  0.840771  0.536528  1.041289   \n",
       "ID181106CreB  1.244121  1.002692  1.107842   1.03265   0.90896  1.133037   \n",
       "ID181106CreC  1.242026  1.124091  1.337928   1.11371  0.854646  1.476603   \n",
       "ID181106CreG  1.082509  0.970593  1.287787  0.833229  0.822249  1.002915   \n",
       "ID181106CreH  0.822908  0.574327  0.883972  0.800179  0.563027  0.829703   \n",
       "ID181106CreI  1.124061  0.726563  1.172251  1.071916  0.607601   1.22323   \n",
       "ID181106CreK  1.082035  0.905502  1.085007  1.130679  0.729416  1.203162   \n",
       "ID181106CreL  1.087917  0.904078  1.165644  1.051215  0.790261  1.082397   \n",
       "ID181106CreN  1.093644  0.837742  1.085468  1.121746  0.705257  1.027489   \n",
       "ID181106CreQ   1.16048  0.930205  1.167379  1.164914   0.84473  1.123463   \n",
       "\n",
       "              A4postES       HC5       HC6        A5        B2  \n",
       "ID181106CreA  1.006417  0.640868  0.534706  1.315869  0.779773  \n",
       "ID181106CreB  1.180985  1.034735  0.877938  1.326441  1.224878  \n",
       "ID181106CreC  1.616296  1.062768  0.889778  1.447186  1.138035  \n",
       "ID181106CreG  1.106259  0.894342    0.9582  1.303404  0.796217  \n",
       "ID181106CreH  0.952986  0.568336  0.557782  1.071895  0.591763  \n",
       "ID181106CreI  1.105896  0.764476  0.526559  1.235219  0.669119  \n",
       "ID181106CreK  1.196767  0.988643  0.731982  1.166895  1.094156  \n",
       "ID181106CreL  1.062524  0.845444  0.718918   1.08742  0.955137  \n",
       "ID181106CreN  1.294388  0.784712  0.669975  1.231495  1.109447  \n",
       "ID181106CreQ  0.995612  0.901861  0.746811  1.119548  0.946694  "
      ]
     },
     "execution_count": 4,
     "metadata": {},
     "output_type": "execute_result"
    }
   ],
   "source": [
    "event_rates"
   ]
  },
  {
   "cell_type": "code",
   "execution_count": 5,
   "id": "7332d8bf",
   "metadata": {},
   "outputs": [
    {
     "data": {
      "text/plain": [
       "Index(['HC1', 'A1preES', 'A1postES', 'HC2', 'HC3', 'A2_1', 'A2_2', 'A3_1',\n",
       "       'A3_2', 'B1', 'HC4', 'A4preES', 'A4postES', 'HC5', 'HC6', 'A5', 'B2'],\n",
       "      dtype='object')"
      ]
     },
     "execution_count": 5,
     "metadata": {},
     "output_type": "execute_result"
    }
   ],
   "source": [
    "event_rates.columns"
   ]
  },
  {
   "cell_type": "code",
   "execution_count": 6,
   "id": "e7669658",
   "metadata": {},
   "outputs": [],
   "source": [
    "save_dir = './resources/event_rates/oasis_by_cells/'\n",
    "os.makedirs(save_dir, exist_ok=True)\n",
    "event_rates.to_csv('%sall_event_rates_threshold005.csv' % save_dir)\n",
    "engram_event_rates.to_csv('%sengram_event_rates_threshold005.csv' % save_dir)\n",
    "non_engram_event_rates.to_csv('%snon_engram_event_rates_threshold005.csv' % save_dir)"
   ]
  },
  {
   "cell_type": "code",
   "execution_count": 7,
   "id": "5e3661d9",
   "metadata": {},
   "outputs": [],
   "source": [
    "all_statics = f_oneway(*(event_rates.to_numpy()).T)\n",
    "engram_statics = f_oneway(*(engram_event_rates.to_numpy()).T)\n",
    "non_engram_statics = f_oneway(*(non_engram_event_rates.to_numpy()).T)"
   ]
  },
  {
   "cell_type": "code",
   "execution_count": 8,
   "id": "06c31769",
   "metadata": {},
   "outputs": [
    {
     "data": {
      "text/plain": [
       "F_onewayResult(statistic=11.427166075675299, pvalue=5.043410245478904e-19)"
      ]
     },
     "execution_count": 8,
     "metadata": {},
     "output_type": "execute_result"
    }
   ],
   "source": [
    "all_statics"
   ]
  },
  {
   "cell_type": "code",
   "execution_count": 9,
   "id": "ce98639c",
   "metadata": {},
   "outputs": [
    {
     "data": {
      "text/plain": [
       "HC1         0.779862\n",
       "A1preES     1.024442\n",
       "A1postES    1.140911\n",
       "HC2         0.930113\n",
       "HC3         0.770350\n",
       "A2_1        0.870987\n",
       "A2_2        1.097369\n",
       "A3_1        0.858577\n",
       "A3_2        1.115657\n",
       "B1          1.016101\n",
       "HC4         0.736267\n",
       "A4preES     1.114329\n",
       "A4postES    1.151813\n",
       "HC5         0.848619\n",
       "HC6         0.721265\n",
       "A5          1.230537\n",
       "B2          0.930522\n",
       "dtype: float64"
      ]
     },
     "execution_count": 9,
     "metadata": {},
     "output_type": "execute_result"
    }
   ],
   "source": [
    "np.mean(event_rates)"
   ]
  },
  {
   "cell_type": "code",
   "execution_count": 10,
   "id": "0f377da1",
   "metadata": {},
   "outputs": [
    {
     "data": {
      "text/plain": [
       "HC1         0.596329\n",
       "A1preES     0.902434\n",
       "A1postES    1.038283\n",
       "HC2         0.764969\n",
       "HC3         0.615702\n",
       "A2_1        0.717011\n",
       "A2_2        0.933605\n",
       "A3_1        0.683944\n",
       "A3_2        0.957210\n",
       "B1          0.939976\n",
       "HC4         0.574539\n",
       "A4preES     1.008415\n",
       "A4postES    1.055929\n",
       "HC5         0.676264\n",
       "HC6         0.594458\n",
       "A5          1.196576\n",
       "B2          0.888129\n",
       "dtype: float64"
      ]
     },
     "execution_count": 10,
     "metadata": {},
     "output_type": "execute_result"
    }
   ],
   "source": [
    "np.mean(engram_event_rates)"
   ]
  },
  {
   "cell_type": "code",
   "execution_count": 11,
   "id": "eb097fa8",
   "metadata": {},
   "outputs": [
    {
     "data": {
      "text/plain": [
       "HC1         0.797818\n",
       "A1preES     1.035340\n",
       "A1postES    1.147229\n",
       "HC2         0.943474\n",
       "HC3         0.783373\n",
       "A2_1        0.884986\n",
       "A2_2        1.111690\n",
       "A3_1        0.874525\n",
       "A3_2        1.128298\n",
       "B1          1.018655\n",
       "HC4         0.749621\n",
       "A4preES     1.126498\n",
       "A4postES    1.161931\n",
       "HC5         0.862979\n",
       "HC6         0.734297\n",
       "A5          1.234523\n",
       "B2          0.934183\n",
       "dtype: float64"
      ]
     },
     "execution_count": 11,
     "metadata": {},
     "output_type": "execute_result"
    }
   ],
   "source": [
    "np.mean(non_engram_event_rates)"
   ]
  },
  {
   "cell_type": "code",
   "execution_count": null,
   "id": "ed000da8",
   "metadata": {},
   "outputs": [],
   "source": []
  }
 ],
 "metadata": {
  "kernelspec": {
   "display_name": "Python 3",
   "language": "python",
   "name": "python3"
  },
  "language_info": {
   "codemirror_mode": {
    "name": "ipython",
    "version": 3
   },
   "file_extension": ".py",
   "mimetype": "text/x-python",
   "name": "python",
   "nbconvert_exporter": "python",
   "pygments_lexer": "ipython3",
   "version": "3.8.8"
  }
 },
 "nbformat": 4,
 "nbformat_minor": 5
}
