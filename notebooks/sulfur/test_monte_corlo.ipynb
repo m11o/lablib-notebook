{
 "cells": [
  {
   "cell_type": "code",
   "execution_count": 1,
   "id": "05e4a4ee",
   "metadata": {},
   "outputs": [],
   "source": [
    "import numpy as np\n",
    "import pandas as pd\n",
    "import matplotlib.pyplot as plt\n",
    "\n",
    "import utils.sulfur.constant as const\n",
    "\n",
    "from utils.TimeCorrelationCalculator import TimeCorrelationCalculator\n",
    "from utils.TimeCorrelationViewer import TimeCorrelationViewer\n",
    "from utils.monte_carlo_resampling_operator import MonteCarloResamplingOperator"
   ]
  },
  {
   "cell_type": "code",
   "execution_count": 2,
   "id": "eab78ab7",
   "metadata": {},
   "outputs": [
    {
     "name": "stderr",
     "output_type": "stream",
     "text": [
      "INFO:numexpr.utils:Note: NumExpr detected 12 cores but \"NUMEXPR_MAX_THREADS\" not set, so enforcing safe limit of 8.\n",
      "INFO:numexpr.utils:NumExpr defaulting to 8 threads.\n"
     ]
    },
    {
     "data": {
      "text/plain": [
       "<shuffle_time_correlation_calculator.ShuffleTimeCorrelationCalculator at 0x7fa9a48b1760>"
      ]
     },
     "execution_count": 2,
     "metadata": {},
     "output_type": "execute_result"
    }
   ],
   "source": [
    "animal_name = const.ANIMAL_NAMES[0]\n",
    "context_name = 'A1postES'\n",
    "\n",
    "calculator = TimeCorrelationCalculator(animal_name, context_name)\n",
    "result = calculator.calc(start=90, end=130)\n",
    "result[0]\n",
    "#TimeCorrelationViewer(*result).draw(title='A1postES 0-40s in %s' % animal_name)"
   ]
  },
  {
   "cell_type": "code",
   "execution_count": 3,
   "id": "95c4562a",
   "metadata": {},
   "outputs": [
    {
     "data": {
      "text/html": [
       "<div>\n",
       "<style scoped>\n",
       "    .dataframe tbody tr th:only-of-type {\n",
       "        vertical-align: middle;\n",
       "    }\n",
       "\n",
       "    .dataframe tbody tr th {\n",
       "        vertical-align: top;\n",
       "    }\n",
       "\n",
       "    .dataframe thead th {\n",
       "        text-align: right;\n",
       "    }\n",
       "</style>\n",
       "<table border=\"1\" class=\"dataframe\">\n",
       "  <thead>\n",
       "    <tr style=\"text-align: right;\">\n",
       "      <th></th>\n",
       "      <th>0</th>\n",
       "      <th>1</th>\n",
       "      <th>2</th>\n",
       "      <th>3</th>\n",
       "      <th>4</th>\n",
       "      <th>5</th>\n",
       "      <th>6</th>\n",
       "      <th>7</th>\n",
       "      <th>8</th>\n",
       "      <th>9</th>\n",
       "      <th>...</th>\n",
       "      <th>1590</th>\n",
       "      <th>1591</th>\n",
       "      <th>1592</th>\n",
       "      <th>1593</th>\n",
       "      <th>1594</th>\n",
       "      <th>1595</th>\n",
       "      <th>1596</th>\n",
       "      <th>1597</th>\n",
       "      <th>1598</th>\n",
       "      <th>1599</th>\n",
       "    </tr>\n",
       "  </thead>\n",
       "  <tbody>\n",
       "    <tr>\n",
       "      <th>0</th>\n",
       "      <td>NaN</td>\n",
       "      <td>NaN</td>\n",
       "      <td>NaN</td>\n",
       "      <td>NaN</td>\n",
       "      <td>NaN</td>\n",
       "      <td>NaN</td>\n",
       "      <td>NaN</td>\n",
       "      <td>NaN</td>\n",
       "      <td>NaN</td>\n",
       "      <td>NaN</td>\n",
       "      <td>...</td>\n",
       "      <td>NaN</td>\n",
       "      <td>NaN</td>\n",
       "      <td>NaN</td>\n",
       "      <td>NaN</td>\n",
       "      <td>NaN</td>\n",
       "      <td>NaN</td>\n",
       "      <td>NaN</td>\n",
       "      <td>NaN</td>\n",
       "      <td>NaN</td>\n",
       "      <td>NaN</td>\n",
       "    </tr>\n",
       "    <tr>\n",
       "      <th>1</th>\n",
       "      <td>NaN</td>\n",
       "      <td>NaN</td>\n",
       "      <td>NaN</td>\n",
       "      <td>NaN</td>\n",
       "      <td>NaN</td>\n",
       "      <td>NaN</td>\n",
       "      <td>NaN</td>\n",
       "      <td>NaN</td>\n",
       "      <td>NaN</td>\n",
       "      <td>NaN</td>\n",
       "      <td>...</td>\n",
       "      <td>NaN</td>\n",
       "      <td>NaN</td>\n",
       "      <td>NaN</td>\n",
       "      <td>NaN</td>\n",
       "      <td>NaN</td>\n",
       "      <td>NaN</td>\n",
       "      <td>NaN</td>\n",
       "      <td>NaN</td>\n",
       "      <td>NaN</td>\n",
       "      <td>NaN</td>\n",
       "    </tr>\n",
       "    <tr>\n",
       "      <th>2</th>\n",
       "      <td>NaN</td>\n",
       "      <td>NaN</td>\n",
       "      <td>NaN</td>\n",
       "      <td>NaN</td>\n",
       "      <td>NaN</td>\n",
       "      <td>NaN</td>\n",
       "      <td>NaN</td>\n",
       "      <td>NaN</td>\n",
       "      <td>NaN</td>\n",
       "      <td>NaN</td>\n",
       "      <td>...</td>\n",
       "      <td>NaN</td>\n",
       "      <td>NaN</td>\n",
       "      <td>NaN</td>\n",
       "      <td>NaN</td>\n",
       "      <td>NaN</td>\n",
       "      <td>NaN</td>\n",
       "      <td>NaN</td>\n",
       "      <td>NaN</td>\n",
       "      <td>NaN</td>\n",
       "      <td>NaN</td>\n",
       "    </tr>\n",
       "    <tr>\n",
       "      <th>3</th>\n",
       "      <td>NaN</td>\n",
       "      <td>NaN</td>\n",
       "      <td>NaN</td>\n",
       "      <td>NaN</td>\n",
       "      <td>NaN</td>\n",
       "      <td>NaN</td>\n",
       "      <td>NaN</td>\n",
       "      <td>NaN</td>\n",
       "      <td>NaN</td>\n",
       "      <td>NaN</td>\n",
       "      <td>...</td>\n",
       "      <td>NaN</td>\n",
       "      <td>NaN</td>\n",
       "      <td>NaN</td>\n",
       "      <td>NaN</td>\n",
       "      <td>NaN</td>\n",
       "      <td>NaN</td>\n",
       "      <td>NaN</td>\n",
       "      <td>NaN</td>\n",
       "      <td>NaN</td>\n",
       "      <td>NaN</td>\n",
       "    </tr>\n",
       "    <tr>\n",
       "      <th>4</th>\n",
       "      <td>NaN</td>\n",
       "      <td>NaN</td>\n",
       "      <td>NaN</td>\n",
       "      <td>NaN</td>\n",
       "      <td>NaN</td>\n",
       "      <td>NaN</td>\n",
       "      <td>NaN</td>\n",
       "      <td>NaN</td>\n",
       "      <td>NaN</td>\n",
       "      <td>NaN</td>\n",
       "      <td>...</td>\n",
       "      <td>NaN</td>\n",
       "      <td>NaN</td>\n",
       "      <td>NaN</td>\n",
       "      <td>NaN</td>\n",
       "      <td>NaN</td>\n",
       "      <td>NaN</td>\n",
       "      <td>NaN</td>\n",
       "      <td>NaN</td>\n",
       "      <td>NaN</td>\n",
       "      <td>NaN</td>\n",
       "    </tr>\n",
       "    <tr>\n",
       "      <th>...</th>\n",
       "      <td>...</td>\n",
       "      <td>...</td>\n",
       "      <td>...</td>\n",
       "      <td>...</td>\n",
       "      <td>...</td>\n",
       "      <td>...</td>\n",
       "      <td>...</td>\n",
       "      <td>...</td>\n",
       "      <td>...</td>\n",
       "      <td>...</td>\n",
       "      <td>...</td>\n",
       "      <td>...</td>\n",
       "      <td>...</td>\n",
       "      <td>...</td>\n",
       "      <td>...</td>\n",
       "      <td>...</td>\n",
       "      <td>...</td>\n",
       "      <td>...</td>\n",
       "      <td>...</td>\n",
       "      <td>...</td>\n",
       "      <td>...</td>\n",
       "    </tr>\n",
       "    <tr>\n",
       "      <th>995</th>\n",
       "      <td>NaN</td>\n",
       "      <td>NaN</td>\n",
       "      <td>NaN</td>\n",
       "      <td>NaN</td>\n",
       "      <td>NaN</td>\n",
       "      <td>NaN</td>\n",
       "      <td>NaN</td>\n",
       "      <td>NaN</td>\n",
       "      <td>NaN</td>\n",
       "      <td>NaN</td>\n",
       "      <td>...</td>\n",
       "      <td>NaN</td>\n",
       "      <td>NaN</td>\n",
       "      <td>NaN</td>\n",
       "      <td>NaN</td>\n",
       "      <td>NaN</td>\n",
       "      <td>NaN</td>\n",
       "      <td>NaN</td>\n",
       "      <td>NaN</td>\n",
       "      <td>NaN</td>\n",
       "      <td>NaN</td>\n",
       "    </tr>\n",
       "    <tr>\n",
       "      <th>996</th>\n",
       "      <td>NaN</td>\n",
       "      <td>NaN</td>\n",
       "      <td>NaN</td>\n",
       "      <td>NaN</td>\n",
       "      <td>NaN</td>\n",
       "      <td>NaN</td>\n",
       "      <td>NaN</td>\n",
       "      <td>NaN</td>\n",
       "      <td>NaN</td>\n",
       "      <td>NaN</td>\n",
       "      <td>...</td>\n",
       "      <td>NaN</td>\n",
       "      <td>NaN</td>\n",
       "      <td>NaN</td>\n",
       "      <td>NaN</td>\n",
       "      <td>NaN</td>\n",
       "      <td>NaN</td>\n",
       "      <td>NaN</td>\n",
       "      <td>NaN</td>\n",
       "      <td>NaN</td>\n",
       "      <td>NaN</td>\n",
       "    </tr>\n",
       "    <tr>\n",
       "      <th>997</th>\n",
       "      <td>NaN</td>\n",
       "      <td>NaN</td>\n",
       "      <td>NaN</td>\n",
       "      <td>NaN</td>\n",
       "      <td>NaN</td>\n",
       "      <td>NaN</td>\n",
       "      <td>NaN</td>\n",
       "      <td>NaN</td>\n",
       "      <td>NaN</td>\n",
       "      <td>NaN</td>\n",
       "      <td>...</td>\n",
       "      <td>NaN</td>\n",
       "      <td>NaN</td>\n",
       "      <td>NaN</td>\n",
       "      <td>NaN</td>\n",
       "      <td>NaN</td>\n",
       "      <td>NaN</td>\n",
       "      <td>NaN</td>\n",
       "      <td>NaN</td>\n",
       "      <td>NaN</td>\n",
       "      <td>NaN</td>\n",
       "    </tr>\n",
       "    <tr>\n",
       "      <th>998</th>\n",
       "      <td>NaN</td>\n",
       "      <td>NaN</td>\n",
       "      <td>NaN</td>\n",
       "      <td>NaN</td>\n",
       "      <td>NaN</td>\n",
       "      <td>NaN</td>\n",
       "      <td>NaN</td>\n",
       "      <td>NaN</td>\n",
       "      <td>NaN</td>\n",
       "      <td>NaN</td>\n",
       "      <td>...</td>\n",
       "      <td>NaN</td>\n",
       "      <td>NaN</td>\n",
       "      <td>NaN</td>\n",
       "      <td>NaN</td>\n",
       "      <td>NaN</td>\n",
       "      <td>NaN</td>\n",
       "      <td>NaN</td>\n",
       "      <td>NaN</td>\n",
       "      <td>NaN</td>\n",
       "      <td>NaN</td>\n",
       "    </tr>\n",
       "    <tr>\n",
       "      <th>999</th>\n",
       "      <td>NaN</td>\n",
       "      <td>NaN</td>\n",
       "      <td>NaN</td>\n",
       "      <td>NaN</td>\n",
       "      <td>NaN</td>\n",
       "      <td>NaN</td>\n",
       "      <td>NaN</td>\n",
       "      <td>NaN</td>\n",
       "      <td>NaN</td>\n",
       "      <td>NaN</td>\n",
       "      <td>...</td>\n",
       "      <td>NaN</td>\n",
       "      <td>NaN</td>\n",
       "      <td>NaN</td>\n",
       "      <td>NaN</td>\n",
       "      <td>NaN</td>\n",
       "      <td>NaN</td>\n",
       "      <td>NaN</td>\n",
       "      <td>NaN</td>\n",
       "      <td>NaN</td>\n",
       "      <td>NaN</td>\n",
       "    </tr>\n",
       "  </tbody>\n",
       "</table>\n",
       "<p>1000 rows × 1600 columns</p>\n",
       "</div>"
      ],
      "text/plain": [
       "    0    1    2    3    4    5    6    7    8    9     ... 1590 1591 1592  \\\n",
       "0    NaN  NaN  NaN  NaN  NaN  NaN  NaN  NaN  NaN  NaN  ...  NaN  NaN  NaN   \n",
       "1    NaN  NaN  NaN  NaN  NaN  NaN  NaN  NaN  NaN  NaN  ...  NaN  NaN  NaN   \n",
       "2    NaN  NaN  NaN  NaN  NaN  NaN  NaN  NaN  NaN  NaN  ...  NaN  NaN  NaN   \n",
       "3    NaN  NaN  NaN  NaN  NaN  NaN  NaN  NaN  NaN  NaN  ...  NaN  NaN  NaN   \n",
       "4    NaN  NaN  NaN  NaN  NaN  NaN  NaN  NaN  NaN  NaN  ...  NaN  NaN  NaN   \n",
       "..   ...  ...  ...  ...  ...  ...  ...  ...  ...  ...  ...  ...  ...  ...   \n",
       "995  NaN  NaN  NaN  NaN  NaN  NaN  NaN  NaN  NaN  NaN  ...  NaN  NaN  NaN   \n",
       "996  NaN  NaN  NaN  NaN  NaN  NaN  NaN  NaN  NaN  NaN  ...  NaN  NaN  NaN   \n",
       "997  NaN  NaN  NaN  NaN  NaN  NaN  NaN  NaN  NaN  NaN  ...  NaN  NaN  NaN   \n",
       "998  NaN  NaN  NaN  NaN  NaN  NaN  NaN  NaN  NaN  NaN  ...  NaN  NaN  NaN   \n",
       "999  NaN  NaN  NaN  NaN  NaN  NaN  NaN  NaN  NaN  NaN  ...  NaN  NaN  NaN   \n",
       "\n",
       "    1593 1594 1595 1596 1597 1598 1599  \n",
       "0    NaN  NaN  NaN  NaN  NaN  NaN  NaN  \n",
       "1    NaN  NaN  NaN  NaN  NaN  NaN  NaN  \n",
       "2    NaN  NaN  NaN  NaN  NaN  NaN  NaN  \n",
       "3    NaN  NaN  NaN  NaN  NaN  NaN  NaN  \n",
       "4    NaN  NaN  NaN  NaN  NaN  NaN  NaN  \n",
       "..   ...  ...  ...  ...  ...  ...  ...  \n",
       "995  NaN  NaN  NaN  NaN  NaN  NaN  NaN  \n",
       "996  NaN  NaN  NaN  NaN  NaN  NaN  NaN  \n",
       "997  NaN  NaN  NaN  NaN  NaN  NaN  NaN  \n",
       "998  NaN  NaN  NaN  NaN  NaN  NaN  NaN  \n",
       "999  NaN  NaN  NaN  NaN  NaN  NaN  NaN  \n",
       "\n",
       "[1000 rows x 1600 columns]"
      ]
     },
     "execution_count": 3,
     "metadata": {},
     "output_type": "execute_result"
    }
   ],
   "source": [
    "shuffle_calculator = result[0]\n",
    "df_index = list(range(len(shuffle_calculator.shuffle_dfs)))\n",
    "df_columns = list(range(len(shuffle_calculator.shuffle_dfs[0].columns) ** 2))\n",
    "df = pd.DataFrame(index=df_index, columns=df_columns)\n",
    "df"
   ]
  },
  {
   "cell_type": "code",
   "execution_count": 4,
   "id": "7911e691",
   "metadata": {},
   "outputs": [
    {
     "data": {
      "text/html": [
       "<div>\n",
       "<style scoped>\n",
       "    .dataframe tbody tr th:only-of-type {\n",
       "        vertical-align: middle;\n",
       "    }\n",
       "\n",
       "    .dataframe tbody tr th {\n",
       "        vertical-align: top;\n",
       "    }\n",
       "\n",
       "    .dataframe thead th {\n",
       "        text-align: right;\n",
       "    }\n",
       "</style>\n",
       "<table border=\"1\" class=\"dataframe\">\n",
       "  <thead>\n",
       "    <tr style=\"text-align: right;\">\n",
       "      <th></th>\n",
       "      <th>0</th>\n",
       "      <th>1</th>\n",
       "      <th>2</th>\n",
       "      <th>3</th>\n",
       "      <th>4</th>\n",
       "      <th>5</th>\n",
       "      <th>6</th>\n",
       "      <th>7</th>\n",
       "      <th>8</th>\n",
       "      <th>9</th>\n",
       "      <th>...</th>\n",
       "      <th>1590</th>\n",
       "      <th>1591</th>\n",
       "      <th>1592</th>\n",
       "      <th>1593</th>\n",
       "      <th>1594</th>\n",
       "      <th>1595</th>\n",
       "      <th>1596</th>\n",
       "      <th>1597</th>\n",
       "      <th>1598</th>\n",
       "      <th>1599</th>\n",
       "    </tr>\n",
       "  </thead>\n",
       "  <tbody>\n",
       "    <tr>\n",
       "      <th>0</th>\n",
       "      <td>0.376138</td>\n",
       "      <td>0.02271</td>\n",
       "      <td>-0.000149</td>\n",
       "      <td>-0.000108</td>\n",
       "      <td>-0.007284</td>\n",
       "      <td>-0.006658</td>\n",
       "      <td>-0.002893</td>\n",
       "      <td>0.018875</td>\n",
       "      <td>0.003472</td>\n",
       "      <td>-0.004218</td>\n",
       "      <td>...</td>\n",
       "      <td>0.007546</td>\n",
       "      <td>0.02362</td>\n",
       "      <td>-0.0022</td>\n",
       "      <td>0.086124</td>\n",
       "      <td>-0.003992</td>\n",
       "      <td>-0.006651</td>\n",
       "      <td>0.003566</td>\n",
       "      <td>-0.004613</td>\n",
       "      <td>0.001179</td>\n",
       "      <td>0.402015</td>\n",
       "    </tr>\n",
       "    <tr>\n",
       "      <th>1</th>\n",
       "      <td>0.474604</td>\n",
       "      <td>0.019179</td>\n",
       "      <td>0.000542</td>\n",
       "      <td>0.005008</td>\n",
       "      <td>-0.012158</td>\n",
       "      <td>0.008746</td>\n",
       "      <td>0.005539</td>\n",
       "      <td>0.065114</td>\n",
       "      <td>0.055529</td>\n",
       "      <td>0.050857</td>\n",
       "      <td>...</td>\n",
       "      <td>0.007334</td>\n",
       "      <td>0.055732</td>\n",
       "      <td>-0.014199</td>\n",
       "      <td>0.01135</td>\n",
       "      <td>0.032102</td>\n",
       "      <td>0.02993</td>\n",
       "      <td>-0.009906</td>\n",
       "      <td>-0.003856</td>\n",
       "      <td>0.087517</td>\n",
       "      <td>0.451763</td>\n",
       "    </tr>\n",
       "    <tr>\n",
       "      <th>2</th>\n",
       "      <td>0.495088</td>\n",
       "      <td>-0.006628</td>\n",
       "      <td>-0.010192</td>\n",
       "      <td>0.000778</td>\n",
       "      <td>0.002628</td>\n",
       "      <td>0.004541</td>\n",
       "      <td>0.007085</td>\n",
       "      <td>-0.011712</td>\n",
       "      <td>0.04336</td>\n",
       "      <td>0.054938</td>\n",
       "      <td>...</td>\n",
       "      <td>0.003414</td>\n",
       "      <td>0.006031</td>\n",
       "      <td>0.026801</td>\n",
       "      <td>0.027514</td>\n",
       "      <td>0.026773</td>\n",
       "      <td>-0.002477</td>\n",
       "      <td>-0.007346</td>\n",
       "      <td>0.030745</td>\n",
       "      <td>-0.009769</td>\n",
       "      <td>0.404895</td>\n",
       "    </tr>\n",
       "    <tr>\n",
       "      <th>3</th>\n",
       "      <td>0.549929</td>\n",
       "      <td>-0.01433</td>\n",
       "      <td>-0.012515</td>\n",
       "      <td>0.012641</td>\n",
       "      <td>-0.00403</td>\n",
       "      <td>-0.001289</td>\n",
       "      <td>-0.018645</td>\n",
       "      <td>0.010441</td>\n",
       "      <td>0.019013</td>\n",
       "      <td>0.045968</td>\n",
       "      <td>...</td>\n",
       "      <td>0.003846</td>\n",
       "      <td>0.004614</td>\n",
       "      <td>-0.008617</td>\n",
       "      <td>-0.004168</td>\n",
       "      <td>0.000724</td>\n",
       "      <td>-0.003996</td>\n",
       "      <td>0.002297</td>\n",
       "      <td>-0.004463</td>\n",
       "      <td>-0.001996</td>\n",
       "      <td>0.355346</td>\n",
       "    </tr>\n",
       "    <tr>\n",
       "      <th>4</th>\n",
       "      <td>0.537632</td>\n",
       "      <td>-0.004746</td>\n",
       "      <td>0.010851</td>\n",
       "      <td>0.007227</td>\n",
       "      <td>0.003082</td>\n",
       "      <td>-0.006511</td>\n",
       "      <td>-0.010771</td>\n",
       "      <td>-0.005207</td>\n",
       "      <td>-0.000028</td>\n",
       "      <td>0.008735</td>\n",
       "      <td>...</td>\n",
       "      <td>0.025302</td>\n",
       "      <td>0.055225</td>\n",
       "      <td>-0.008385</td>\n",
       "      <td>0.010081</td>\n",
       "      <td>0.043813</td>\n",
       "      <td>-0.007206</td>\n",
       "      <td>-0.007446</td>\n",
       "      <td>-0.001111</td>\n",
       "      <td>-0.010755</td>\n",
       "      <td>0.543525</td>\n",
       "    </tr>\n",
       "    <tr>\n",
       "      <th>...</th>\n",
       "      <td>...</td>\n",
       "      <td>...</td>\n",
       "      <td>...</td>\n",
       "      <td>...</td>\n",
       "      <td>...</td>\n",
       "      <td>...</td>\n",
       "      <td>...</td>\n",
       "      <td>...</td>\n",
       "      <td>...</td>\n",
       "      <td>...</td>\n",
       "      <td>...</td>\n",
       "      <td>...</td>\n",
       "      <td>...</td>\n",
       "      <td>...</td>\n",
       "      <td>...</td>\n",
       "      <td>...</td>\n",
       "      <td>...</td>\n",
       "      <td>...</td>\n",
       "      <td>...</td>\n",
       "      <td>...</td>\n",
       "      <td>...</td>\n",
       "    </tr>\n",
       "    <tr>\n",
       "      <th>995</th>\n",
       "      <td>0.411265</td>\n",
       "      <td>-0.009295</td>\n",
       "      <td>-0.00987</td>\n",
       "      <td>-0.001875</td>\n",
       "      <td>0.010914</td>\n",
       "      <td>0.018055</td>\n",
       "      <td>-0.009354</td>\n",
       "      <td>-0.008835</td>\n",
       "      <td>0.019652</td>\n",
       "      <td>-0.006518</td>\n",
       "      <td>...</td>\n",
       "      <td>0.006887</td>\n",
       "      <td>0.113063</td>\n",
       "      <td>0.046981</td>\n",
       "      <td>0.010903</td>\n",
       "      <td>-0.010297</td>\n",
       "      <td>0.030736</td>\n",
       "      <td>0.002925</td>\n",
       "      <td>0.135204</td>\n",
       "      <td>-0.00153</td>\n",
       "      <td>0.587579</td>\n",
       "    </tr>\n",
       "    <tr>\n",
       "      <th>996</th>\n",
       "      <td>0.486566</td>\n",
       "      <td>-0.004211</td>\n",
       "      <td>-0.007519</td>\n",
       "      <td>0.005725</td>\n",
       "      <td>0.006076</td>\n",
       "      <td>-0.000277</td>\n",
       "      <td>-0.007107</td>\n",
       "      <td>-0.001574</td>\n",
       "      <td>0.012408</td>\n",
       "      <td>0.007413</td>\n",
       "      <td>...</td>\n",
       "      <td>0.026818</td>\n",
       "      <td>0.029215</td>\n",
       "      <td>-0.01134</td>\n",
       "      <td>0.011744</td>\n",
       "      <td>-0.010811</td>\n",
       "      <td>-0.014699</td>\n",
       "      <td>0.015422</td>\n",
       "      <td>-0.002251</td>\n",
       "      <td>0.0085</td>\n",
       "      <td>0.399058</td>\n",
       "    </tr>\n",
       "    <tr>\n",
       "      <th>997</th>\n",
       "      <td>0.345886</td>\n",
       "      <td>0.034576</td>\n",
       "      <td>0.002373</td>\n",
       "      <td>0.004514</td>\n",
       "      <td>-0.013913</td>\n",
       "      <td>0.010087</td>\n",
       "      <td>-0.008044</td>\n",
       "      <td>-0.004758</td>\n",
       "      <td>0.052301</td>\n",
       "      <td>-0.003619</td>\n",
       "      <td>...</td>\n",
       "      <td>0.027629</td>\n",
       "      <td>-0.005732</td>\n",
       "      <td>-0.012633</td>\n",
       "      <td>0.038986</td>\n",
       "      <td>-0.002199</td>\n",
       "      <td>0.052584</td>\n",
       "      <td>-0.013926</td>\n",
       "      <td>0.007682</td>\n",
       "      <td>0.002412</td>\n",
       "      <td>0.345268</td>\n",
       "    </tr>\n",
       "    <tr>\n",
       "      <th>998</th>\n",
       "      <td>0.456689</td>\n",
       "      <td>0.057755</td>\n",
       "      <td>-0.005421</td>\n",
       "      <td>0.008229</td>\n",
       "      <td>0.038526</td>\n",
       "      <td>0.001664</td>\n",
       "      <td>0.025682</td>\n",
       "      <td>-0.011565</td>\n",
       "      <td>0.02442</td>\n",
       "      <td>0.074905</td>\n",
       "      <td>...</td>\n",
       "      <td>0.02749</td>\n",
       "      <td>-0.001574</td>\n",
       "      <td>0.098153</td>\n",
       "      <td>0.038892</td>\n",
       "      <td>0.002737</td>\n",
       "      <td>-0.010349</td>\n",
       "      <td>0.068985</td>\n",
       "      <td>0.052142</td>\n",
       "      <td>-0.000127</td>\n",
       "      <td>0.444263</td>\n",
       "    </tr>\n",
       "    <tr>\n",
       "      <th>999</th>\n",
       "      <td>0.34972</td>\n",
       "      <td>0.011348</td>\n",
       "      <td>-0.0134</td>\n",
       "      <td>0.01425</td>\n",
       "      <td>0.009062</td>\n",
       "      <td>-0.007065</td>\n",
       "      <td>0.067917</td>\n",
       "      <td>0.002718</td>\n",
       "      <td>-0.004085</td>\n",
       "      <td>0.032857</td>\n",
       "      <td>...</td>\n",
       "      <td>-0.005491</td>\n",
       "      <td>-0.004973</td>\n",
       "      <td>-0.001985</td>\n",
       "      <td>0.002035</td>\n",
       "      <td>0.004085</td>\n",
       "      <td>-0.007636</td>\n",
       "      <td>-0.003398</td>\n",
       "      <td>0.07961</td>\n",
       "      <td>0.002949</td>\n",
       "      <td>0.382707</td>\n",
       "    </tr>\n",
       "  </tbody>\n",
       "</table>\n",
       "<p>1000 rows × 1600 columns</p>\n",
       "</div>"
      ],
      "text/plain": [
       "         0         1         2         3         4         5         6     \\\n",
       "0    0.376138   0.02271 -0.000149 -0.000108 -0.007284 -0.006658 -0.002893   \n",
       "1    0.474604  0.019179  0.000542  0.005008 -0.012158  0.008746  0.005539   \n",
       "2    0.495088 -0.006628 -0.010192  0.000778  0.002628  0.004541  0.007085   \n",
       "3    0.549929  -0.01433 -0.012515  0.012641  -0.00403 -0.001289 -0.018645   \n",
       "4    0.537632 -0.004746  0.010851  0.007227  0.003082 -0.006511 -0.010771   \n",
       "..        ...       ...       ...       ...       ...       ...       ...   \n",
       "995  0.411265 -0.009295  -0.00987 -0.001875  0.010914  0.018055 -0.009354   \n",
       "996  0.486566 -0.004211 -0.007519  0.005725  0.006076 -0.000277 -0.007107   \n",
       "997  0.345886  0.034576  0.002373  0.004514 -0.013913  0.010087 -0.008044   \n",
       "998  0.456689  0.057755 -0.005421  0.008229  0.038526  0.001664  0.025682   \n",
       "999   0.34972  0.011348   -0.0134   0.01425  0.009062 -0.007065  0.067917   \n",
       "\n",
       "         7         8         9     ...      1590      1591      1592  \\\n",
       "0    0.018875  0.003472 -0.004218  ...  0.007546   0.02362   -0.0022   \n",
       "1    0.065114  0.055529  0.050857  ...  0.007334  0.055732 -0.014199   \n",
       "2   -0.011712   0.04336  0.054938  ...  0.003414  0.006031  0.026801   \n",
       "3    0.010441  0.019013  0.045968  ...  0.003846  0.004614 -0.008617   \n",
       "4   -0.005207 -0.000028  0.008735  ...  0.025302  0.055225 -0.008385   \n",
       "..        ...       ...       ...  ...       ...       ...       ...   \n",
       "995 -0.008835  0.019652 -0.006518  ...  0.006887  0.113063  0.046981   \n",
       "996 -0.001574  0.012408  0.007413  ...  0.026818  0.029215  -0.01134   \n",
       "997 -0.004758  0.052301 -0.003619  ...  0.027629 -0.005732 -0.012633   \n",
       "998 -0.011565   0.02442  0.074905  ...   0.02749 -0.001574  0.098153   \n",
       "999  0.002718 -0.004085  0.032857  ... -0.005491 -0.004973 -0.001985   \n",
       "\n",
       "         1593      1594      1595      1596      1597      1598      1599  \n",
       "0    0.086124 -0.003992 -0.006651  0.003566 -0.004613  0.001179  0.402015  \n",
       "1     0.01135  0.032102   0.02993 -0.009906 -0.003856  0.087517  0.451763  \n",
       "2    0.027514  0.026773 -0.002477 -0.007346  0.030745 -0.009769  0.404895  \n",
       "3   -0.004168  0.000724 -0.003996  0.002297 -0.004463 -0.001996  0.355346  \n",
       "4    0.010081  0.043813 -0.007206 -0.007446 -0.001111 -0.010755  0.543525  \n",
       "..        ...       ...       ...       ...       ...       ...       ...  \n",
       "995  0.010903 -0.010297  0.030736  0.002925  0.135204  -0.00153  0.587579  \n",
       "996  0.011744 -0.010811 -0.014699  0.015422 -0.002251    0.0085  0.399058  \n",
       "997  0.038986 -0.002199  0.052584 -0.013926  0.007682  0.002412  0.345268  \n",
       "998  0.038892  0.002737 -0.010349  0.068985  0.052142 -0.000127  0.444263  \n",
       "999  0.002035  0.004085 -0.007636 -0.003398   0.07961  0.002949  0.382707  \n",
       "\n",
       "[1000 rows x 1600 columns]"
      ]
     },
     "execution_count": 4,
     "metadata": {},
     "output_type": "execute_result"
    }
   ],
   "source": [
    "for index, shuffle_df in enumerate(shuffle_calculator.shuffle_dfs):\n",
    "    df.iloc[index, :] = shuffle_df.to_numpy().ravel()\n",
    "    \n",
    "df"
   ]
  },
  {
   "cell_type": "code",
   "execution_count": 5,
   "id": "706be8b7",
   "metadata": {},
   "outputs": [
    {
     "data": {
      "text/plain": [
       "(array([  6.,   2.,  15.,  48.,  50.,  87., 112., 113., 129., 111.,  87.,\n",
       "         76.,  58.,  35.,  39.,  15.,   8.,   6.,   1.,   2.]),\n",
       " array([0.289600218635198, 0.30845781558761404, 0.32731541254003,\n",
       "        0.346173009492446, 0.36503060644486196, 0.38388820339727797,\n",
       "        0.402745800349694, 0.42160339730210994, 0.44046099425452595,\n",
       "        0.45931859120694196, 0.4781761881593579, 0.49703378511177393,\n",
       "        0.5158913820641899, 0.5347489790166059, 0.5536065759690219,\n",
       "        0.5724641729214379, 0.5913217698738539, 0.6101793668262698,\n",
       "        0.6290369637786859, 0.6478945607311019, 0.6667521576835178],\n",
       "       dtype=object),\n",
       " <BarContainer object of 20 artists>)"
      ]
     },
     "execution_count": 5,
     "metadata": {},
     "output_type": "execute_result"
    },
    {
     "data": {
      "image/png": "[encoded data removed]",
      "text/plain": [
       "<Figure size 432x288 with 1 Axes>"
      ]
     },
     "metadata": {
      "needs_background": "light"
     },
     "output_type": "display_data"
    }
   ],
   "source": [
    "plt.hist(df.iloc[:, 0], bins=20)"
   ]
  },
  {
   "cell_type": "code",
   "execution_count": 6,
   "id": "3c268c1b",
   "metadata": {},
   "outputs": [
    {
     "data": {
      "text/plain": [
       "(array([171., 229., 166., 107., 103.,  63.,  33.,  30.,  23.,  15.,  21.,\n",
       "         13.,  10.,   3.,   2.,   6.,   0.,   1.,   1.,   3.]),\n",
       " array([-0.01802265761454341, -0.0082631483284508, 0.0014963609576418117,\n",
       "        0.011255870243734423, 0.021015379529827034, 0.03077488881591964,\n",
       "        0.04053439810201226, 0.050293907388104866, 0.060053416674197474,\n",
       "        0.06981292596029008, 0.07957243524638269, 0.08933194453247531,\n",
       "        0.09909145381856792, 0.10885096310466053, 0.11861047239075315,\n",
       "        0.12836998167684574, 0.13812949096293836, 0.14788900024903098,\n",
       "        0.15764850953512358, 0.1674080188212162, 0.17716752810730882],\n",
       "       dtype=object),\n",
       " <BarContainer object of 20 artists>)"
      ]
     },
     "execution_count": 6,
     "metadata": {},
     "output_type": "execute_result"
    },
    {
     "data": {
      "image/png": "[encoded data removed]",
      "text/plain": [
       "<Figure size 432x288 with 1 Axes>"
      ]
     },
     "metadata": {
      "needs_background": "light"
     },
     "output_type": "display_data"
    }
   ],
   "source": [
    "plt.hist(df.iloc[:, 1], bins=20)"
   ]
  },
  {
   "cell_type": "code",
   "execution_count": 7,
   "id": "60cd867b",
   "metadata": {},
   "outputs": [
    {
     "data": {
      "text/plain": [
       "(array([ 47., 231., 303., 177., 106.,  45.,  40.,  15.,  13.,   9.,   7.,\n",
       "          3.,   1.,   1.,   0.,   1.,   0.,   0.,   0.,   1.]),\n",
       " array([-0.021313229212878853, -0.01391862904575103, -0.006524028878623205,\n",
       "        0.00087057128850462, 0.008265171455632443, 0.015659771622760266,\n",
       "        0.023054371789888093, 0.030448971957015913, 0.03784357212414374,\n",
       "        0.045238172291271556, 0.05263277245839938, 0.06002737262552721,\n",
       "        0.06742197279265504, 0.07481657295978286, 0.08221117312691067,\n",
       "        0.0896057732940385, 0.09700037346116633, 0.10439497362829415,\n",
       "        0.11178957379542197, 0.11918417396254981, 0.12657877412967763],\n",
       "       dtype=object),\n",
       " <BarContainer object of 20 artists>)"
      ]
     },
     "execution_count": 7,
     "metadata": {},
     "output_type": "execute_result"
    },
    {
     "data": {
      "image/png": "[encoded data removed]",
      "text/plain": [
       "<Figure size 432x288 with 1 Axes>"
      ]
     },
     "metadata": {
      "needs_background": "light"
     },
     "output_type": "display_data"
    }
   ],
   "source": [
    "plt.hist(df.iloc[:, 2], bins=20)"
   ]
  },
  {
   "cell_type": "code",
   "execution_count": 8,
   "id": "5925b577",
   "metadata": {},
   "outputs": [
    {
     "data": {
      "text/plain": [
       "(array([130., 287., 231., 139.,  81.,  49.,  31.,  18.,  13.,  11.,   3.,\n",
       "          3.,   2.,   0.,   2.]),\n",
       " array([-0.01796841183505392, -0.0095687260447059, -0.0011690402543578816,\n",
       "        0.007230645535990135, 0.015630331326338155, 0.024030017116686175,\n",
       "        0.03242970290703419, 0.04082938869738221, 0.04922907448773023,\n",
       "        0.05762876027807824, 0.06602844606842627, 0.07442813185877428,\n",
       "        0.0828278176491223, 0.09122750343947032, 0.09962718922981834,\n",
       "        0.10802687502016634], dtype=object),\n",
       " <BarContainer object of 15 artists>)"
      ]
     },
     "execution_count": 8,
     "metadata": {},
     "output_type": "execute_result"
    },
    {
     "data": {
      "image/png": "[encoded data removed]",
      "text/plain": [
       "<Figure size 432x288 with 1 Axes>"
      ]
     },
     "metadata": {
      "needs_background": "light"
     },
     "output_type": "display_data"
    }
   ],
   "source": [
    "plt.hist(df.iloc[:, 3], bins=15)"
   ]
  },
  {
   "cell_type": "code",
   "execution_count": 9,
   "id": "9866ac91",
   "metadata": {},
   "outputs": [
    {
     "data": {
      "text/plain": [
       "(array([158., 320., 222., 126.,  71.,  51.,  16.,  13.,   7.,   8.,   2.,\n",
       "          1.,   2.,   1.,   2.]),\n",
       " array([-0.01831582425661174, -0.009793130546194056,\n",
       "        -0.0012704368357763715, 0.007252256874641313, 0.015774950585058997,\n",
       "        0.024297644295476678, 0.032820338005894366, 0.041343031716312054,\n",
       "        0.049865725426729735, 0.058388419137147415, 0.0669111128475651,\n",
       "        0.07543380655798279, 0.08395650026840047, 0.09247919397881815,\n",
       "        0.10100188768923585, 0.10952458139965351], dtype=object),\n",
       " <BarContainer object of 15 artists>)"
      ]
     },
     "execution_count": 9,
     "metadata": {},
     "output_type": "execute_result"
    },
    {
     "data": {
      "image/png": "[encoded data removed]",
      "text/plain": [
       "<Figure size 432x288 with 1 Axes>"
      ]
     },
     "metadata": {
      "needs_background": "light"
     },
     "output_type": "display_data"
    }
   ],
   "source": [
    "plt.hist(df.iloc[:, 4], bins=15)"
   ]
  },
  {
   "cell_type": "code",
   "execution_count": 10,
   "id": "2b109690",
   "metadata": {},
   "outputs": [
    {
     "data": {
      "text/plain": [
       "14.287712379549449"
      ]
     },
     "execution_count": 10,
     "metadata": {},
     "output_type": "execute_result"
    }
   ],
   "source": [
    "import math\n",
    "math.log2(10000) + 1"
   ]
  },
  {
   "cell_type": "code",
   "execution_count": 11,
   "id": "b27f828e",
   "metadata": {},
   "outputs": [
    {
     "name": "stderr",
     "output_type": "stream",
     "text": [
      "INFO:pystan:COMPILING THE C++ CODE FOR MODEL anon_model_7e28d4a1da0a810e1bb74930cb25459a NOW.\n"
     ]
    },
    {
     "data": {
      "text/plain": [
       "<pystan.model.StanModel at 0x7fa99b9dec10>"
      ]
     },
     "execution_count": 11,
     "metadata": {},
     "output_type": "execute_result"
    }
   ],
   "source": [
    "mc = MonteCarloResamplingOperator(shuffle_calculator)\n",
    "mc.model"
   ]
  },
  {
   "cell_type": "code",
   "execution_count": 12,
   "id": "e0fb026f",
   "metadata": {},
   "outputs": [
    {
     "name": "stdout",
     "output_type": "stream",
     "text": [
      "0      0.040733\n",
      "1      0.037202\n",
      "2      0.011394\n",
      "3      0.003693\n",
      "4      0.013277\n",
      "         ...   \n",
      "995    0.008727\n",
      "996    0.013812\n",
      "997    0.052599\n",
      "998    0.075777\n",
      "999    0.029371\n",
      "Name: 1, Length: 1000, dtype: object\n",
      "0.0\n"
     ]
    }
   ],
   "source": [
    "items = df.iloc[:, 1]\n",
    "item_size = len(items)\n",
    "min_value = items.min()\n",
    "items -= min_value\n",
    "print(items)\n",
    "print(items.min())\n",
    "stan_data = {\n",
    "    'N': item_size,\n",
    "    'Y': items.values.tolist()\n",
    "}\n",
    "\n",
    "fit = mc.model.sampling(data=stan_data, iter=3000, chains=3, warmup=1000)"
   ]
  },
  {
   "cell_type": "code",
   "execution_count": 13,
   "id": "780c1567",
   "metadata": {},
   "outputs": [
    {
     "data": {
      "text/plain": [
       "(array([250., 266., 157., 121.,  71.,  37.,  26.,  29.,  17.,  11.,   4.,\n",
       "          6.,   0.,   2.,   3.]),\n",
       " array([0.0, 0.013012679048123482, 0.026025358096246964,\n",
       "        0.039038037144370444, 0.05205071619249393, 0.06506339524061741,\n",
       "        0.07807607428874089, 0.09108875333686438, 0.10410143238498785,\n",
       "        0.11711411143311133, 0.13012679048123482, 0.1431394695293583,\n",
       "        0.15615214857748178, 0.16916482762560525, 0.18217750667372876,\n",
       "        0.19519018572185223], dtype=object),\n",
       " <BarContainer object of 15 artists>)"
      ]
     },
     "execution_count": 13,
     "metadata": {},
     "output_type": "execute_result"
    },
    {
     "data": {
      "image/png": "[encoded data removed]",
      "text/plain": [
       "<Figure size 432x288 with 1 Axes>"
      ]
     },
     "metadata": {
      "needs_background": "light"
     },
     "output_type": "display_data"
    }
   ],
   "source": [
    "plt.hist(items, bins=15)"
   ]
  },
  {
   "cell_type": "code",
   "execution_count": 14,
   "id": "5abf1c52",
   "metadata": {},
   "outputs": [
    {
     "name": "stderr",
     "output_type": "stream",
     "text": [
      "WARNING:pystan:Deprecation warning. PyStan plotting deprecated, use ArviZ library (Python 3.5+). `pip install arviz`; `arviz.plot_trace(fit)`)\n"
     ]
    },
    {
     "data": {
      "image/png": "[encoded data removed]",
      "text/plain": [
       "<Figure size 432x288 with 6 Axes>"
      ]
     },
     "execution_count": 14,
     "metadata": {},
     "output_type": "execute_result"
    },
    {
     "data": {
      "image/png": "[encoded data removed]",
      "text/plain": [
       "<Figure size 432x288 with 6 Axes>"
      ]
     },
     "metadata": {
      "needs_background": "light"
     },
     "output_type": "display_data"
    }
   ],
   "source": [
    "fit.plot()"
   ]
  },
  {
   "cell_type": "code",
   "execution_count": 15,
   "id": "f97d6ed9",
   "metadata": {
    "scrolled": true
   },
   "outputs": [
    {
     "data": {
      "text/plain": [
       "Inference for Stan model: anon_model_7e28d4a1da0a810e1bb74930cb25459a.\n",
       "3 chains, each with iter=3000; warmup=1000; thin=1; \n",
       "post-warmup draws per chain=2000, total post-warmup draws=6000.\n",
       "\n",
       "        mean se_mean     sd   2.5%    25%    50%    75%  97.5%  n_eff   Rhat\n",
       "shape   1.46  1.5e-3   0.06   1.34   1.42   1.46    1.5   1.57   1583    1.0\n",
       "rate   41.87    0.05   2.05   37.9  40.43  41.88  43.26  45.83   1600    1.0\n",
       "mu      0.03  1.3e-5 9.3e-4   0.03   0.03   0.03   0.04   0.04   4979    1.0\n",
       "lp__  2398.7    0.02   1.03 2396.0 2398.3 2399.0 2399.4 2399.7   2108    1.0\n",
       "\n",
       "Samples were drawn using NUTS at Sun Aug 15 23:59:07 2021.\n",
       "For each parameter, n_eff is a crude measure of effective sample size,\n",
       "and Rhat is the potential scale reduction factor on split chains (at \n",
       "convergence, Rhat=1)."
      ]
     },
     "execution_count": 15,
     "metadata": {},
     "output_type": "execute_result"
    }
   ],
   "source": [
    "fit"
   ]
  },
  {
   "cell_type": "code",
   "execution_count": 16,
   "id": "cd5122c0",
   "metadata": {},
   "outputs": [
    {
     "data": {
      "text/plain": [
       "0.016812949493434984"
      ]
     },
     "execution_count": 16,
     "metadata": {},
     "output_type": "execute_result"
    }
   ],
   "source": [
    "np.mean(fit.extract('mu')['mu']) + min_value5"
   ]
  },
  {
   "cell_type": "code",
   "execution_count": null,
   "id": "190e1ef0",
   "metadata": {},
   "outputs": [],
   "source": [
    "resampling = mc.resampling(df)\n",
    "resampling "
   ]
  },
  {
   "cell_type": "code",
   "execution_count": null,
   "id": "cd141710",
   "metadata": {},
   "outputs": [],
   "source": [
    "resampling.reshape(40, 40)"
   ]
  },
  {
   "cell_type": "code",
   "execution_count": null,
   "id": "14f4e919",
   "metadata": {},
   "outputs": [],
   "source": []
  }
 ],
 "metadata": {
  "kernelspec": {
   "display_name": "Python 3",
   "language": "python",
   "name": "python3"
  },
  "language_info": {
   "codemirror_mode": {
    "name": "ipython",
    "version": 3
   },
   "file_extension": ".py",
   "mimetype": "text/x-python",
   "name": "python",
   "nbconvert_exporter": "python",
   "pygments_lexer": "ipython3",
   "version": "3.8.8"
  }
 },
 "nbformat": 4,
 "nbformat_minor": 5
}
