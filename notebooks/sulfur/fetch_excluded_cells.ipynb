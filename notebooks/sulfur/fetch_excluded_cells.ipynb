{
 "cells": [
  {
   "cell_type": "code",
   "execution_count": 1,
   "id": "bcaeec0c",
   "metadata": {},
   "outputs": [],
   "source": [
    "import numpy as np\n",
    "import pandas as pd\n",
    "import os\n",
    "\n",
    "from utils.CaImageCSV import CaImageCSV\n",
    "from utils.CalculateEventRate import CalculateEventRate\n",
    "import utils.sulfur.constant as const"
   ]
  },
  {
   "cell_type": "code",
   "execution_count": 2,
   "id": "416c7b68",
   "metadata": {},
   "outputs": [
    {
     "data": {
      "text/html": [
       "<div>\n",
       "<style scoped>\n",
       "    .dataframe tbody tr th:only-of-type {\n",
       "        vertical-align: middle;\n",
       "    }\n",
       "\n",
       "    .dataframe tbody tr th {\n",
       "        vertical-align: top;\n",
       "    }\n",
       "\n",
       "    .dataframe thead th {\n",
       "        text-align: right;\n",
       "    }\n",
       "</style>\n",
       "<table border=\"1\" class=\"dataframe\">\n",
       "  <thead>\n",
       "    <tr style=\"text-align: right;\">\n",
       "      <th></th>\n",
       "      <th>ID181106CreA</th>\n",
       "      <th>ID181106CreB</th>\n",
       "      <th>ID181106CreC</th>\n",
       "      <th>ID181106CreG</th>\n",
       "      <th>ID181106CreH</th>\n",
       "      <th>ID181106CreI</th>\n",
       "      <th>ID181106CreK</th>\n",
       "      <th>ID181106CreL</th>\n",
       "      <th>ID181106CreN</th>\n",
       "      <th>ID181106CreQ</th>\n",
       "    </tr>\n",
       "  </thead>\n",
       "  <tbody>\n",
       "    <tr>\n",
       "      <th>all_cells</th>\n",
       "      <td>0.0</td>\n",
       "      <td>0.0</td>\n",
       "      <td>0.0</td>\n",
       "      <td>0.0</td>\n",
       "      <td>0.0</td>\n",
       "      <td>0.0</td>\n",
       "      <td>0.0</td>\n",
       "      <td>0.0</td>\n",
       "      <td>0.0</td>\n",
       "      <td>0.0</td>\n",
       "    </tr>\n",
       "    <tr>\n",
       "      <th>excluded_cells</th>\n",
       "      <td>0.0</td>\n",
       "      <td>0.0</td>\n",
       "      <td>0.0</td>\n",
       "      <td>0.0</td>\n",
       "      <td>0.0</td>\n",
       "      <td>0.0</td>\n",
       "      <td>0.0</td>\n",
       "      <td>0.0</td>\n",
       "      <td>0.0</td>\n",
       "      <td>0.0</td>\n",
       "    </tr>\n",
       "    <tr>\n",
       "      <th>excluded_rate</th>\n",
       "      <td>0.0</td>\n",
       "      <td>0.0</td>\n",
       "      <td>0.0</td>\n",
       "      <td>0.0</td>\n",
       "      <td>0.0</td>\n",
       "      <td>0.0</td>\n",
       "      <td>0.0</td>\n",
       "      <td>0.0</td>\n",
       "      <td>0.0</td>\n",
       "      <td>0.0</td>\n",
       "    </tr>\n",
       "  </tbody>\n",
       "</table>\n",
       "</div>"
      ],
      "text/plain": [
       "                ID181106CreA  ID181106CreB  ID181106CreC  ID181106CreG  \\\n",
       "all_cells                0.0           0.0           0.0           0.0   \n",
       "excluded_cells           0.0           0.0           0.0           0.0   \n",
       "excluded_rate            0.0           0.0           0.0           0.0   \n",
       "\n",
       "                ID181106CreH  ID181106CreI  ID181106CreK  ID181106CreL  \\\n",
       "all_cells                0.0           0.0           0.0           0.0   \n",
       "excluded_cells           0.0           0.0           0.0           0.0   \n",
       "excluded_rate            0.0           0.0           0.0           0.0   \n",
       "\n",
       "                ID181106CreN  ID181106CreQ  \n",
       "all_cells                0.0           0.0  \n",
       "excluded_cells           0.0           0.0  \n",
       "excluded_rate            0.0           0.0  "
      ]
     },
     "execution_count": 2,
     "metadata": {},
     "output_type": "execute_result"
    }
   ],
   "source": [
    "animal_names = const.ANIMAL_NAMES\n",
    "data = pd.DataFrame(0.0, index=['all_cells', 'excluded_cells', 'excluded_rate'], columns=animal_names)\n",
    "data"
   ]
  },
  {
   "cell_type": "code",
   "execution_count": 3,
   "id": "9b95dd0b",
   "metadata": {},
   "outputs": [
    {
     "name": "stdout",
     "output_type": "stream",
     "text": [
      "animal_name: ID181106CreA\n"
     ]
    },
    {
     "name": "stderr",
     "output_type": "stream",
     "text": [
      "/opt/conda/lib/python3.8/site-packages/pandas/core/indexing.py:1843: SettingWithCopyWarning: \n",
      "A value is trying to be set on a copy of a slice from a DataFrame.\n",
      "Try using .loc[row_indexer,col_indexer] = value instead\n",
      "\n",
      "See the caveats in the documentation: https://pandas.pydata.org/pandas-docs/stable/user_guide/indexing.html#returning-a-view-versus-a-copy\n",
      "  self.obj[item_labels[indexer[info_axis]]] = value\n"
     ]
    },
    {
     "name": "stdout",
     "output_type": "stream",
     "text": [
      "animal_name: ID181106CreB\n"
     ]
    },
    {
     "name": "stderr",
     "output_type": "stream",
     "text": [
      "/opt/conda/lib/python3.8/site-packages/pandas/core/indexing.py:1843: SettingWithCopyWarning: \n",
      "A value is trying to be set on a copy of a slice from a DataFrame.\n",
      "Try using .loc[row_indexer,col_indexer] = value instead\n",
      "\n",
      "See the caveats in the documentation: https://pandas.pydata.org/pandas-docs/stable/user_guide/indexing.html#returning-a-view-versus-a-copy\n",
      "  self.obj[item_labels[indexer[info_axis]]] = value\n"
     ]
    },
    {
     "name": "stdout",
     "output_type": "stream",
     "text": [
      "animal_name: ID181106CreC\n"
     ]
    },
    {
     "name": "stderr",
     "output_type": "stream",
     "text": [
      "/opt/conda/lib/python3.8/site-packages/pandas/core/indexing.py:1843: SettingWithCopyWarning: \n",
      "A value is trying to be set on a copy of a slice from a DataFrame.\n",
      "Try using .loc[row_indexer,col_indexer] = value instead\n",
      "\n",
      "See the caveats in the documentation: https://pandas.pydata.org/pandas-docs/stable/user_guide/indexing.html#returning-a-view-versus-a-copy\n",
      "  self.obj[item_labels[indexer[info_axis]]] = value\n"
     ]
    },
    {
     "name": "stdout",
     "output_type": "stream",
     "text": [
      "animal_name: ID181106CreG\n"
     ]
    },
    {
     "name": "stderr",
     "output_type": "stream",
     "text": [
      "/opt/conda/lib/python3.8/site-packages/pandas/core/indexing.py:1843: SettingWithCopyWarning: \n",
      "A value is trying to be set on a copy of a slice from a DataFrame.\n",
      "Try using .loc[row_indexer,col_indexer] = value instead\n",
      "\n",
      "See the caveats in the documentation: https://pandas.pydata.org/pandas-docs/stable/user_guide/indexing.html#returning-a-view-versus-a-copy\n",
      "  self.obj[item_labels[indexer[info_axis]]] = value\n"
     ]
    },
    {
     "name": "stdout",
     "output_type": "stream",
     "text": [
      "animal_name: ID181106CreH\n"
     ]
    },
    {
     "name": "stderr",
     "output_type": "stream",
     "text": [
      "/opt/conda/lib/python3.8/site-packages/pandas/core/indexing.py:1843: SettingWithCopyWarning: \n",
      "A value is trying to be set on a copy of a slice from a DataFrame.\n",
      "Try using .loc[row_indexer,col_indexer] = value instead\n",
      "\n",
      "See the caveats in the documentation: https://pandas.pydata.org/pandas-docs/stable/user_guide/indexing.html#returning-a-view-versus-a-copy\n",
      "  self.obj[item_labels[indexer[info_axis]]] = value\n"
     ]
    },
    {
     "name": "stdout",
     "output_type": "stream",
     "text": [
      "animal_name: ID181106CreI\n"
     ]
    },
    {
     "name": "stderr",
     "output_type": "stream",
     "text": [
      "/opt/conda/lib/python3.8/site-packages/pandas/core/indexing.py:1843: SettingWithCopyWarning: \n",
      "A value is trying to be set on a copy of a slice from a DataFrame.\n",
      "Try using .loc[row_indexer,col_indexer] = value instead\n",
      "\n",
      "See the caveats in the documentation: https://pandas.pydata.org/pandas-docs/stable/user_guide/indexing.html#returning-a-view-versus-a-copy\n",
      "  self.obj[item_labels[indexer[info_axis]]] = value\n"
     ]
    },
    {
     "name": "stdout",
     "output_type": "stream",
     "text": [
      "animal_name: ID181106CreK\n"
     ]
    },
    {
     "name": "stderr",
     "output_type": "stream",
     "text": [
      "/opt/conda/lib/python3.8/site-packages/pandas/core/indexing.py:1843: SettingWithCopyWarning: \n",
      "A value is trying to be set on a copy of a slice from a DataFrame.\n",
      "Try using .loc[row_indexer,col_indexer] = value instead\n",
      "\n",
      "See the caveats in the documentation: https://pandas.pydata.org/pandas-docs/stable/user_guide/indexing.html#returning-a-view-versus-a-copy\n",
      "  self.obj[item_labels[indexer[info_axis]]] = value\n"
     ]
    },
    {
     "name": "stdout",
     "output_type": "stream",
     "text": [
      "animal_name: ID181106CreL\n"
     ]
    },
    {
     "name": "stderr",
     "output_type": "stream",
     "text": [
      "/opt/conda/lib/python3.8/site-packages/pandas/core/indexing.py:1843: SettingWithCopyWarning: \n",
      "A value is trying to be set on a copy of a slice from a DataFrame.\n",
      "Try using .loc[row_indexer,col_indexer] = value instead\n",
      "\n",
      "See the caveats in the documentation: https://pandas.pydata.org/pandas-docs/stable/user_guide/indexing.html#returning-a-view-versus-a-copy\n",
      "  self.obj[item_labels[indexer[info_axis]]] = value\n"
     ]
    },
    {
     "name": "stdout",
     "output_type": "stream",
     "text": [
      "animal_name: ID181106CreN\n"
     ]
    },
    {
     "name": "stderr",
     "output_type": "stream",
     "text": [
      "/opt/conda/lib/python3.8/site-packages/pandas/core/indexing.py:1843: SettingWithCopyWarning: \n",
      "A value is trying to be set on a copy of a slice from a DataFrame.\n",
      "Try using .loc[row_indexer,col_indexer] = value instead\n",
      "\n",
      "See the caveats in the documentation: https://pandas.pydata.org/pandas-docs/stable/user_guide/indexing.html#returning-a-view-versus-a-copy\n",
      "  self.obj[item_labels[indexer[info_axis]]] = value\n"
     ]
    },
    {
     "name": "stdout",
     "output_type": "stream",
     "text": [
      "animal_name: ID181106CreQ\n"
     ]
    },
    {
     "name": "stderr",
     "output_type": "stream",
     "text": [
      "/opt/conda/lib/python3.8/site-packages/pandas/core/indexing.py:1843: SettingWithCopyWarning: \n",
      "A value is trying to be set on a copy of a slice from a DataFrame.\n",
      "Try using .loc[row_indexer,col_indexer] = value instead\n",
      "\n",
      "See the caveats in the documentation: https://pandas.pydata.org/pandas-docs/stable/user_guide/indexing.html#returning-a-view-versus-a-copy\n",
      "  self.obj[item_labels[indexer[info_axis]]] = value\n"
     ]
    },
    {
     "data": {
      "text/html": [
       "<div>\n",
       "<style scoped>\n",
       "    .dataframe tbody tr th:only-of-type {\n",
       "        vertical-align: middle;\n",
       "    }\n",
       "\n",
       "    .dataframe tbody tr th {\n",
       "        vertical-align: top;\n",
       "    }\n",
       "\n",
       "    .dataframe thead th {\n",
       "        text-align: right;\n",
       "    }\n",
       "</style>\n",
       "<table border=\"1\" class=\"dataframe\">\n",
       "  <thead>\n",
       "    <tr style=\"text-align: right;\">\n",
       "      <th></th>\n",
       "      <th>ID181106CreA</th>\n",
       "      <th>ID181106CreB</th>\n",
       "      <th>ID181106CreC</th>\n",
       "      <th>ID181106CreG</th>\n",
       "      <th>ID181106CreH</th>\n",
       "      <th>ID181106CreI</th>\n",
       "      <th>ID181106CreK</th>\n",
       "      <th>ID181106CreL</th>\n",
       "      <th>ID181106CreN</th>\n",
       "      <th>ID181106CreQ</th>\n",
       "    </tr>\n",
       "  </thead>\n",
       "  <tbody>\n",
       "    <tr>\n",
       "      <th>all_cells</th>\n",
       "      <td>767.000000</td>\n",
       "      <td>423.000000</td>\n",
       "      <td>456.000000</td>\n",
       "      <td>770.000000</td>\n",
       "      <td>856.000000</td>\n",
       "      <td>546.000000</td>\n",
       "      <td>608.000000</td>\n",
       "      <td>784.00000</td>\n",
       "      <td>895.000000</td>\n",
       "      <td>676.000000</td>\n",
       "    </tr>\n",
       "    <tr>\n",
       "      <th>excluded_cells</th>\n",
       "      <td>604.000000</td>\n",
       "      <td>360.000000</td>\n",
       "      <td>388.000000</td>\n",
       "      <td>568.000000</td>\n",
       "      <td>521.000000</td>\n",
       "      <td>435.000000</td>\n",
       "      <td>470.000000</td>\n",
       "      <td>628.00000</td>\n",
       "      <td>740.000000</td>\n",
       "      <td>550.000000</td>\n",
       "    </tr>\n",
       "    <tr>\n",
       "      <th>excluded_rate</th>\n",
       "      <td>0.787484</td>\n",
       "      <td>0.851064</td>\n",
       "      <td>0.850877</td>\n",
       "      <td>0.737662</td>\n",
       "      <td>0.608645</td>\n",
       "      <td>0.796703</td>\n",
       "      <td>0.773026</td>\n",
       "      <td>0.80102</td>\n",
       "      <td>0.826816</td>\n",
       "      <td>0.813609</td>\n",
       "    </tr>\n",
       "  </tbody>\n",
       "</table>\n",
       "</div>"
      ],
      "text/plain": [
       "                ID181106CreA  ID181106CreB  ID181106CreC  ID181106CreG  \\\n",
       "all_cells         767.000000    423.000000    456.000000    770.000000   \n",
       "excluded_cells    604.000000    360.000000    388.000000    568.000000   \n",
       "excluded_rate       0.787484      0.851064      0.850877      0.737662   \n",
       "\n",
       "                ID181106CreH  ID181106CreI  ID181106CreK  ID181106CreL  \\\n",
       "all_cells         856.000000    546.000000    608.000000     784.00000   \n",
       "excluded_cells    521.000000    435.000000    470.000000     628.00000   \n",
       "excluded_rate       0.608645      0.796703      0.773026       0.80102   \n",
       "\n",
       "                ID181106CreN  ID181106CreQ  \n",
       "all_cells         895.000000    676.000000  \n",
       "excluded_cells    740.000000    550.000000  \n",
       "excluded_rate       0.826816      0.813609  "
      ]
     },
     "execution_count": 3,
     "metadata": {},
     "output_type": "execute_result"
    }
   ],
   "source": [
    "for animal_name in animal_names:\n",
    "    print('animal_name: %s' % animal_name)\n",
    "    origin_file_path = './resources/%s_Longitudinal_Traces.csv' % animal_name\n",
    "    csv = CaImageCSV(origin_file_path)\n",
    "    \n",
    "    excluded_cells = np.array([])\n",
    "    for context_name in const.CONTEXTS:\n",
    "        calculator = CalculateEventRate(animal_name, context_name, csv.engrams, threshold=0.05)\n",
    "        calculator.calc_event_rate()\n",
    "        \n",
    "        if data.loc['all_cells', animal_name] == 0.0:\n",
    "            data.loc['all_cells', animal_name] = len(csv.cell_names)\n",
    "            \n",
    "        excluded_cells = np.append(excluded_cells, calculator.high_event_rate_cells)\n",
    "        \n",
    "    data.loc['excluded_cells', animal_name] = len(np.unique(excluded_cells))\n",
    "    data.loc['excluded_rate', animal_name] = data.loc['excluded_cells', animal_name] / data.loc['all_cells', animal_name]\n",
    "    \n",
    "data"
   ]
  },
  {
   "cell_type": "code",
   "execution_count": 4,
   "id": "6b24853a",
   "metadata": {},
   "outputs": [],
   "source": [
    "data.to_csv('./resources/event_rates/excluded_cells_rate_more_than_005.csv')"
   ]
  },
  {
   "cell_type": "code",
   "execution_count": null,
   "id": "9dc3ff97",
   "metadata": {},
   "outputs": [],
   "source": []
  }
 ],
 "metadata": {
  "kernelspec": {
   "display_name": "Python 3",
   "language": "python",
   "name": "python3"
  },
  "language_info": {
   "codemirror_mode": {
    "name": "ipython",
    "version": 3
   },
   "file_extension": ".py",
   "mimetype": "text/x-python",
   "name": "python",
   "nbconvert_exporter": "python",
   "pygments_lexer": "ipython3",
   "version": "3.8.8"
  }
 },
 "nbformat": 4,
 "nbformat_minor": 5
}
