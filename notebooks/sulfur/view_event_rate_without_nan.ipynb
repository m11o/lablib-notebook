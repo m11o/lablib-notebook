{
 "cells": [
  {
   "cell_type": "code",
   "execution_count": 37,
   "id": "290ec806",
   "metadata": {},
   "outputs": [],
   "source": [
    "import pandas as pd\n",
    "import numpy as np\n",
    "import matplotlib.pyplot as plt\n",
    "\n",
    "from scipy.stats import ttest_ind\n",
    "\n",
    "import utils.sulfur.constant as const\n",
    "from utils.CaImageCSV import CaImageCSV\n",
    "from utils.CalculateEventRate import CalculateEventRate"
   ]
  },
  {
   "cell_type": "code",
   "execution_count": 2,
   "id": "e70f3396",
   "metadata": {},
   "outputs": [],
   "source": [
    "animal_names = const.ANIMAL_NAMES\n",
    "contexts = ['HC1', 'A1preES', 'A1postES']\n",
    "\n",
    "event_rates = pd.DataFrame(index=animal_names, columns=contexts)\n",
    "engram_event_rates = pd.DataFrame(index=animal_names, columns=contexts)\n",
    "non_engram_event_rates = pd.DataFrame(index=animal_names, columns=contexts)"
   ]
  },
  {
   "cell_type": "code",
   "execution_count": 3,
   "id": "2c891728",
   "metadata": {},
   "outputs": [
    {
     "name": "stdout",
     "output_type": "stream",
     "text": [
      "animal name: ID181106CreA\n"
     ]
    },
    {
     "name": "stderr",
     "output_type": "stream",
     "text": [
      "/opt/conda/lib/python3.8/site-packages/pandas/core/indexing.py:1843: SettingWithCopyWarning: \n",
      "A value is trying to be set on a copy of a slice from a DataFrame.\n",
      "Try using .loc[row_indexer,col_indexer] = value instead\n",
      "\n",
      "See the caveats in the documentation: https://pandas.pydata.org/pandas-docs/stable/user_guide/indexing.html#returning-a-view-versus-a-copy\n",
      "  self.obj[item_labels[indexer[info_axis]]] = value\n"
     ]
    },
    {
     "name": "stdout",
     "output_type": "stream",
     "text": [
      "context name: HC1\n",
      "context name: A1preES\n",
      "context name: A1postES\n",
      "animal name: ID181106CreB\n"
     ]
    },
    {
     "name": "stderr",
     "output_type": "stream",
     "text": [
      "/opt/conda/lib/python3.8/site-packages/pandas/core/indexing.py:1843: SettingWithCopyWarning: \n",
      "A value is trying to be set on a copy of a slice from a DataFrame.\n",
      "Try using .loc[row_indexer,col_indexer] = value instead\n",
      "\n",
      "See the caveats in the documentation: https://pandas.pydata.org/pandas-docs/stable/user_guide/indexing.html#returning-a-view-versus-a-copy\n",
      "  self.obj[item_labels[indexer[info_axis]]] = value\n"
     ]
    },
    {
     "name": "stdout",
     "output_type": "stream",
     "text": [
      "context name: HC1\n",
      "context name: A1preES\n",
      "context name: A1postES\n",
      "animal name: ID181106CreC\n"
     ]
    },
    {
     "name": "stderr",
     "output_type": "stream",
     "text": [
      "/opt/conda/lib/python3.8/site-packages/pandas/core/indexing.py:1843: SettingWithCopyWarning: \n",
      "A value is trying to be set on a copy of a slice from a DataFrame.\n",
      "Try using .loc[row_indexer,col_indexer] = value instead\n",
      "\n",
      "See the caveats in the documentation: https://pandas.pydata.org/pandas-docs/stable/user_guide/indexing.html#returning-a-view-versus-a-copy\n",
      "  self.obj[item_labels[indexer[info_axis]]] = value\n"
     ]
    },
    {
     "name": "stdout",
     "output_type": "stream",
     "text": [
      "context name: HC1\n",
      "context name: A1preES\n",
      "context name: A1postES\n",
      "animal name: ID181106CreG\n"
     ]
    },
    {
     "name": "stderr",
     "output_type": "stream",
     "text": [
      "/opt/conda/lib/python3.8/site-packages/pandas/core/indexing.py:1843: SettingWithCopyWarning: \n",
      "A value is trying to be set on a copy of a slice from a DataFrame.\n",
      "Try using .loc[row_indexer,col_indexer] = value instead\n",
      "\n",
      "See the caveats in the documentation: https://pandas.pydata.org/pandas-docs/stable/user_guide/indexing.html#returning-a-view-versus-a-copy\n",
      "  self.obj[item_labels[indexer[info_axis]]] = value\n"
     ]
    },
    {
     "name": "stdout",
     "output_type": "stream",
     "text": [
      "context name: HC1\n",
      "context name: A1preES\n",
      "context name: A1postES\n",
      "animal name: ID181106CreH\n"
     ]
    },
    {
     "name": "stderr",
     "output_type": "stream",
     "text": [
      "/opt/conda/lib/python3.8/site-packages/pandas/core/indexing.py:1843: SettingWithCopyWarning: \n",
      "A value is trying to be set on a copy of a slice from a DataFrame.\n",
      "Try using .loc[row_indexer,col_indexer] = value instead\n",
      "\n",
      "See the caveats in the documentation: https://pandas.pydata.org/pandas-docs/stable/user_guide/indexing.html#returning-a-view-versus-a-copy\n",
      "  self.obj[item_labels[indexer[info_axis]]] = value\n"
     ]
    },
    {
     "name": "stdout",
     "output_type": "stream",
     "text": [
      "context name: HC1\n",
      "context name: A1preES\n",
      "context name: A1postES\n",
      "animal name: ID181106CreI\n"
     ]
    },
    {
     "name": "stderr",
     "output_type": "stream",
     "text": [
      "/opt/conda/lib/python3.8/site-packages/pandas/core/indexing.py:1843: SettingWithCopyWarning: \n",
      "A value is trying to be set on a copy of a slice from a DataFrame.\n",
      "Try using .loc[row_indexer,col_indexer] = value instead\n",
      "\n",
      "See the caveats in the documentation: https://pandas.pydata.org/pandas-docs/stable/user_guide/indexing.html#returning-a-view-versus-a-copy\n",
      "  self.obj[item_labels[indexer[info_axis]]] = value\n"
     ]
    },
    {
     "name": "stdout",
     "output_type": "stream",
     "text": [
      "context name: HC1\n",
      "context name: A1preES\n",
      "context name: A1postES\n",
      "animal name: ID181106CreK\n"
     ]
    },
    {
     "name": "stderr",
     "output_type": "stream",
     "text": [
      "/opt/conda/lib/python3.8/site-packages/pandas/core/indexing.py:1843: SettingWithCopyWarning: \n",
      "A value is trying to be set on a copy of a slice from a DataFrame.\n",
      "Try using .loc[row_indexer,col_indexer] = value instead\n",
      "\n",
      "See the caveats in the documentation: https://pandas.pydata.org/pandas-docs/stable/user_guide/indexing.html#returning-a-view-versus-a-copy\n",
      "  self.obj[item_labels[indexer[info_axis]]] = value\n"
     ]
    },
    {
     "name": "stdout",
     "output_type": "stream",
     "text": [
      "context name: HC1\n",
      "context name: A1preES\n",
      "context name: A1postES\n",
      "animal name: ID181106CreL\n"
     ]
    },
    {
     "name": "stderr",
     "output_type": "stream",
     "text": [
      "/opt/conda/lib/python3.8/site-packages/pandas/core/indexing.py:1843: SettingWithCopyWarning: \n",
      "A value is trying to be set on a copy of a slice from a DataFrame.\n",
      "Try using .loc[row_indexer,col_indexer] = value instead\n",
      "\n",
      "See the caveats in the documentation: https://pandas.pydata.org/pandas-docs/stable/user_guide/indexing.html#returning-a-view-versus-a-copy\n",
      "  self.obj[item_labels[indexer[info_axis]]] = value\n"
     ]
    },
    {
     "name": "stdout",
     "output_type": "stream",
     "text": [
      "context name: HC1\n",
      "context name: A1preES\n",
      "context name: A1postES\n",
      "animal name: ID181106CreN\n"
     ]
    },
    {
     "name": "stderr",
     "output_type": "stream",
     "text": [
      "/opt/conda/lib/python3.8/site-packages/pandas/core/indexing.py:1843: SettingWithCopyWarning: \n",
      "A value is trying to be set on a copy of a slice from a DataFrame.\n",
      "Try using .loc[row_indexer,col_indexer] = value instead\n",
      "\n",
      "See the caveats in the documentation: https://pandas.pydata.org/pandas-docs/stable/user_guide/indexing.html#returning-a-view-versus-a-copy\n",
      "  self.obj[item_labels[indexer[info_axis]]] = value\n"
     ]
    },
    {
     "name": "stdout",
     "output_type": "stream",
     "text": [
      "context name: HC1\n",
      "context name: A1preES\n",
      "context name: A1postES\n",
      "animal name: ID181106CreQ\n"
     ]
    },
    {
     "name": "stderr",
     "output_type": "stream",
     "text": [
      "/opt/conda/lib/python3.8/site-packages/pandas/core/indexing.py:1843: SettingWithCopyWarning: \n",
      "A value is trying to be set on a copy of a slice from a DataFrame.\n",
      "Try using .loc[row_indexer,col_indexer] = value instead\n",
      "\n",
      "See the caveats in the documentation: https://pandas.pydata.org/pandas-docs/stable/user_guide/indexing.html#returning-a-view-versus-a-copy\n",
      "  self.obj[item_labels[indexer[info_axis]]] = value\n"
     ]
    },
    {
     "name": "stdout",
     "output_type": "stream",
     "text": [
      "context name: HC1\n",
      "context name: A1preES\n",
      "context name: A1postES\n"
     ]
    }
   ],
   "source": [
    "for animal_name in const.ANIMAL_NAMES:\n",
    "    print('animal name: %s' % animal_name)\n",
    "    origin_file_path = './resources/%s_Longitudinal_Traces.csv' % animal_name\n",
    "    csv = CaImageCSV(origin_file_path)\n",
    "    \n",
    "    excluded_cells = []\n",
    "    \n",
    "    for context_name in contexts:\n",
    "        print('context name: %s' % context_name)\n",
    "        calculator = CalculateEventRate(animal_name, context_name, csv.engrams, threshold=0.05)\n",
    "        calculator.calc_event_rate(excluded_cells)\n",
    "        \n",
    "        event_rates.at[animal_name, context_name] = calculator.event_rate\n",
    "        engram_event_rates.at[animal_name, context_name] = calculator.engram_event_rate\n",
    "        non_engram_event_rates.at[animal_name, context_name] = calculator.non_engram_event_rate\n",
    "        \n",
    "        if context_name == 'HC1':\n",
    "            excluded_cells = calculator.excluded_cells"
   ]
  },
  {
   "cell_type": "code",
   "execution_count": 7,
   "id": "44b5b4f7",
   "metadata": {},
   "outputs": [
    {
     "data": {
      "text/plain": [
       "HC1         0.779862\n",
       "A1preES     1.022683\n",
       "A1postES    1.137368\n",
       "dtype: float64"
      ]
     },
     "execution_count": 7,
     "metadata": {},
     "output_type": "execute_result"
    }
   ],
   "source": [
    "event_rates.mean()"
   ]
  },
  {
   "cell_type": "code",
   "execution_count": 8,
   "id": "b58fb72c",
   "metadata": {},
   "outputs": [
    {
     "data": {
      "text/plain": [
       "HC1         0.596329\n",
       "A1preES     0.897537\n",
       "A1postES    1.023076\n",
       "dtype: float64"
      ]
     },
     "execution_count": 8,
     "metadata": {},
     "output_type": "execute_result"
    }
   ],
   "source": [
    "engram_event_rates.mean()"
   ]
  },
  {
   "cell_type": "code",
   "execution_count": 9,
   "id": "f574b817",
   "metadata": {},
   "outputs": [
    {
     "data": {
      "text/plain": [
       "HC1         0.797818\n",
       "A1preES     1.034019\n",
       "A1postES    1.145858\n",
       "dtype: float64"
      ]
     },
     "execution_count": 9,
     "metadata": {},
     "output_type": "execute_result"
    }
   ],
   "source": [
    "non_engram_event_rates.mean()"
   ]
  },
  {
   "cell_type": "code",
   "execution_count": 19,
   "id": "1a0db957",
   "metadata": {},
   "outputs": [
    {
     "data": {
      "image/png": "[encoded data removed]",
      "text/plain": [
       "<Figure size 432x360 with 1 Axes>"
      ]
     },
     "metadata": {
      "needs_background": "light"
     },
     "output_type": "display_data"
    }
   ],
   "source": [
    "x = event_rates.columns.to_numpy()\n",
    "y = event_rates.mean().to_numpy()\n",
    "error = event_rates.sem().to_numpy()\n",
    "\n",
    "plt.rcParams[\"font.size\"] = 22\n",
    "plt.figure(figsize=(6, 5))\n",
    "plt.errorbar(x, y, yerr=error, capsize=2)\n",
    "plt.plot(x, y, marker=\"s\", markersize=12, markeredgewidth=3, color='royalblue')\n",
    "plt.ylim(0, 1.25)\n",
    "plt.xlim(-0.5, 2.5)\n",
    "plt.ylabel('Ca2+ Event Rate (Hz)')\n",
    "plt.tight_layout()\n",
    "plt.show()"
   ]
  },
  {
   "cell_type": "code",
   "execution_count": 34,
   "id": "f4e8970b",
   "metadata": {},
   "outputs": [
    {
     "data": {
      "image/png": "[encoded data removed]",
      "text/plain": [
       "<Figure size 720x360 with 2 Axes>"
      ]
     },
     "metadata": {
      "needs_background": "light"
     },
     "output_type": "display_data"
    }
   ],
   "source": [
    "x = event_rates.columns.to_numpy()\n",
    "y = event_rates.mean().to_numpy()\n",
    "error = event_rates.sem().to_numpy()\n",
    "\n",
    "engram_x = engram_event_rates.columns\n",
    "engram_y = engram_event_rates.mean()\n",
    "engram_err = engram_event_rates.sem()\n",
    "\n",
    "non_engram_x = non_engram_event_rates.columns\n",
    "non_engram_y = non_engram_event_rates.mean()\n",
    "non_engram_err = non_engram_event_rates.sem()\n",
    "\n",
    "plt.rcParams[\"font.size\"] = 12\n",
    "fig, aix = plt.subplots(ncols=2, figsize=(10, 5), tight_layout=True, sharey='all')\n",
    "\n",
    "aix[0].errorbar(x, y, yerr=error, capsize=2)\n",
    "aix[0].plot(x, y, marker=\"s\", markersize=12, markeredgewidth=3, color='royalblue')\n",
    "aix[0].set_ylim(0, 1.25)\n",
    "aix[0].set_ylabel('Ca2+ Event Rate (Hz)')\n",
    "aix[0].set_title('Ca2+ event rates (threshold: 0.05)')\n",
    "\n",
    "aix[1].errorbar(engram_x, engram_y, yerr=engram_err, capsize=2)\n",
    "aix[1].plot(engram_x, engram_y, marker=\"s\", markersize=12, markeredgewidth=3, label='engram cell', color='royalblue')\n",
    "\n",
    "aix[1].errorbar(non_engram_x, non_engram_y, yerr=non_engram_err, capsize=2)\n",
    "aix[1].plot(non_engram_x, non_engram_y, marker=\"s\", markersize=12, markeredgewidth=3, label='non-engram cell', color='tomato')\n",
    "aix[1].set_ylim(0, 1.25)\n",
    "aix[1].set_title('Ca2+ event rates with engram (threshold: 0.05)')\n",
    "aix[1].legend(loc='lower right')\n",
    "\n",
    "plt.show()"
   ]
  },
  {
   "cell_type": "code",
   "execution_count": 40,
   "id": "5063a879",
   "metadata": {},
   "outputs": [],
   "source": [
    "def diff_char(pvalue):\n",
    "    if pvalue <= 0.0001:\n",
    "        return '****'\n",
    "    elif pvalue <= 0.001:\n",
    "        return '***'\n",
    "    elif pvalue <= 0.01:\n",
    "        return '**'\n",
    "    elif pvalue <= 0.05:\n",
    "        return '*'\n",
    "    else:\n",
    "        return 'n.s'"
   ]
  },
  {
   "cell_type": "code",
   "execution_count": 41,
   "id": "95232f0e",
   "metadata": {},
   "outputs": [],
   "source": [
    "def view_diff_bar(diff_engram_pre, diff_engram_post, diff_non_engram_pre, diff_non_engram_post):\n",
    "    plt.figure(figsize=(10, 10))\n",
    "\n",
    "    left = np.arange(2)\n",
    "    width = 0.4\n",
    "    \n",
    "    _, pre_pvalue = ttest_ind(diff_engram_pre, diff_non_engram_pre, equal_var=False)\n",
    "    _, post_pvalue = ttest_ind(diff_engram_post, diff_non_engram_post, equal_var=False)\n",
    "    \n",
    "    print(pre_pvalue)\n",
    "    print(post_pvalue)\n",
    "    \n",
    "    pre_diff_char = diff_char(pre_pvalue)\n",
    "    post_diff_char = diff_char(post_pvalue)\n",
    "    \n",
    "    print(pre_diff_char)\n",
    "    print(post_diff_char)\n",
    "    \n",
    "    plt.bar(x=left-width, height=[diff_engram_pre.mean(), diff_engram_post.mean()], capsize=2, width=width, label='engram', color='royalblue')\n",
    "    plt.bar(x=left, height=[diff_non_engram_pre.mean(), diff_non_engram_post.mean()], capsize=2, width=width, label='non-engram', color='tomato')\n",
    "    plt.xticks([-0.2, 0.80], ['HC1 v.s A1preES', 'HC1 v.s A1postES'])\n",
    "    plt.legend()\n",
    "    plt.show()"
   ]
  },
  {
   "cell_type": "code",
   "execution_count": 42,
   "id": "062ce432",
   "metadata": {},
   "outputs": [
    {
     "name": "stdout",
     "output_type": "stream",
     "text": [
      "0.13166950458050922\n",
      "0.16021818953208047\n",
      "n.s\n",
      "n.s\n"
     ]
    },
    {
     "data": {
      "image/png": "[encoded data removed]",
      "text/plain": [
       "<Figure size 720x720 with 1 Axes>"
      ]
     },
     "metadata": {
      "needs_background": "light"
     },
     "output_type": "display_data"
    }
   ],
   "source": [
    "engram_hc1_vs_preES = engram_event_rates['A1preES'] / engram_event_rates['HC1']\n",
    "non_engram_hc1_vs_preES = non_engram_event_rates['A1preES'] / non_engram_event_rates['HC1']\n",
    "\n",
    "engram_hc1_vs_postES = engram_event_rates['A1postES'] / engram_event_rates['HC1']\n",
    "non_engram_hc1_vs_postES = non_engram_event_rates['A1postES'] / non_engram_event_rates['HC1']\n",
    "\n",
    "view_diff_bar(engram_hc1_vs_preES, engram_hc1_vs_postES, non_engram_hc1_vs_preES, non_engram_hc1_vs_postES)"
   ]
  },
  {
   "cell_type": "code",
   "execution_count": 43,
   "id": "6860d268",
   "metadata": {},
   "outputs": [
    {
     "name": "stdout",
     "output_type": "stream",
     "text": [
      "0.35611972407211256\n",
      "0.3248184479849464\n",
      "n.s\n",
      "n.s\n"
     ]
    },
    {
     "data": {
      "image/png": "[encoded data removed]",
      "text/plain": [
       "<Figure size 720x720 with 1 Axes>"
      ]
     },
     "metadata": {
      "needs_background": "light"
     },
     "output_type": "display_data"
    }
   ],
   "source": [
    "engram_hc1_vs_preES = engram_event_rates['A1preES'] - engram_event_rates['HC1']\n",
    "non_engram_hc1_vs_preES = non_engram_event_rates['A1preES'] - non_engram_event_rates['HC1']\n",
    "\n",
    "engram_hc1_vs_postES = engram_event_rates['A1postES'] - engram_event_rates['HC1']\n",
    "non_engram_hc1_vs_postES = non_engram_event_rates['A1postES'] - non_engram_event_rates['HC1']\n",
    "\n",
    "view_diff_bar(engram_hc1_vs_preES, engram_hc1_vs_postES, non_engram_hc1_vs_preES, non_engram_hc1_vs_postES)"
   ]
  },
  {
   "cell_type": "code",
   "execution_count": 45,
   "id": "9c537ee0",
   "metadata": {},
   "outputs": [
    {
     "name": "stdout",
     "output_type": "stream",
     "text": [
      "0.13166950458050922\n",
      "0.1602181895320805\n",
      "n.s\n",
      "n.s\n"
     ]
    },
    {
     "data": {
      "image/png": "[encoded data removed]",
      "text/plain": [
       "<Figure size 720x720 with 1 Axes>"
      ]
     },
     "metadata": {
      "needs_background": "light"
     },
     "output_type": "display_data"
    }
   ],
   "source": [
    "engram_hc1_vs_preES = (engram_event_rates['A1preES'] - engram_event_rates['HC1']) / engram_event_rates['HC1']\n",
    "non_engram_hc1_vs_preES = (non_engram_event_rates['A1preES'] - non_engram_event_rates['HC1']) / non_engram_event_rates['HC1']\n",
    "\n",
    "engram_hc1_vs_postES = (engram_event_rates['A1postES'] - engram_event_rates['HC1']) / engram_event_rates['HC1']\n",
    "non_engram_hc1_vs_postES = (non_engram_event_rates['A1postES'] - non_engram_event_rates['HC1']) / non_engram_event_rates['HC1']\n",
    "\n",
    "view_diff_bar(engram_hc1_vs_preES, engram_hc1_vs_postES, non_engram_hc1_vs_preES, non_engram_hc1_vs_postES)"
   ]
  },
  {
   "cell_type": "code",
   "execution_count": 46,
   "id": "98b96f92",
   "metadata": {},
   "outputs": [
    {
     "name": "stdout",
     "output_type": "stream",
     "text": [
      "0.13971825035569385\n",
      "0.13597711225789066\n",
      "n.s\n",
      "n.s\n"
     ]
    },
    {
     "data": {
      "image/png": "[encoded data removed]",
      "text/plain": [
       "<Figure size 720x720 with 1 Axes>"
      ]
     },
     "metadata": {
      "needs_background": "light"
     },
     "output_type": "display_data"
    }
   ],
   "source": [
    "engram_hc1_vs_preES = (engram_event_rates['A1preES'] - engram_event_rates['HC1']) / (engram_event_rates['A1preES'] + engram_event_rates['HC1'])\n",
    "non_engram_hc1_vs_preES = (non_engram_event_rates['A1preES'] - non_engram_event_rates['HC1']) / (non_engram_event_rates['A1preES'] + non_engram_event_rates['HC1'])\n",
    "\n",
    "engram_hc1_vs_postES = (engram_event_rates['A1postES'] - engram_event_rates['HC1']) / (engram_event_rates['A1postES'] + engram_event_rates['HC1'])\n",
    "non_engram_hc1_vs_postES = (non_engram_event_rates['A1postES'] - non_engram_event_rates['HC1']) / (non_engram_event_rates['A1postES'] + non_engram_event_rates['HC1'])\n",
    "\n",
    "view_diff_bar(engram_hc1_vs_preES, engram_hc1_vs_postES, non_engram_hc1_vs_preES, non_engram_hc1_vs_postES)"
   ]
  },
  {
   "cell_type": "code",
   "execution_count": null,
   "id": "53c12bb6",
   "metadata": {},
   "outputs": [],
   "source": []
  }
 ],
 "metadata": {
  "kernelspec": {
   "display_name": "Python 3",
   "language": "python",
   "name": "python3"
  },
  "language_info": {
   "codemirror_mode": {
    "name": "ipython",
    "version": 3
   },
   "file_extension": ".py",
   "mimetype": "text/x-python",
   "name": "python",
   "nbconvert_exporter": "python",
   "pygments_lexer": "ipython3",
   "version": "3.8.8"
  }
 },
 "nbformat": 4,
 "nbformat_minor": 5
}
