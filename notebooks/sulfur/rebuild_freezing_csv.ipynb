{
 "cells": [
  {
   "cell_type": "code",
   "execution_count": 1,
   "id": "4be47bc6",
   "metadata": {},
   "outputs": [],
   "source": [
    "import pandas as pd\n",
    "import os\n",
    "import csv\n",
    "\n",
    "import utils.sulfur.constant as const"
   ]
  },
  {
   "cell_type": "code",
   "execution_count": 2,
   "id": "bf624c2b",
   "metadata": {},
   "outputs": [
    {
     "data": {
      "text/plain": [
       "True"
      ]
     },
     "execution_count": 2,
     "metadata": {},
     "output_type": "execute_result"
    }
   ],
   "source": [
    "a = 'abc'\n",
    "'c' in a"
   ]
  },
  {
   "cell_type": "code",
   "execution_count": 3,
   "id": "64db63e0",
   "metadata": {},
   "outputs": [
    {
     "name": "stdout",
     "output_type": "stream",
     "text": [
      "animal name: ID181106CreA\n",
      "context name: A1\n",
      "context name: A2\n",
      "context name: A3\n",
      "context name: B1\n",
      "context name: A4\n",
      "context name: A5\n",
      "context name: B2\n",
      "animal name: ID181106CreB\n",
      "context name: A1\n",
      "context name: A2\n",
      "context name: A3\n",
      "context name: B1\n",
      "context name: A4\n",
      "context name: A5\n",
      "context name: B2\n",
      "animal name: ID181106CreC\n",
      "context name: A1\n",
      "context name: A2\n",
      "context name: A3\n",
      "context name: B1\n",
      "context name: A4\n",
      "context name: A5\n",
      "context name: B2\n",
      "animal name: ID181106CreG\n",
      "context name: A1\n",
      "context name: A2\n",
      "context name: A3\n",
      "context name: B1\n",
      "context name: A4\n",
      "context name: A5\n",
      "context name: B2\n",
      "animal name: ID181106CreH\n",
      "context name: A1\n",
      "context name: A2\n",
      "context name: A3\n",
      "context name: B1\n",
      "context name: A4\n",
      "context name: A5\n",
      "context name: B2\n",
      "animal name: ID181106CreI\n",
      "context name: A1\n",
      "context name: A2\n",
      "context name: A3\n",
      "context name: B1\n",
      "context name: A4\n",
      "context name: A5\n",
      "context name: B2\n",
      "animal name: ID181106CreK\n",
      "context name: A1\n",
      "context name: A2\n",
      "context name: A3\n",
      "context name: B1\n",
      "context name: A4\n",
      "context name: A5\n",
      "context name: B2\n",
      "animal name: ID181106CreL\n",
      "context name: A1\n",
      "context name: A2\n",
      "context name: A3\n",
      "context name: B1\n",
      "context name: A4\n",
      "context name: A5\n",
      "context name: B2\n",
      "animal name: ID181106CreN\n",
      "context name: A1\n",
      "context name: A2\n",
      "context name: A3\n",
      "context name: B1\n",
      "context name: A4\n",
      "context name: A5\n",
      "context name: B2\n",
      "animal name: ID181106CreQ\n",
      "context name: A1\n",
      "context name: A2\n",
      "context name: A3\n",
      "context name: B1\n",
      "context name: A4\n",
      "context name: A5\n",
      "context name: B2\n"
     ]
    }
   ],
   "source": [
    "contexts = ['A1', 'A2', 'A3', 'B1', 'A4', 'A5', 'B2']\n",
    "\n",
    "for animal_name in const.ANIMAL_NAMES:\n",
    "    print('animal name: %s' % animal_name)\n",
    "    \n",
    "    os.makedirs('./resources/freezing_data/%s/' % animal_name, exist_ok=True)\n",
    "    \n",
    "    for index, context_name in enumerate(contexts):\n",
    "        print('context name: %s' % context_name)\n",
    "        \n",
    "        file_path = './resources/freezing_data/origin/%s/%s_%s_%s_XY.txt' % (animal_name, animal_name, (index + 1), context_name)\n",
    "        txt_f = open(file_path)\n",
    "        with open('./resources/freezing_data/%s/%s.csv' % (animal_name, context_name), 'w+') as csv_f:\n",
    "            writer = csv.writer(csv_f)\n",
    "            skip = True\n",
    "            for index, rows in enumerate(txt_f):\n",
    "                if 'Slice' in rows and 'Distance' in rows and 'conseq FZ' in rows:\n",
    "                    skip = False\n",
    "                    \n",
    "                if skip:\n",
    "                    continue\n",
    "                    \n",
    "                csv_data = csv.reader([rows], delimiter='\\t')\n",
    "                for csv_row in csv_data:\n",
    "                    writer.writerow(csv_row)\n",
    "            \n",
    "        txt_f.close()"
   ]
  },
  {
   "cell_type": "code",
   "execution_count": 4,
   "id": "3dc8e24f",
   "metadata": {},
   "outputs": [
    {
     "data": {
      "text/plain": [
       "['excel', 'excel-tab', 'unix']"
      ]
     },
     "execution_count": 4,
     "metadata": {},
     "output_type": "execute_result"
    }
   ],
   "source": [
    "csv.list_dialects()"
   ]
  },
  {
   "cell_type": "code",
   "execution_count": null,
   "id": "4d16d0a5",
   "metadata": {},
   "outputs": [],
   "source": []
  }
 ],
 "metadata": {
  "kernelspec": {
   "display_name": "Python 3",
   "language": "python",
   "name": "python3"
  },
  "language_info": {
   "codemirror_mode": {
    "name": "ipython",
    "version": 3
   },
   "file_extension": ".py",
   "mimetype": "text/x-python",
   "name": "python",
   "nbconvert_exporter": "python",
   "pygments_lexer": "ipython3",
   "version": "3.8.8"
  }
 },
 "nbformat": 4,
 "nbformat_minor": 5
}
