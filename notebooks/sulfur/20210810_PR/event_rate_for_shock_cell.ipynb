{
 "cells": [
  {
   "cell_type": "code",
   "execution_count": 1,
   "id": "44e8defe",
   "metadata": {},
   "outputs": [
    {
     "name": "stderr",
     "output_type": "stream",
     "text": [
      "/app/OASIS/oasis/functions.py:13: UserWarning: Could not find cvxpy. Don't worry, you can still use OASIS, just not the slower interior point methods we compared to in the papers.\n",
      "  warn(\"Could not find cvxpy. Don't worry, you can still use OASIS, \" +\n"
     ]
    }
   ],
   "source": [
    "import numpy as np\n",
    "import pandas as pd\n",
    "import matplotlib.pyplot as plt\n",
    "import seaborn as sns\n",
    "\n",
    "from utils.context_data_csv import ContextDataCSV\n",
    "from utils.matrix_optimizer import MatrixOptimizer\n",
    "import utils.sulfur.constant as const\n",
    "\n",
    "from oasis.functions import deconvolve"
   ]
  },
  {
   "cell_type": "code",
   "execution_count": 2,
   "id": "d5671a05",
   "metadata": {},
   "outputs": [],
   "source": [
    "all_shock_cells = {\n",
    "    'ID181106CreA': ['C261', 'C305', 'C347', 'C349', 'C351', 'C371'],\n",
    "    'ID181106CreB': ['C058', 'C062', 'C089', 'C126', 'C138', 'C172'],\n",
    "    'ID181106CreC': ['C017', 'C051', 'C065', 'C112', 'C117', 'C203', 'C214', 'C227'],\n",
    "    'ID181106CreG': ['C127', 'C239', 'C270', 'C323', 'C347', 'C350', 'C399', 'C402'],\n",
    "    'ID181106CreH': ['C164', 'C180', 'C184', 'C206', 'C243', 'C253', 'C298', 'C327', 'C351', 'C534', 'C542'],\n",
    "    'ID181106CreI': ['C136', 'C197', 'C273', 'C292', 'C294', 'C306', 'C333'],\n",
    "    'ID181106CreK': ['C083', 'C088', 'C100', 'C118', 'C137', 'C149', 'C203', 'C390'],\n",
    "    'ID181106CreL': ['C200'],\n",
    "    'ID181106CreN': ['C199', 'C255', 'C258', 'C273', 'C334'],\n",
    "    'ID181106CreQ': ['C235', 'C393']\n",
    "}"
   ]
  },
  {
   "cell_type": "code",
   "execution_count": 3,
   "id": "82cbdf84",
   "metadata": {},
   "outputs": [
    {
     "name": "stdout",
     "output_type": "stream",
     "text": [
      "animal name: ID181106CreA\n",
      "context: HC1\n"
     ]
    },
    {
     "ename": "FileNotFoundError",
     "evalue": "[Errno 2] No such file or directory: './resources/context_data/ID181106CreA/HC1.csv'",
     "output_type": "error",
     "traceback": [
      "\u001b[0;31m\u001b[0m",
      "\u001b[0;31mFileNotFoundError\u001b[0mTraceback (most recent call last)",
      "\u001b[0;32m<ipython-input-3-34ce1177c44a>\u001b[0m in \u001b[0;36m<module>\u001b[0;34m\u001b[0m\n\u001b[1;32m     11\u001b[0m         \u001b[0mprint\u001b[0m\u001b[0;34m(\u001b[0m\u001b[0;34m'context: %s'\u001b[0m \u001b[0;34m%\u001b[0m \u001b[0mcontext_name\u001b[0m\u001b[0;34m)\u001b[0m\u001b[0;34m\u001b[0m\u001b[0;34m\u001b[0m\u001b[0m\n\u001b[1;32m     12\u001b[0m \u001b[0;34m\u001b[0m\u001b[0m\n\u001b[0;32m---> 13\u001b[0;31m         \u001b[0mcontext_data\u001b[0m \u001b[0;34m=\u001b[0m \u001b[0mContextDataCSV\u001b[0m\u001b[0;34m(\u001b[0m\u001b[0manimal_name\u001b[0m\u001b[0;34m,\u001b[0m \u001b[0mcontext_name\u001b[0m\u001b[0;34m)\u001b[0m\u001b[0;34m\u001b[0m\u001b[0;34m\u001b[0m\u001b[0m\n\u001b[0m\u001b[1;32m     14\u001b[0m         \u001b[0mdf\u001b[0m \u001b[0;34m=\u001b[0m \u001b[0mcontext_data\u001b[0m\u001b[0;34m.\u001b[0m\u001b[0mdata_frame\u001b[0m\u001b[0;34m\u001b[0m\u001b[0;34m\u001b[0m\u001b[0m\n\u001b[1;32m     15\u001b[0m         \u001b[0mdf\u001b[0m \u001b[0;34m=\u001b[0m \u001b[0mMatrixOptimizer\u001b[0m\u001b[0;34m(\u001b[0m\u001b[0mdf\u001b[0m\u001b[0;34m)\u001b[0m\u001b[0;34m.\u001b[0m\u001b[0mdivide_sd\u001b[0m\u001b[0;34m(\u001b[0m\u001b[0;34m)\u001b[0m\u001b[0;34m\u001b[0m\u001b[0;34m\u001b[0m\u001b[0m\n",
      "\u001b[0;32m/app/utils/context_data_csv.py\u001b[0m in \u001b[0;36m__init__\u001b[0;34m(self, animal_name, context_name, csv_file_path)\u001b[0m\n\u001b[1;32m      8\u001b[0m         \u001b[0mself\u001b[0m\u001b[0;34m.\u001b[0m\u001b[0mcsv_file_path\u001b[0m \u001b[0;34m=\u001b[0m \u001b[0mself\u001b[0m\u001b[0;34m.\u001b[0m\u001b[0m__build_csv_path\u001b[0m\u001b[0;34m(\u001b[0m\u001b[0;34m)\u001b[0m \u001b[0;32mif\u001b[0m \u001b[0mcsv_file_path\u001b[0m \u001b[0;32mis\u001b[0m \u001b[0;32mNone\u001b[0m \u001b[0;32melse\u001b[0m \u001b[0mcsv_file_path\u001b[0m\u001b[0;34m\u001b[0m\u001b[0;34m\u001b[0m\u001b[0m\n\u001b[1;32m      9\u001b[0m \u001b[0;34m\u001b[0m\u001b[0m\n\u001b[0;32m---> 10\u001b[0;31m         \u001b[0mself\u001b[0m\u001b[0;34m.\u001b[0m\u001b[0mdata_frame\u001b[0m \u001b[0;34m=\u001b[0m \u001b[0mpd\u001b[0m\u001b[0;34m.\u001b[0m\u001b[0mread_csv\u001b[0m\u001b[0;34m(\u001b[0m\u001b[0mself\u001b[0m\u001b[0;34m.\u001b[0m\u001b[0mcsv_file_path\u001b[0m\u001b[0;34m,\u001b[0m \u001b[0mheader\u001b[0m\u001b[0;34m=\u001b[0m\u001b[0;32mNone\u001b[0m\u001b[0;34m,\u001b[0m \u001b[0mindex_col\u001b[0m\u001b[0;34m=\u001b[0m\u001b[0;32mNone\u001b[0m\u001b[0;34m,\u001b[0m \u001b[0mlow_memory\u001b[0m\u001b[0;34m=\u001b[0m\u001b[0;32mFalse\u001b[0m\u001b[0;34m)\u001b[0m\u001b[0;34m\u001b[0m\u001b[0;34m\u001b[0m\u001b[0m\n\u001b[0m\u001b[1;32m     11\u001b[0m         \u001b[0mself\u001b[0m\u001b[0;34m.\u001b[0m\u001b[0mengrams\u001b[0m \u001b[0;34m=\u001b[0m \u001b[0mself\u001b[0m\u001b[0;34m.\u001b[0m\u001b[0m__load_engrams\u001b[0m\u001b[0;34m(\u001b[0m\u001b[0;34m)\u001b[0m\u001b[0;34m\u001b[0m\u001b[0;34m\u001b[0m\u001b[0m\n\u001b[1;32m     12\u001b[0m         \u001b[0mself\u001b[0m\u001b[0;34m.\u001b[0m\u001b[0mcell_names\u001b[0m \u001b[0;34m=\u001b[0m \u001b[0mlist\u001b[0m\u001b[0;34m(\u001b[0m\u001b[0mself\u001b[0m\u001b[0;34m.\u001b[0m\u001b[0mengrams\u001b[0m\u001b[0;34m.\u001b[0m\u001b[0mkeys\u001b[0m\u001b[0;34m(\u001b[0m\u001b[0;34m)\u001b[0m\u001b[0;34m)\u001b[0m\u001b[0;34m\u001b[0m\u001b[0;34m\u001b[0m\u001b[0m\n",
      "\u001b[0;32m/opt/conda/lib/python3.8/site-packages/pandas/io/parsers.py\u001b[0m in \u001b[0;36mread_csv\u001b[0;34m(filepath_or_buffer, sep, delimiter, header, names, index_col, usecols, squeeze, prefix, mangle_dupe_cols, dtype, engine, converters, true_values, false_values, skipinitialspace, skiprows, skipfooter, nrows, na_values, keep_default_na, na_filter, verbose, skip_blank_lines, parse_dates, infer_datetime_format, keep_date_col, date_parser, dayfirst, cache_dates, iterator, chunksize, compression, thousands, decimal, lineterminator, quotechar, quoting, doublequote, escapechar, comment, encoding, dialect, error_bad_lines, warn_bad_lines, delim_whitespace, low_memory, memory_map, float_precision, storage_options)\u001b[0m\n\u001b[1;32m    608\u001b[0m     \u001b[0mkwds\u001b[0m\u001b[0;34m.\u001b[0m\u001b[0mupdate\u001b[0m\u001b[0;34m(\u001b[0m\u001b[0mkwds_defaults\u001b[0m\u001b[0;34m)\u001b[0m\u001b[0;34m\u001b[0m\u001b[0;34m\u001b[0m\u001b[0m\n\u001b[1;32m    609\u001b[0m \u001b[0;34m\u001b[0m\u001b[0m\n\u001b[0;32m--> 610\u001b[0;31m     \u001b[0;32mreturn\u001b[0m \u001b[0m_read\u001b[0m\u001b[0;34m(\u001b[0m\u001b[0mfilepath_or_buffer\u001b[0m\u001b[0;34m,\u001b[0m \u001b[0mkwds\u001b[0m\u001b[0;34m)\u001b[0m\u001b[0;34m\u001b[0m\u001b[0;34m\u001b[0m\u001b[0m\n\u001b[0m\u001b[1;32m    611\u001b[0m \u001b[0;34m\u001b[0m\u001b[0m\n\u001b[1;32m    612\u001b[0m \u001b[0;34m\u001b[0m\u001b[0m\n",
      "\u001b[0;32m/opt/conda/lib/python3.8/site-packages/pandas/io/parsers.py\u001b[0m in \u001b[0;36m_read\u001b[0;34m(filepath_or_buffer, kwds)\u001b[0m\n\u001b[1;32m    460\u001b[0m \u001b[0;34m\u001b[0m\u001b[0m\n\u001b[1;32m    461\u001b[0m     \u001b[0;31m# Create the parser.\u001b[0m\u001b[0;34m\u001b[0m\u001b[0;34m\u001b[0m\u001b[0;34m\u001b[0m\u001b[0m\n\u001b[0;32m--> 462\u001b[0;31m     \u001b[0mparser\u001b[0m \u001b[0;34m=\u001b[0m \u001b[0mTextFileReader\u001b[0m\u001b[0;34m(\u001b[0m\u001b[0mfilepath_or_buffer\u001b[0m\u001b[0;34m,\u001b[0m \u001b[0;34m**\u001b[0m\u001b[0mkwds\u001b[0m\u001b[0;34m)\u001b[0m\u001b[0;34m\u001b[0m\u001b[0;34m\u001b[0m\u001b[0m\n\u001b[0m\u001b[1;32m    463\u001b[0m \u001b[0;34m\u001b[0m\u001b[0m\n\u001b[1;32m    464\u001b[0m     \u001b[0;32mif\u001b[0m \u001b[0mchunksize\u001b[0m \u001b[0;32mor\u001b[0m \u001b[0miterator\u001b[0m\u001b[0;34m:\u001b[0m\u001b[0;34m\u001b[0m\u001b[0;34m\u001b[0m\u001b[0m\n",
      "\u001b[0;32m/opt/conda/lib/python3.8/site-packages/pandas/io/parsers.py\u001b[0m in \u001b[0;36m__init__\u001b[0;34m(self, f, engine, **kwds)\u001b[0m\n\u001b[1;32m    817\u001b[0m             \u001b[0mself\u001b[0m\u001b[0;34m.\u001b[0m\u001b[0moptions\u001b[0m\u001b[0;34m[\u001b[0m\u001b[0;34m\"has_index_names\"\u001b[0m\u001b[0;34m]\u001b[0m \u001b[0;34m=\u001b[0m \u001b[0mkwds\u001b[0m\u001b[0;34m[\u001b[0m\u001b[0;34m\"has_index_names\"\u001b[0m\u001b[0;34m]\u001b[0m\u001b[0;34m\u001b[0m\u001b[0;34m\u001b[0m\u001b[0m\n\u001b[1;32m    818\u001b[0m \u001b[0;34m\u001b[0m\u001b[0m\n\u001b[0;32m--> 819\u001b[0;31m         \u001b[0mself\u001b[0m\u001b[0;34m.\u001b[0m\u001b[0m_engine\u001b[0m \u001b[0;34m=\u001b[0m \u001b[0mself\u001b[0m\u001b[0;34m.\u001b[0m\u001b[0m_make_engine\u001b[0m\u001b[0;34m(\u001b[0m\u001b[0mself\u001b[0m\u001b[0;34m.\u001b[0m\u001b[0mengine\u001b[0m\u001b[0;34m)\u001b[0m\u001b[0;34m\u001b[0m\u001b[0;34m\u001b[0m\u001b[0m\n\u001b[0m\u001b[1;32m    820\u001b[0m \u001b[0;34m\u001b[0m\u001b[0m\n\u001b[1;32m    821\u001b[0m     \u001b[0;32mdef\u001b[0m \u001b[0mclose\u001b[0m\u001b[0;34m(\u001b[0m\u001b[0mself\u001b[0m\u001b[0;34m)\u001b[0m\u001b[0;34m:\u001b[0m\u001b[0;34m\u001b[0m\u001b[0;34m\u001b[0m\u001b[0m\n",
      "\u001b[0;32m/opt/conda/lib/python3.8/site-packages/pandas/io/parsers.py\u001b[0m in \u001b[0;36m_make_engine\u001b[0;34m(self, engine)\u001b[0m\n\u001b[1;32m   1048\u001b[0m             )\n\u001b[1;32m   1049\u001b[0m         \u001b[0;31m# error: Too many arguments for \"ParserBase\"\u001b[0m\u001b[0;34m\u001b[0m\u001b[0;34m\u001b[0m\u001b[0;34m\u001b[0m\u001b[0m\n\u001b[0;32m-> 1050\u001b[0;31m         \u001b[0;32mreturn\u001b[0m \u001b[0mmapping\u001b[0m\u001b[0;34m[\u001b[0m\u001b[0mengine\u001b[0m\u001b[0;34m]\u001b[0m\u001b[0;34m(\u001b[0m\u001b[0mself\u001b[0m\u001b[0;34m.\u001b[0m\u001b[0mf\u001b[0m\u001b[0;34m,\u001b[0m \u001b[0;34m**\u001b[0m\u001b[0mself\u001b[0m\u001b[0;34m.\u001b[0m\u001b[0moptions\u001b[0m\u001b[0;34m)\u001b[0m  \u001b[0;31m# type: ignore[call-arg]\u001b[0m\u001b[0;34m\u001b[0m\u001b[0;34m\u001b[0m\u001b[0m\n\u001b[0m\u001b[1;32m   1051\u001b[0m \u001b[0;34m\u001b[0m\u001b[0m\n\u001b[1;32m   1052\u001b[0m     \u001b[0;32mdef\u001b[0m \u001b[0m_failover_to_python\u001b[0m\u001b[0;34m(\u001b[0m\u001b[0mself\u001b[0m\u001b[0;34m)\u001b[0m\u001b[0;34m:\u001b[0m\u001b[0;34m\u001b[0m\u001b[0;34m\u001b[0m\u001b[0m\n",
      "\u001b[0;32m/opt/conda/lib/python3.8/site-packages/pandas/io/parsers.py\u001b[0m in \u001b[0;36m__init__\u001b[0;34m(self, src, **kwds)\u001b[0m\n\u001b[1;32m   1865\u001b[0m \u001b[0;34m\u001b[0m\u001b[0m\n\u001b[1;32m   1866\u001b[0m         \u001b[0;31m# open handles\u001b[0m\u001b[0;34m\u001b[0m\u001b[0;34m\u001b[0m\u001b[0;34m\u001b[0m\u001b[0m\n\u001b[0;32m-> 1867\u001b[0;31m         \u001b[0mself\u001b[0m\u001b[0;34m.\u001b[0m\u001b[0m_open_handles\u001b[0m\u001b[0;34m(\u001b[0m\u001b[0msrc\u001b[0m\u001b[0;34m,\u001b[0m \u001b[0mkwds\u001b[0m\u001b[0;34m)\u001b[0m\u001b[0;34m\u001b[0m\u001b[0;34m\u001b[0m\u001b[0m\n\u001b[0m\u001b[1;32m   1868\u001b[0m         \u001b[0;32massert\u001b[0m \u001b[0mself\u001b[0m\u001b[0;34m.\u001b[0m\u001b[0mhandles\u001b[0m \u001b[0;32mis\u001b[0m \u001b[0;32mnot\u001b[0m \u001b[0;32mNone\u001b[0m\u001b[0;34m\u001b[0m\u001b[0;34m\u001b[0m\u001b[0m\n\u001b[1;32m   1869\u001b[0m         \u001b[0;32mfor\u001b[0m \u001b[0mkey\u001b[0m \u001b[0;32min\u001b[0m \u001b[0;34m(\u001b[0m\u001b[0;34m\"storage_options\"\u001b[0m\u001b[0;34m,\u001b[0m \u001b[0;34m\"encoding\"\u001b[0m\u001b[0;34m,\u001b[0m \u001b[0;34m\"memory_map\"\u001b[0m\u001b[0;34m,\u001b[0m \u001b[0;34m\"compression\"\u001b[0m\u001b[0;34m)\u001b[0m\u001b[0;34m:\u001b[0m\u001b[0;34m\u001b[0m\u001b[0;34m\u001b[0m\u001b[0m\n",
      "\u001b[0;32m/opt/conda/lib/python3.8/site-packages/pandas/io/parsers.py\u001b[0m in \u001b[0;36m_open_handles\u001b[0;34m(self, src, kwds)\u001b[0m\n\u001b[1;32m   1360\u001b[0m         \u001b[0mLet\u001b[0m \u001b[0mthe\u001b[0m \u001b[0mreaders\u001b[0m \u001b[0mopen\u001b[0m \u001b[0mIOHanldes\u001b[0m \u001b[0mafter\u001b[0m \u001b[0mthey\u001b[0m \u001b[0mare\u001b[0m \u001b[0mdone\u001b[0m \u001b[0;32mwith\u001b[0m \u001b[0mtheir\u001b[0m \u001b[0mpotential\u001b[0m \u001b[0mraises\u001b[0m\u001b[0;34m.\u001b[0m\u001b[0;34m\u001b[0m\u001b[0;34m\u001b[0m\u001b[0m\n\u001b[1;32m   1361\u001b[0m         \"\"\"\n\u001b[0;32m-> 1362\u001b[0;31m         self.handles = get_handle(\n\u001b[0m\u001b[1;32m   1363\u001b[0m             \u001b[0msrc\u001b[0m\u001b[0;34m,\u001b[0m\u001b[0;34m\u001b[0m\u001b[0;34m\u001b[0m\u001b[0m\n\u001b[1;32m   1364\u001b[0m             \u001b[0;34m\"r\"\u001b[0m\u001b[0;34m,\u001b[0m\u001b[0;34m\u001b[0m\u001b[0;34m\u001b[0m\u001b[0m\n",
      "\u001b[0;32m/opt/conda/lib/python3.8/site-packages/pandas/io/common.py\u001b[0m in \u001b[0;36mget_handle\u001b[0;34m(path_or_buf, mode, encoding, compression, memory_map, is_text, errors, storage_options)\u001b[0m\n\u001b[1;32m    640\u001b[0m                 \u001b[0merrors\u001b[0m \u001b[0;34m=\u001b[0m \u001b[0;34m\"replace\"\u001b[0m\u001b[0;34m\u001b[0m\u001b[0;34m\u001b[0m\u001b[0m\n\u001b[1;32m    641\u001b[0m             \u001b[0;31m# Encoding\u001b[0m\u001b[0;34m\u001b[0m\u001b[0;34m\u001b[0m\u001b[0;34m\u001b[0m\u001b[0m\n\u001b[0;32m--> 642\u001b[0;31m             handle = open(\n\u001b[0m\u001b[1;32m    643\u001b[0m                 \u001b[0mhandle\u001b[0m\u001b[0;34m,\u001b[0m\u001b[0;34m\u001b[0m\u001b[0;34m\u001b[0m\u001b[0m\n\u001b[1;32m    644\u001b[0m                 \u001b[0mioargs\u001b[0m\u001b[0;34m.\u001b[0m\u001b[0mmode\u001b[0m\u001b[0;34m,\u001b[0m\u001b[0;34m\u001b[0m\u001b[0;34m\u001b[0m\u001b[0m\n",
      "\u001b[0;31mFileNotFoundError\u001b[0m: [Errno 2] No such file or directory: './resources/context_data/ID181106CreA/HC1.csv'"
     ]
    }
   ],
   "source": [
    "index = const.ANIMAL_NAMES\n",
    "columns = const.CONTEXTS\n",
    "event_rate_for_1sd_shock_cells = pd.DataFrame(index=index, columns=columns)\n",
    "\n",
    "for animal_name in const.ANIMAL_NAMES:\n",
    "    print('animal name: %s' % animal_name)\n",
    "    \n",
    "    shock_cells = all_shock_cells[animal_name]\n",
    "    \n",
    "    for context_name in const.CONTEXTS:\n",
    "        print('context: %s' % context_name)\n",
    "        \n",
    "        context_data = ContextDataCSV(animal_name, context_name)\n",
    "        df = context_data.data_frame\n",
    "        df = MatrixOptimizer(df).divide_sd()\n",
    "        \n",
    "        seconds = len(df) / 10.0\n",
    "        \n",
    "        event_rates = np.array([])\n",
    "        shock_cells_df = df.loc[:, shock_cells]\n",
    "        for cell_name, values in shock_cells_df.iteritems():\n",
    "            if values.isnull().all() or (values == 0).all():\n",
    "                print('%s is nan' % cell_name)\n",
    "                continue\n",
    "                \n",
    "            values.fillna(0.0, inplace=True)\n",
    "            _c, spikes, _b, _g, _lam = deconvolve(values.to_numpy(), g=(None, None), penalty=1)\n",
    "            \n",
    "            event_rate = len(spikes[spikes >= 0.05]) / seconds\n",
    "            event_rates = np.append(event_rates, event_rate)\n",
    "            \n",
    "        event_rate_for_1sd_shock_cells.loc[animal_name, context_name] = np.mean(event_rates)\n",
    "        \n",
    "event_rate_for_1sd_shock_cells"
   ]
  },
  {
   "cell_type": "code",
   "execution_count": null,
   "id": "5ea3c22b",
   "metadata": {},
   "outputs": [],
   "source": [
    "event_rate_for_1sd_shock_cells.mean()"
   ]
  },
  {
   "cell_type": "code",
   "execution_count": null,
   "id": "5df91945",
   "metadata": {},
   "outputs": [],
   "source": [
    "all_event_rate_df = pd.read_csv('./resources/event_rates/oasis_by_cells/all_event_rates_threshold005.csv', index_col=[0], header=[0])\n",
    "engram_event_rate_df = pd.read_csv('./resources/event_rates/oasis_by_cells/engram_event_rates_threshold005.csv', index_col=[0], header=[0])\n",
    "non_engram_event_rate_df = pd.read_csv('./resources/event_rates/oasis_by_cells/non_engram_event_rates_threshold005.csv', index_col=[0], header=[0])"
   ]
  },
  {
   "cell_type": "code",
   "execution_count": null,
   "id": "43876c2f",
   "metadata": {},
   "outputs": [],
   "source": [
    "all_event_rate_df.mean()"
   ]
  },
  {
   "cell_type": "code",
   "execution_count": null,
   "id": "88f5b6b8",
   "metadata": {},
   "outputs": [],
   "source": [
    "engram_event_rate_df.mean()"
   ]
  },
  {
   "cell_type": "code",
   "execution_count": null,
   "id": "a94e4dce",
   "metadata": {},
   "outputs": [],
   "source": [
    "non_engram_event_rate_df.mean()"
   ]
  },
  {
   "cell_type": "code",
   "execution_count": null,
   "id": "cb66a6bd",
   "metadata": {},
   "outputs": [],
   "source": [
    "x = all_event_rate_df.columns\n",
    "y = all_event_rate_df.mean()\n",
    "error = all_event_rate_df.sem()\n",
    "\n",
    "engram_x = engram_event_rate_df.columns\n",
    "engram_y = engram_event_rate_df.mean()\n",
    "engram_err = engram_event_rate_df.sem()\n",
    "\n",
    "non_engram_x = non_engram_event_rate_df.columns\n",
    "non_engram_y = non_engram_event_rate_df.mean()\n",
    "non_engram_err = non_engram_event_rate_df.sem()\n",
    "\n",
    "shock_cell_x = event_rate_for_1sd_shock_cells.columns\n",
    "shock_cell_y = event_rate_for_1sd_shock_cells.mean()\n",
    "shock_cell_err = event_rate_for_1sd_shock_cells.sem()\n",
    "\n",
    "fig, axes = plt.subplots(2, figsize=(8, 8), dpi=200, tight_layout=True, sharex='all')\n",
    "\n",
    "axes[0].errorbar(x, y, yerr=error, capsize=2)\n",
    "axes[0].plot(x, y, marker=\"s\", markersize=8, markeredgewidth=3, label='all cell', color='royalblue')\n",
    "\n",
    "axes[0].errorbar(shock_cell_x, shock_cell_y, yerr=shock_cell_err, capsize=2, color='yellowgreen')\n",
    "axes[0].plot(shock_cell_x, shock_cell_y, marker=\"s\", markersize=8, markeredgewidth=3, label='shock cell', color='yellowgreen')\n",
    "\n",
    "axes[0].set_ylim(0, 2.0)\n",
    "axes[0].set_ylabel('Ca2+ Event Rate (Hz)')\n",
    "axes[0].legend(loc='lower left')\n",
    "#aix[0].set_title('Ca2+ event rates (threshold: 0.05)')\n",
    "\n",
    "axes[1].errorbar(engram_x, engram_y, yerr=engram_err, capsize=2)\n",
    "axes[1].plot(engram_x, engram_y, marker=\"s\", markersize=8, markeredgewidth=3, label='engram cell', color='royalblue')\n",
    "\n",
    "axes[1].errorbar(non_engram_x, non_engram_y, yerr=non_engram_err, capsize=2)\n",
    "axes[1].plot(non_engram_x, non_engram_y, marker=\"s\", markersize=8, markeredgewidth=3, label='non-engram cell', color='tomato')\n",
    "\n",
    "axes[1].errorbar(shock_cell_x, shock_cell_y, yerr=shock_cell_err, capsize=2, color='yellowgreen')\n",
    "axes[1].plot(shock_cell_x, shock_cell_y, marker=\"s\", markersize=8, markeredgewidth=3, label='shock cell', color='yellowgreen')\n",
    "\n",
    "axes[1].set_ylim(0, 2.0)\n",
    "axes[1].set_ylabel('Ca2+ Event Rate (Hz)')\n",
    "axes[1].legend(loc='lower left')\n",
    "\n",
    "plt.xticks(rotation=45)\n",
    "\n",
    "plt.show()"
   ]
  },
  {
   "cell_type": "code",
   "execution_count": null,
   "id": "0437c0ec",
   "metadata": {},
   "outputs": [],
   "source": [
    "all_shock_cells = {\n",
    "    'ID181106CreA': ['C261', 'C305', 'C347', 'C349', 'C351'],\n",
    "    'ID181106CreB': ['C058', 'C089', 'C126'],\n",
    "    'ID181106CreC': ['C017', 'C065', 'C112', 'C117', 'C203', 'C227'],\n",
    "    'ID181106CreG': ['C127', 'C239', 'C323', 'C347', 'C350', 'C399', 'C402'],\n",
    "    'ID181106CreH': ['C164', 'C180', 'C184', 'C243', 'C253', 'C298', 'C327', 'C351', 'C534', 'C542'],\n",
    "    'ID181106CreI': ['C136', 'C197', 'C273', 'C292', 'C294', 'C306', 'C333'],\n",
    "    'ID181106CreK': ['C083', 'C088', 'C100', 'C149', 'C390'],\n",
    "    'ID181106CreL': ['C200'],\n",
    "    'ID181106CreN': ['C199', 'C255', 'C258', 'C273'],\n",
    "    'ID181106CreQ': ['C393']\n",
    "}"
   ]
  },
  {
   "cell_type": "code",
   "execution_count": null,
   "id": "5eec6cfe",
   "metadata": {},
   "outputs": [],
   "source": [
    "index = const.ANIMAL_NAMES\n",
    "columns = const.CONTEXTS\n",
    "event_rate_for_2sd_shock_cells = pd.DataFrame(index=index, columns=columns)\n",
    "\n",
    "for animal_name in const.ANIMAL_NAMES:\n",
    "    print('animal name: %s' % animal_name)\n",
    "    \n",
    "    shock_cells = all_shock_cells[animal_name]\n",
    "    \n",
    "    for context_name in const.CONTEXTS:\n",
    "        print('context: %s' % context_name)\n",
    "        \n",
    "        context_data = ContextDataCSV(animal_name, context_name)\n",
    "        df = context_data.data_frame\n",
    "        df = MatrixOptimizer(df).divide_sd()\n",
    "        \n",
    "        seconds = len(df) / 10.0\n",
    "        \n",
    "        event_rates = np.array([])\n",
    "        shock_cells_df = df.loc[:, shock_cells]\n",
    "        for cell_name, values in shock_cells_df.iteritems():\n",
    "            if values.isnull().all() or (values == 0).all():\n",
    "                print('%s is nan' % cell_name)\n",
    "                continue\n",
    "                \n",
    "            values.fillna(0.0, inplace=True)\n",
    "            _c, spikes, _b, _g, _lam = deconvolve(values.to_numpy(), g=(None, None), penalty=1)\n",
    "            \n",
    "            event_rate = len(spikes[spikes >= 0.05]) / seconds\n",
    "            event_rates = np.append(event_rates, event_rate)\n",
    "            \n",
    "        event_rate_for_2sd_shock_cells.loc[animal_name, context_name] = np.mean(event_rates)\n",
    "        \n",
    "event_rate_for_2sd_shock_cells"
   ]
  },
  {
   "cell_type": "code",
   "execution_count": null,
   "id": "38a3bb8b",
   "metadata": {},
   "outputs": [],
   "source": []
  },
  {
   "cell_type": "code",
   "execution_count": null,
   "id": "a9e98eff",
   "metadata": {},
   "outputs": [],
   "source": [
    "x = all_event_rate_df.columns\n",
    "y = all_event_rate_df.mean()\n",
    "error = all_event_rate_df.sem()\n",
    "\n",
    "engram_x = engram_event_rate_df.columns\n",
    "engram_y = engram_event_rate_df.mean()\n",
    "engram_err = engram_event_rate_df.sem()\n",
    "\n",
    "non_engram_x = non_engram_event_rate_df.columns\n",
    "non_engram_y = non_engram_event_rate_df.mean()\n",
    "non_engram_err = non_engram_event_rate_df.sem()\n",
    "\n",
    "shock_cell_x = event_rate_for_2sd_shock_cells.columns\n",
    "shock_cell_y = event_rate_for_2sd_shock_cells.mean()\n",
    "shock_cell_err = event_rate_for_2sd_shock_cells.sem()\n",
    "\n",
    "fig, axes = plt.subplots(3, figsize=(8, 10), dpi=200, tight_layout=True)\n",
    "\n",
    "axes[0].errorbar(x, y, yerr=error, capsize=2, color='dimgray')\n",
    "axes[0].plot(x, y, marker=\"s\", markersize=8, markeredgewidth=3, label='all cell', color='dimgray')\n",
    "\n",
    "axes[0].errorbar(shock_cell_x, shock_cell_y, yerr=shock_cell_err, capsize=2, color='yellowgreen')\n",
    "axes[0].plot(shock_cell_x, shock_cell_y, marker=\"o\", markersize=8, markeredgewidth=3, label='shock cell', color='yellowgreen')\n",
    "\n",
    "axes[0].set_ylim(0, 2.0)\n",
    "axes[0].set_ylabel('Ca2+ Event Rate (Hz)')\n",
    "axes[0].legend(loc='lower left')\n",
    "axes[0].set_xticklabels(x, rotation=45)\n",
    "\n",
    "axes[1].errorbar(engram_x, engram_y, yerr=engram_err, capsize=2)\n",
    "axes[1].plot(engram_x, engram_y, marker=\"s\", markersize=8, markeredgewidth=3, label='engram cell', color='royalblue')\n",
    "\n",
    "axes[1].errorbar(shock_cell_x, shock_cell_y, yerr=shock_cell_err, capsize=2, color='yellowgreen')\n",
    "axes[1].plot(shock_cell_x, shock_cell_y, marker=\"o\", markersize=8, markeredgewidth=3, label='shock cell', color='yellowgreen')\n",
    "\n",
    "axes[1].set_ylim(0, 2.0)\n",
    "axes[1].set_ylabel('Ca2+ Event Rate (Hz)')\n",
    "axes[1].legend(loc='lower left')\n",
    "axes[1].set_xticklabels(x, rotation=45)\n",
    "\n",
    "axes[2].errorbar(non_engram_x, non_engram_y, yerr=non_engram_err, capsize=2, color='tomato')\n",
    "axes[2].plot(non_engram_x, non_engram_y, marker=\"s\", markersize=8, markeredgewidth=3, label='non-engram cell', color='tomato')\n",
    "\n",
    "axes[2].errorbar(shock_cell_x, shock_cell_y, yerr=shock_cell_err, capsize=2, color='yellowgreen')\n",
    "axes[2].plot(shock_cell_x, shock_cell_y, marker=\"o\", markersize=8, markeredgewidth=3, label='shock cell', color='yellowgreen')\n",
    "\n",
    "axes[2].set_ylim(0, 2.0)\n",
    "axes[2].set_ylabel('Ca2+ Event Rate (Hz)')\n",
    "axes[2].legend(loc='lower left')\n",
    "axes[2].set_xticklabels(x, rotation=45)\n",
    "\n",
    "plt.xticks(rotation=45)\n",
    "\n",
    "plt.show()"
   ]
  },
  {
   "cell_type": "code",
   "execution_count": null,
   "id": "5f0b2056",
   "metadata": {},
   "outputs": [],
   "source": [
    "event_rate_for_2sd_shock_cells.mean()"
   ]
  },
  {
   "cell_type": "code",
   "execution_count": null,
   "id": "3b4ad6d8",
   "metadata": {},
   "outputs": [],
   "source": [
    "event_rate_for_2sd_shock_cells.to_csv('./resources/event_rates/oasis_by_cells/2sd_shock_cell_event_rates.csv')"
   ]
  }
 ],
 "metadata": {
  "kernelspec": {
   "display_name": "Python 3 (ipykernel)",
   "language": "python",
   "name": "python3"
  },
  "language_info": {
   "codemirror_mode": {
    "name": "ipython",
    "version": 3
   },
   "file_extension": ".py",
   "mimetype": "text/x-python",
   "name": "python",
   "nbconvert_exporter": "python",
   "pygments_lexer": "ipython3",
   "version": "3.8.11"
  }
 },
 "nbformat": 4,
 "nbformat_minor": 5
}
