{
 "cells": [
  {
   "cell_type": "code",
   "execution_count": 1,
   "id": "15557873",
   "metadata": {},
   "outputs": [],
   "source": [
    "from utils.CaImageCSV import CaImageCSV"
   ]
  },
  {
   "cell_type": "code",
   "execution_count": 19,
   "id": "226e83dc",
   "metadata": {},
   "outputs": [
    {
     "name": "stderr",
     "output_type": "stream",
     "text": [
      "/opt/conda/lib/python3.8/site-packages/pandas/core/indexing.py:1843: SettingWithCopyWarning: \n",
      "A value is trying to be set on a copy of a slice from a DataFrame.\n",
      "Try using .loc[row_indexer,col_indexer] = value instead\n",
      "\n",
      "See the caveats in the documentation: https://pandas.pydata.org/pandas-docs/stable/user_guide/indexing.html#returning-a-view-versus-a-copy\n",
      "  self.obj[item_labels[indexer[info_axis]]] = value\n"
     ]
    }
   ],
   "source": [
    "csv = CaImageCSV('./resources/ID181106CreA_Longitudinal_Traces.csv')"
   ]
  },
  {
   "cell_type": "code",
   "execution_count": 50,
   "id": "3900d302",
   "metadata": {},
   "outputs": [
    {
     "data": {
      "text/html": [
       "<div>\n",
       "<style scoped>\n",
       "    .dataframe tbody tr th:only-of-type {\n",
       "        vertical-align: middle;\n",
       "    }\n",
       "\n",
       "    .dataframe tbody tr th {\n",
       "        vertical-align: top;\n",
       "    }\n",
       "\n",
       "    .dataframe thead th {\n",
       "        text-align: right;\n",
       "    }\n",
       "</style>\n",
       "<table border=\"1\" class=\"dataframe\">\n",
       "  <thead>\n",
       "    <tr style=\"text-align: right;\">\n",
       "      <th></th>\n",
       "      <th></th>\n",
       "      <th>C000</th>\n",
       "      <th>C001</th>\n",
       "      <th>C002</th>\n",
       "      <th>C003</th>\n",
       "      <th>C004</th>\n",
       "      <th>C005</th>\n",
       "      <th>C006</th>\n",
       "      <th>C007</th>\n",
       "      <th>C008</th>\n",
       "      <th>C009</th>\n",
       "      <th>...</th>\n",
       "      <th>C773</th>\n",
       "      <th>C774</th>\n",
       "      <th>C775</th>\n",
       "      <th>C776</th>\n",
       "      <th>C777</th>\n",
       "      <th>C778</th>\n",
       "      <th>C779</th>\n",
       "      <th>C780</th>\n",
       "      <th>C781</th>\n",
       "      <th>C782</th>\n",
       "    </tr>\n",
       "    <tr>\n",
       "      <th>1</th>\n",
       "      <th>2</th>\n",
       "      <th></th>\n",
       "      <th></th>\n",
       "      <th></th>\n",
       "      <th></th>\n",
       "      <th></th>\n",
       "      <th></th>\n",
       "      <th></th>\n",
       "      <th></th>\n",
       "      <th></th>\n",
       "      <th></th>\n",
       "      <th></th>\n",
       "      <th></th>\n",
       "      <th></th>\n",
       "      <th></th>\n",
       "      <th></th>\n",
       "      <th></th>\n",
       "      <th></th>\n",
       "      <th></th>\n",
       "      <th></th>\n",
       "      <th></th>\n",
       "      <th></th>\n",
       "    </tr>\n",
       "  </thead>\n",
       "  <tbody>\n",
       "    <tr>\n",
       "      <th>HC2</th>\n",
       "      <th>1456.185</th>\n",
       "      <td>23.40221</td>\n",
       "      <td>18.307760</td>\n",
       "      <td>16.38554</td>\n",
       "      <td>117.855200</td>\n",
       "      <td>7.017669</td>\n",
       "      <td>22.18379</td>\n",
       "      <td>19.93862</td>\n",
       "      <td>37.30780</td>\n",
       "      <td>22.48633</td>\n",
       "      <td>17.80719</td>\n",
       "      <td>...</td>\n",
       "      <td>NaN</td>\n",
       "      <td>NaN</td>\n",
       "      <td>NaN</td>\n",
       "      <td>NaN</td>\n",
       "      <td>NaN</td>\n",
       "      <td>NaN</td>\n",
       "      <td>NaN</td>\n",
       "      <td>NaN</td>\n",
       "      <td>NaN</td>\n",
       "      <td>NaN</td>\n",
       "    </tr>\n",
       "    <tr>\n",
       "      <th rowspan=\"9\" valign=\"top\">NaN</th>\n",
       "      <th>1456.285</th>\n",
       "      <td>21.35612</td>\n",
       "      <td>16.702530</td>\n",
       "      <td>14.77743</td>\n",
       "      <td>105.749800</td>\n",
       "      <td>6.410332</td>\n",
       "      <td>20.08984</td>\n",
       "      <td>18.37292</td>\n",
       "      <td>42.27759</td>\n",
       "      <td>20.14202</td>\n",
       "      <td>15.74402</td>\n",
       "      <td>...</td>\n",
       "      <td>NaN</td>\n",
       "      <td>NaN</td>\n",
       "      <td>NaN</td>\n",
       "      <td>NaN</td>\n",
       "      <td>NaN</td>\n",
       "      <td>NaN</td>\n",
       "      <td>NaN</td>\n",
       "      <td>NaN</td>\n",
       "      <td>NaN</td>\n",
       "      <td>NaN</td>\n",
       "    </tr>\n",
       "    <tr>\n",
       "      <th>1456.385</th>\n",
       "      <td>27.63065</td>\n",
       "      <td>15.238040</td>\n",
       "      <td>13.32715</td>\n",
       "      <td>94.887890</td>\n",
       "      <td>5.855390</td>\n",
       "      <td>25.90884</td>\n",
       "      <td>16.93017</td>\n",
       "      <td>38.34389</td>\n",
       "      <td>18.04176</td>\n",
       "      <td>13.91961</td>\n",
       "      <td>...</td>\n",
       "      <td>NaN</td>\n",
       "      <td>NaN</td>\n",
       "      <td>NaN</td>\n",
       "      <td>NaN</td>\n",
       "      <td>NaN</td>\n",
       "      <td>NaN</td>\n",
       "      <td>NaN</td>\n",
       "      <td>NaN</td>\n",
       "      <td>NaN</td>\n",
       "      <td>NaN</td>\n",
       "    </tr>\n",
       "    <tr>\n",
       "      <th>1456.485</th>\n",
       "      <td>41.15630</td>\n",
       "      <td>13.901950</td>\n",
       "      <td>12.01920</td>\n",
       "      <td>85.141590</td>\n",
       "      <td>5.348323</td>\n",
       "      <td>23.46328</td>\n",
       "      <td>15.60071</td>\n",
       "      <td>34.77502</td>\n",
       "      <td>16.16015</td>\n",
       "      <td>24.83253</td>\n",
       "      <td>...</td>\n",
       "      <td>NaN</td>\n",
       "      <td>NaN</td>\n",
       "      <td>NaN</td>\n",
       "      <td>NaN</td>\n",
       "      <td>NaN</td>\n",
       "      <td>NaN</td>\n",
       "      <td>NaN</td>\n",
       "      <td>NaN</td>\n",
       "      <td>NaN</td>\n",
       "      <td>NaN</td>\n",
       "    </tr>\n",
       "    <tr>\n",
       "      <th>1456.585</th>\n",
       "      <td>37.56752</td>\n",
       "      <td>12.683010</td>\n",
       "      <td>10.83962</td>\n",
       "      <td>76.396350</td>\n",
       "      <td>4.885001</td>\n",
       "      <td>21.24856</td>\n",
       "      <td>14.37565</td>\n",
       "      <td>38.22731</td>\n",
       "      <td>14.47444</td>\n",
       "      <td>21.95634</td>\n",
       "      <td>...</td>\n",
       "      <td>NaN</td>\n",
       "      <td>NaN</td>\n",
       "      <td>NaN</td>\n",
       "      <td>NaN</td>\n",
       "      <td>NaN</td>\n",
       "      <td>NaN</td>\n",
       "      <td>NaN</td>\n",
       "      <td>NaN</td>\n",
       "      <td>NaN</td>\n",
       "      <td>NaN</td>\n",
       "    </tr>\n",
       "    <tr>\n",
       "      <th>...</th>\n",
       "      <td>...</td>\n",
       "      <td>...</td>\n",
       "      <td>...</td>\n",
       "      <td>...</td>\n",
       "      <td>...</td>\n",
       "      <td>...</td>\n",
       "      <td>...</td>\n",
       "      <td>...</td>\n",
       "      <td>...</td>\n",
       "      <td>...</td>\n",
       "      <td>...</td>\n",
       "      <td>...</td>\n",
       "      <td>...</td>\n",
       "      <td>...</td>\n",
       "      <td>...</td>\n",
       "      <td>...</td>\n",
       "      <td>...</td>\n",
       "      <td>...</td>\n",
       "      <td>...</td>\n",
       "      <td>...</td>\n",
       "      <td>...</td>\n",
       "    </tr>\n",
       "    <tr>\n",
       "      <th>2066.685</th>\n",
       "      <td>30.19063</td>\n",
       "      <td>10.693480</td>\n",
       "      <td>0.00000</td>\n",
       "      <td>7.982697</td>\n",
       "      <td>40.273220</td>\n",
       "      <td>24.93776</td>\n",
       "      <td>19.86508</td>\n",
       "      <td>58.58101</td>\n",
       "      <td>30.43721</td>\n",
       "      <td>34.23499</td>\n",
       "      <td>...</td>\n",
       "      <td>NaN</td>\n",
       "      <td>NaN</td>\n",
       "      <td>NaN</td>\n",
       "      <td>NaN</td>\n",
       "      <td>NaN</td>\n",
       "      <td>NaN</td>\n",
       "      <td>NaN</td>\n",
       "      <td>NaN</td>\n",
       "      <td>NaN</td>\n",
       "      <td>NaN</td>\n",
       "    </tr>\n",
       "    <tr>\n",
       "      <th>2066.785</th>\n",
       "      <td>40.08604</td>\n",
       "      <td>9.755848</td>\n",
       "      <td>0.00000</td>\n",
       "      <td>7.162673</td>\n",
       "      <td>36.796910</td>\n",
       "      <td>31.25593</td>\n",
       "      <td>18.30516</td>\n",
       "      <td>59.55898</td>\n",
       "      <td>27.26516</td>\n",
       "      <td>37.16280</td>\n",
       "      <td>...</td>\n",
       "      <td>NaN</td>\n",
       "      <td>NaN</td>\n",
       "      <td>NaN</td>\n",
       "      <td>NaN</td>\n",
       "      <td>NaN</td>\n",
       "      <td>NaN</td>\n",
       "      <td>NaN</td>\n",
       "      <td>NaN</td>\n",
       "      <td>NaN</td>\n",
       "      <td>NaN</td>\n",
       "    </tr>\n",
       "    <tr>\n",
       "      <th>2066.885</th>\n",
       "      <td>36.59026</td>\n",
       "      <td>8.900427</td>\n",
       "      <td>0.00000</td>\n",
       "      <td>6.426878</td>\n",
       "      <td>33.620490</td>\n",
       "      <td>28.30566</td>\n",
       "      <td>16.86773</td>\n",
       "      <td>67.10181</td>\n",
       "      <td>24.42334</td>\n",
       "      <td>41.54234</td>\n",
       "      <td>...</td>\n",
       "      <td>NaN</td>\n",
       "      <td>NaN</td>\n",
       "      <td>NaN</td>\n",
       "      <td>NaN</td>\n",
       "      <td>NaN</td>\n",
       "      <td>NaN</td>\n",
       "      <td>NaN</td>\n",
       "      <td>NaN</td>\n",
       "      <td>NaN</td>\n",
       "      <td>NaN</td>\n",
       "    </tr>\n",
       "    <tr>\n",
       "      <th>2066.985</th>\n",
       "      <td>33.39823</td>\n",
       "      <td>8.120005</td>\n",
       "      <td>0.00000</td>\n",
       "      <td>5.766658</td>\n",
       "      <td>30.718110</td>\n",
       "      <td>25.63386</td>\n",
       "      <td>15.54318</td>\n",
       "      <td>60.86576</td>\n",
       "      <td>21.87737</td>\n",
       "      <td>36.73239</td>\n",
       "      <td>...</td>\n",
       "      <td>NaN</td>\n",
       "      <td>NaN</td>\n",
       "      <td>NaN</td>\n",
       "      <td>NaN</td>\n",
       "      <td>NaN</td>\n",
       "      <td>NaN</td>\n",
       "      <td>NaN</td>\n",
       "      <td>NaN</td>\n",
       "      <td>NaN</td>\n",
       "      <td>NaN</td>\n",
       "    </tr>\n",
       "    <tr>\n",
       "      <th>HC2</th>\n",
       "      <th>2067.085</th>\n",
       "      <td>30.48356</td>\n",
       "      <td>7.408009</td>\n",
       "      <td>0.00000</td>\n",
       "      <td>5.174252</td>\n",
       "      <td>28.066120</td>\n",
       "      <td>23.21426</td>\n",
       "      <td>14.32263</td>\n",
       "      <td>55.20807</td>\n",
       "      <td>19.59645</td>\n",
       "      <td>32.47908</td>\n",
       "      <td>...</td>\n",
       "      <td>NaN</td>\n",
       "      <td>NaN</td>\n",
       "      <td>NaN</td>\n",
       "      <td>NaN</td>\n",
       "      <td>NaN</td>\n",
       "      <td>NaN</td>\n",
       "      <td>NaN</td>\n",
       "      <td>NaN</td>\n",
       "      <td>NaN</td>\n",
       "      <td>NaN</td>\n",
       "    </tr>\n",
       "  </tbody>\n",
       "</table>\n",
       "<p>6110 rows × 767 columns</p>\n",
       "</div>"
      ],
      "text/plain": [
       "                  C000       C001      C002        C003       C004      C005  \\\n",
       "1   2                                                                          \n",
       "HC2 1456.185  23.40221  18.307760  16.38554  117.855200   7.017669  22.18379   \n",
       "NaN 1456.285  21.35612  16.702530  14.77743  105.749800   6.410332  20.08984   \n",
       "    1456.385  27.63065  15.238040  13.32715   94.887890   5.855390  25.90884   \n",
       "    1456.485  41.15630  13.901950  12.01920   85.141590   5.348323  23.46328   \n",
       "    1456.585  37.56752  12.683010  10.83962   76.396350   4.885001  21.24856   \n",
       "...                ...        ...       ...         ...        ...       ...   \n",
       "    2066.685  30.19063  10.693480   0.00000    7.982697  40.273220  24.93776   \n",
       "    2066.785  40.08604   9.755848   0.00000    7.162673  36.796910  31.25593   \n",
       "    2066.885  36.59026   8.900427   0.00000    6.426878  33.620490  28.30566   \n",
       "    2066.985  33.39823   8.120005   0.00000    5.766658  30.718110  25.63386   \n",
       "HC2 2067.085  30.48356   7.408009   0.00000    5.174252  28.066120  23.21426   \n",
       "\n",
       "                  C006      C007      C008      C009  ...  C773  C774  C775  \\\n",
       "1   2                                                 ...                     \n",
       "HC2 1456.185  19.93862  37.30780  22.48633  17.80719  ...   NaN   NaN   NaN   \n",
       "NaN 1456.285  18.37292  42.27759  20.14202  15.74402  ...   NaN   NaN   NaN   \n",
       "    1456.385  16.93017  38.34389  18.04176  13.91961  ...   NaN   NaN   NaN   \n",
       "    1456.485  15.60071  34.77502  16.16015  24.83253  ...   NaN   NaN   NaN   \n",
       "    1456.585  14.37565  38.22731  14.47444  21.95634  ...   NaN   NaN   NaN   \n",
       "...                ...       ...       ...       ...  ...   ...   ...   ...   \n",
       "    2066.685  19.86508  58.58101  30.43721  34.23499  ...   NaN   NaN   NaN   \n",
       "    2066.785  18.30516  59.55898  27.26516  37.16280  ...   NaN   NaN   NaN   \n",
       "    2066.885  16.86773  67.10181  24.42334  41.54234  ...   NaN   NaN   NaN   \n",
       "    2066.985  15.54318  60.86576  21.87737  36.73239  ...   NaN   NaN   NaN   \n",
       "HC2 2067.085  14.32263  55.20807  19.59645  32.47908  ...   NaN   NaN   NaN   \n",
       "\n",
       "              C776  C777  C778  C779  C780  C781  C782  \n",
       "1   2                                                   \n",
       "HC2 1456.185   NaN   NaN   NaN   NaN   NaN   NaN   NaN  \n",
       "NaN 1456.285   NaN   NaN   NaN   NaN   NaN   NaN   NaN  \n",
       "    1456.385   NaN   NaN   NaN   NaN   NaN   NaN   NaN  \n",
       "    1456.485   NaN   NaN   NaN   NaN   NaN   NaN   NaN  \n",
       "    1456.585   NaN   NaN   NaN   NaN   NaN   NaN   NaN  \n",
       "...            ...   ...   ...   ...   ...   ...   ...  \n",
       "    2066.685   NaN   NaN   NaN   NaN   NaN   NaN   NaN  \n",
       "    2066.785   NaN   NaN   NaN   NaN   NaN   NaN   NaN  \n",
       "    2066.885   NaN   NaN   NaN   NaN   NaN   NaN   NaN  \n",
       "    2066.985   NaN   NaN   NaN   NaN   NaN   NaN   NaN  \n",
       "HC2 2067.085   NaN   NaN   NaN   NaN   NaN   NaN   NaN  \n",
       "\n",
       "[6110 rows x 767 columns]"
      ]
     },
     "execution_count": 50,
     "metadata": {},
     "output_type": "execute_result"
    }
   ],
   "source": [
    "context_data = csv.filtered_by_context('HC2')\n",
    "context_data"
   ]
  },
  {
   "cell_type": "code",
   "execution_count": 51,
   "id": "da502710",
   "metadata": {},
   "outputs": [],
   "source": [
    "# items = CaImageCSV.optimize_std(context_data)\n",
    "# items"
   ]
  },
  {
   "cell_type": "code",
   "execution_count": 52,
   "id": "9ead4a9b",
   "metadata": {},
   "outputs": [],
   "source": [
    "from matplotlib import pyplot as plt\n",
    "from oasis.functions import deconvolve\n",
    "from oasis.plotting import simpleaxis"
   ]
  },
  {
   "cell_type": "code",
   "execution_count": 53,
   "id": "752bf80c",
   "metadata": {},
   "outputs": [
    {
     "name": "stdout",
     "output_type": "stream",
     "text": [
      "[0.5334868  0.48685442 0.77389798 0.79376773 0.72451887 0.6612874\n",
      " 0.87803378 0.80146316 0.7315458 ]\n"
     ]
    },
    {
     "data": {
      "text/plain": [
       "45.65432533911817"
      ]
     },
     "execution_count": 53,
     "metadata": {},
     "output_type": "execute_result"
    }
   ],
   "source": [
    "numpyed_items = csv.optimize_std_by_series(context_data['C000'].fillna(0.0)).to_numpy()\n",
    "print(numpyed_items[-10:-1])\n",
    "context_data['C000'].astype(float).fillna(0.0).std(skipna=False)"
   ]
  },
  {
   "cell_type": "code",
   "execution_count": 54,
   "id": "15cfa311",
   "metadata": {},
   "outputs": [
    {
     "name": "stdout",
     "output_type": "stream",
     "text": [
      "CPU times: user 86.8 ms, sys: 0 ns, total: 86.8 ms\n",
      "Wall time: 18.8 ms\n"
     ]
    }
   ],
   "source": [
    "%time c, s, b, g, lam = deconvolve(numpyed_items, g=(None, None), penalty=1)"
   ]
  },
  {
   "cell_type": "code",
   "execution_count": 55,
   "id": "7c038cad",
   "metadata": {},
   "outputs": [
    {
     "data": {
      "text/plain": [
       "0.23076923076923078"
      ]
     },
     "execution_count": 55,
     "metadata": {},
     "output_type": "execute_result"
    }
   ],
   "source": [
    "times = len(s) /10.0\n",
    "count = len(s[s > 0.05])\n",
    "rate = count / times\n",
    "\n",
    "s[s < 0.05] = 0.0\n",
    "rate"
   ]
  },
  {
   "cell_type": "code",
   "execution_count": 56,
   "id": "ae2e158d",
   "metadata": {},
   "outputs": [
    {
     "data": {
      "image/png": "[encoded data removed]",
      "text/plain": [
       "<Figure size 1440x288 with 2 Axes>"
      ]
     },
     "metadata": {
      "needs_background": "light"
     },
     "output_type": "display_data"
    }
   ],
   "source": [
    "plt.figure(figsize=(20, 4))\n",
    "plt.subplot(211)\n",
    "plt.plot(b + c, lw=2, label='denoised')\n",
    "plt.plot(numpyed_items, label='data', zorder=-12, c='y')\n",
    "plt.legend(ncol=3, frameon=False, loc=(.02, .85))\n",
    "simpleaxis(plt.gca())\n",
    "plt.subplot(212)\n",
    "plt.plot(s, lw=2, label='deconvolved', c='g')\n",
    "# plt.ylim(0, 5.0)\n",
    "plt.legend(ncol=3, frameon=False, loc=(.02, .85))\n",
    "simpleaxis(plt.gca())\n",
    "plt.show()"
   ]
  },
  {
   "cell_type": "code",
   "execution_count": 57,
   "id": "0d96a6ec",
   "metadata": {},
   "outputs": [
    {
     "name": "stdout",
     "output_type": "stream",
     "text": [
      "[1.10745679 1.01035481 0.92176586 0.84094376 0.76720843 0.69993806\n",
      " 0.63856568 0.58257439 0.53149214]\n"
     ]
    },
    {
     "data": {
      "text/plain": [
       "15.27775183837453"
      ]
     },
     "execution_count": 57,
     "metadata": {},
     "output_type": "execute_result"
    }
   ],
   "source": [
    "numpyed_items = csv.optimize_std_by_series(context_data['C001'].fillna(0.0)).to_numpy()\n",
    "print(numpyed_items[-10:-1])\n",
    "context_data['C001'].astype(float).fillna(0.0).std(skipna=False)"
   ]
  },
  {
   "cell_type": "code",
   "execution_count": 58,
   "id": "fa656fcf",
   "metadata": {},
   "outputs": [
    {
     "name": "stdout",
     "output_type": "stream",
     "text": [
      "CPU times: user 670 ms, sys: 12.5 ms, total: 682 ms\n",
      "Wall time: 119 ms\n"
     ]
    }
   ],
   "source": [
    "%time c, s, b, g, lam = deconvolve(numpyed_items, g=(None,None), penalty=1)"
   ]
  },
  {
   "cell_type": "code",
   "execution_count": 59,
   "id": "1a726a91",
   "metadata": {},
   "outputs": [
    {
     "data": {
      "text/plain": [
       "1.9509001636661212"
      ]
     },
     "execution_count": 59,
     "metadata": {},
     "output_type": "execute_result"
    }
   ],
   "source": [
    "times = len(s) /10.0\n",
    "count = len(s[s > 0.05])\n",
    "rate = count / times\n",
    "\n",
    "s[s < 0.05] = 0.0\n",
    "\n",
    "rate"
   ]
  },
  {
   "cell_type": "code",
   "execution_count": 60,
   "id": "e2948743",
   "metadata": {},
   "outputs": [
    {
     "data": {
      "image/png": "[encoded data removed]",
      "text/plain": [
       "<Figure size 1440x288 with 2 Axes>"
      ]
     },
     "metadata": {
      "needs_background": "light"
     },
     "output_type": "display_data"
    }
   ],
   "source": [
    "plt.figure(figsize=(20, 4))\n",
    "plt.subplot(211)\n",
    "plt.plot(b + c, lw=2, label='denoised')\n",
    "plt.plot(numpyed_items, label='data', zorder=-12, c='y')\n",
    "plt.legend(ncol=3, frameon=False, loc=(.02, .85))\n",
    "simpleaxis(plt.gca())\n",
    "plt.subplot(212)\n",
    "plt.plot(s, lw=2, label='deconvolved', c='g')\n",
    "# plt.ylim(0, 5.0)\n",
    "plt.legend(ncol=3, frameon=False, loc=(.02, .85))\n",
    "simpleaxis(plt.gca())\n",
    "plt.show()"
   ]
  },
  {
   "cell_type": "code",
   "execution_count": null,
   "id": "3281ab3f",
   "metadata": {},
   "outputs": [],
   "source": []
  }
 ],
 "metadata": {
  "kernelspec": {
   "display_name": "Python 3",
   "language": "python",
   "name": "python3"
  },
  "language_info": {
   "codemirror_mode": {
    "name": "ipython",
    "version": 3
   },
   "file_extension": ".py",
   "mimetype": "text/x-python",
   "name": "python",
   "nbconvert_exporter": "python",
   "pygments_lexer": "ipython3",
   "version": "3.8.8"
  }
 },
 "nbformat": 4,
 "nbformat_minor": 5
}
