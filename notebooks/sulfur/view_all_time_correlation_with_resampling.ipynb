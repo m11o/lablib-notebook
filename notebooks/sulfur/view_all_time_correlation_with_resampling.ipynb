{
 "cells": [
  {
   "cell_type": "code",
   "execution_count": 1,
   "id": "dfc02ffe",
   "metadata": {},
   "outputs": [],
   "source": [
    "import numpy as np\n",
    "import pandas as pd\n",
    "import matplotlib.pyplot as plt\n",
    "\n",
    "import utils.sulfur.constant as const\n",
    "\n",
    "from utils.TimeCorrelationCalculator import TimeCorrelationCalculator\n",
    "from utils.TimeCorrelationViewer import TimeCorrelationViewer\n",
    "from utils.monte_carlo_resampling_operator import MonteCarloResamplingOperator"
   ]
  },
  {
   "cell_type": "code",
   "execution_count": null,
   "id": "5c7628d5",
   "metadata": {},
   "outputs": [],
   "source": [
    "mc = MonteCarloResamplingOperator()"
   ]
  },
  {
   "cell_type": "code",
   "execution_count": null,
   "id": "e670a9b3",
   "metadata": {},
   "outputs": [],
   "source": [
    "def calc_means_of_sum_correlation(animal_name, context_name, start, end, mc):\n",
    "    print('####### %s' % context_name)\n",
    "    calculator = TimeCorrelationCalculator(animal_name, context_name)\n",
    "    \n",
    "    shuffle_calculator, engram_df, non_engram_df = calculator.calc(start=start, end=end)\n",
    "    resampling_mode = mc.resamplings(shuffle_calculator.shuffle_dfs)\n",
    "    \n",
    "    return [\n",
    "        resampling_mode.abs().sum().mean(),\n",
    "        engram_df.abs().sum().mean(),\n",
    "        non_engram_df.abs().sum().mean()\n",
    "    ]\n",
    "\n",
    "def create_ratio_data_frame():\n",
    "    df_columns = ['A1preES_260-300', 'A1postES_0-40', 'A1postES_90-130', 'A1postES_180-220', 'A4preES_260-300', 'A4postES_0-40', 'A4postES_90-130', 'A4postES_180-220']\n",
    "    return pd.DataFrame(columns=df_columns, index=const.ANIMAL_NAMES)\n",
    "\n",
    "def append_ratios_to_df(animal_name, context_name, result, dfs):\n",
    "    for index, df in enumerate(dfs):\n",
    "        df.loc[animal_name, context_name] = result[index]\n",
    "        \n",
    "def view_ratio_of_sum_correlation(shuffle_df, engram_df, non_engram_df):\n",
    "    df_columns = shuffle_engram_df.columns\n",
    "    \n",
    "    engram_mean, engram_sem = engram_df.mean(), engram_df.sem()\n",
    "    non_engram_mean, non_engram_sem = non_engram_df.mean(), non_engram_df.sem()\n",
    "    shuffle_mean, shuffle_sem = shuffle_df.mean(), shuffle_df.sem()\n",
    "    \n",
    "    fig, ax = plt.subplots(1, figsize=(8, 8), tight_layout=True, dpi=200)\n",
    "    \n",
    "    engram_color = 'royalblue'\n",
    "    non_engram_color = 'tomato'\n",
    "    shuffle_color = 'greenyellow'\n",
    "    \n",
    "    shuffle_alpha = 0.5\n",
    "    \n",
    "    yticks = list(np.arange(0.0, 2.0, 0.10))\n",
    "    ax.errorbar(df_columns, engram_mean, yerr=engram_sem, capsize=4, color=engram_color)\n",
    "    ax.plot(df_columns, engram_mean, marker='s', markersize=15, label='engram cells', color=engram_color)\n",
    "    \n",
    "    ax.errorbar(df_columns, shuffle_mean, yerr=shuffle_sem, capsize=4, color=shuffle_color)\n",
    "    ax.plot(df_columns, shuffle_mean, marker='D', markersize=15, label='shuffle engram cells', color=shuffle_color)\n",
    "    \n",
    "    ax.errorbar(df_columns, non_engram_mean, yerr=non_engram_sem, capsize=4, color=non_engram_color)\n",
    "    ax.plot(df_columns, non_engram_mean, marker='o', markersize=15, label='non-engram cells', color=non_engram_color)\n",
    "    \n",
    "    ax.set_xticklabels(['A1pre', 'A1post#1', 'A1post#2', 'A1post#3', 'A4pre', 'A4post#1', 'A4post#2', 'A4post#3'], rotation=45, fontweight='bold')\n",
    "    ax.set_ylabel('Sum of correlations', fontsize=16)\n",
    "    ax.legend(fontsize=14)\n",
    "    fig.show()"
   ]
  },
  {
   "cell_type": "code",
   "execution_count": null,
   "id": "8c95837e",
   "metadata": {},
   "outputs": [],
   "source": [
    "shuffle_df     = create_ratio_data_frame()\n",
    "engram_df      = create_ratio_data_frame()\n",
    "non_engram_df  = create_ratio_data_frame()\n",
    "\n",
    "dfs = [\n",
    "    shuffle_df,\n",
    "    engram_df,\n",
    "    non_engram_df\n",
    "]\n",
    "\n",
    "for animal_name in const.ANIMAL_NAMES:\n",
    "    print('animal name: %s' % animal_name)\n",
    "    \n",
    "    result = calc_means_of_sum_correlation(animal_name, 'A1preES', 260, 300, mc)\n",
    "    append_ratios_to_df(animal_name, 'A1preES_260-300', result, dfs)\n",
    "    \n",
    "    result = calc_means_of_sum_correlation(animal_name, 'A1postES', 0, 40, mc)\n",
    "    append_ratios_to_df(animal_name, 'A1postES_0-40', result, dfs)\n",
    "    \n",
    "    result = calc_means_of_sum_correlation(animal_name, 'A1postES', 90, 130, mc)\n",
    "    append_ratios_to_df(animal_name, 'A1postES_90-130', result, dfs)\n",
    "    \n",
    "    result = calc_means_of_sum_correlation(animal_name, 'A1postES', 180, 220, mc)\n",
    "    append_ratios_to_df(animal_name, 'A1postES_180-220', result, dfs)\n",
    "    \n",
    "    result = calc_means_of_sum_correlation(animal_name, 'A4preES', 260, 300, mc)\n",
    "    append_ratios_to_df(animal_name, 'A4preES_260-300', result, dfs)\n",
    "    \n",
    "    result = calc_means_of_sum_correlation(animal_name, 'A4postES', 0, 40, mc)\n",
    "    append_ratios_to_df(animal_name, 'A4postES_0-40', result, dfs)\n",
    "    \n",
    "    result = calc_means_of_sum_correlation(animal_name, 'A4postES', 90, 130, mc)\n",
    "    append_ratios_to_df(animal_name, 'A4postES_90-130', result, dfs)\n",
    "    \n",
    "    result = calc_means_of_sum_correlation(animal_name, 'A4postES', 180, 220, mc)\n",
    "    append_ratios_to_df(animal_name, 'A4postES_180-220', result, dfs)"
   ]
  },
  {
   "cell_type": "code",
   "execution_count": null,
   "id": "58afa036",
   "metadata": {},
   "outputs": [],
   "source": [
    "view_ratio_of_sum_correlation(shuffle_engram_df, shuffle_non_engram_df, engram_df, non_engram_df)"
   ]
  }
 ],
 "metadata": {
  "kernelspec": {
   "display_name": "Python 3",
   "language": "python",
   "name": "python3"
  },
  "language_info": {
   "codemirror_mode": {
    "name": "ipython",
    "version": 3
   },
   "file_extension": ".py",
   "mimetype": "text/x-python",
   "name": "python",
   "nbconvert_exporter": "python",
   "pygments_lexer": "ipython3",
   "version": "3.8.8"
  }
 },
 "nbformat": 4,
 "nbformat_minor": 5
}
