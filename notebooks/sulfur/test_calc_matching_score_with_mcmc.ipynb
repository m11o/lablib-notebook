{
 "cells": [
  {
   "cell_type": "code",
   "execution_count": 1,
   "id": "34ac9b8b",
   "metadata": {},
   "outputs": [],
   "source": [
    "import math\n",
    "\n",
    "import numpy as np\n",
    "import pandas as pd\n",
    "import matplotlib.pyplot as plt\n",
    "from matplotlib.colors import LinearSegmentedColormap\n",
    "\n",
    "from sklearn.decomposition import NMF\n",
    "\n",
    "import utils.sulfur.constant as const\n",
    "from utils.CaImageCSV import CaImageCSV\n",
    "from utils.context_data_csv import ContextDataCSV\n",
    "from utils.matrix_optimizer import MatrixOptimizer\n",
    "from utils.useful_tool import find_all_nan_cells, dropped_unique_cells\n",
    "\n",
    "from sklearn.preprocessing import StandardScaler\n",
    "from sklearn.metrics.pairwise import cosine_similarity"
   ]
  },
  {
   "cell_type": "code",
   "execution_count": 2,
   "id": "b437c340",
   "metadata": {},
   "outputs": [],
   "source": [
    "def split_engram_matrix(animal_name, context_name):\n",
    "    csv = ContextDataCSV(animal_name, context_name)\n",
    "    matrix = csv.data_frame\n",
    "    matrix = MatrixOptimizer(matrix).divide_sd()\n",
    "    \n",
    "    engram_df = matrix.loc[:, csv.engram_cells()]\n",
    "    non_engram_df = matrix.loc[:, csv.non_engram_cells()]\n",
    "    \n",
    "    return engram_df, non_engram_df\n",
    "\n",
    "def split_matrix(matrix, context_name):\n",
    "    matrix_1 = matrix.iloc[0:400, :]\n",
    "    matrix_2 = matrix.iloc[900:1300, :]\n",
    "    matrix_3 = matrix.iloc[1800:2200, :]\n",
    "    \n",
    "    return matrix_1, matrix_2, matrix_3\n",
    "\n",
    "def AICc(distance, K, N):\n",
    "    return 2 * distance + 2 * K * (N / (N - K - 1)) # 対数尤度=-Dis(x,y) より \n",
    "\n",
    "def setted_NMF(df, components_size):\n",
    "    model = NMF(n_components=components_size, init='random', random_state=0, beta_loss='kullback-leibler', solver='mu', max_iter=2000)\n",
    "    model.fit(df)\n",
    "    W = model.transform(df)\n",
    "    H = model.components_\n",
    "    \n",
    "    return W, H, model\n",
    "\n",
    "def calc_matching_score(base_pattern_vectors, comp_pattern_vectors):\n",
    "    threshold = 0.6\n",
    "    similarities = cosine_similarity(base_pattern_vectors, comp_pattern_vectors)\n",
    "    matching_score = 0\n",
    "    for similarity in similarities:\n",
    "        if len(similarity[similarity > threshold]) > 0:\n",
    "            matching_score += 1\n",
    "        \n",
    "    return matching_score / len(base_pattern_vectors)\n",
    "    \n",
    "def build_pattern_vectors(dfs):\n",
    "    patterns = {}\n",
    "    for context_name, df in dfs.items():\n",
    "        min_aic_value = float('inf')\n",
    "        min_H = None\n",
    "        upper_count = 0\n",
    "        \n",
    "        for n in range(1, len(df.columns) + 1):\n",
    "            _, H, model = setted_NMF(df, n)\n",
    "            err = model.reconstruction_err_\n",
    "            aic_value = AICc(err, n, len(columns) * len(df))\n",
    "            if min_aic_value > aic_value:\n",
    "                upper_count = 0\n",
    "                min_aic_value = aic_value\n",
    "                min_H = H\n",
    "                \n",
    "            if min_aic_value < aic_value:\n",
    "                upper_count += 1\n",
    "                \n",
    "            if upper_count > 20:\n",
    "                break\n",
    "                \n",
    "        patterns[context_name] = min_H\n",
    "        \n",
    "    return patterns"
   ]
  },
  {
   "cell_type": "code",
   "execution_count": 6,
   "id": "82327642",
   "metadata": {},
   "outputs": [
    {
     "name": "stdout",
     "output_type": "stream",
     "text": [
      "animal_name: ID181106CreA\n",
      "CPU times: user 32min 16s, sys: 26 s, total: 32min 42s\n",
      "Wall time: 5min 28s\n"
     ]
    },
    {
     "data": {
      "text/html": [
       "<div>\n",
       "<style scoped>\n",
       "    .dataframe tbody tr th:only-of-type {\n",
       "        vertical-align: middle;\n",
       "    }\n",
       "\n",
       "    .dataframe tbody tr th {\n",
       "        vertical-align: top;\n",
       "    }\n",
       "\n",
       "    .dataframe thead th {\n",
       "        text-align: right;\n",
       "    }\n",
       "</style>\n",
       "<table border=\"1\" class=\"dataframe\">\n",
       "  <thead>\n",
       "    <tr style=\"text-align: right;\">\n",
       "      <th></th>\n",
       "      <th>A1_1</th>\n",
       "      <th>A1_2</th>\n",
       "      <th>A1_3</th>\n",
       "      <th>A4_1</th>\n",
       "      <th>A4_2</th>\n",
       "      <th>A4_3</th>\n",
       "    </tr>\n",
       "  </thead>\n",
       "  <tbody>\n",
       "    <tr>\n",
       "      <th>0</th>\n",
       "      <td>1.0</td>\n",
       "      <td>0.678571</td>\n",
       "      <td>0.732143</td>\n",
       "      <td>0.660714</td>\n",
       "      <td>0.607143</td>\n",
       "      <td>0.553571</td>\n",
       "    </tr>\n",
       "    <tr>\n",
       "      <th>1</th>\n",
       "      <td>1.0</td>\n",
       "      <td>0.714286</td>\n",
       "      <td>0.714286</td>\n",
       "      <td>0.714286</td>\n",
       "      <td>0.607143</td>\n",
       "      <td>0.571429</td>\n",
       "    </tr>\n",
       "    <tr>\n",
       "      <th>2</th>\n",
       "      <td>1.0</td>\n",
       "      <td>0.625</td>\n",
       "      <td>0.678571</td>\n",
       "      <td>0.696429</td>\n",
       "      <td>0.714286</td>\n",
       "      <td>0.660714</td>\n",
       "    </tr>\n",
       "    <tr>\n",
       "      <th>3</th>\n",
       "      <td>1.0</td>\n",
       "      <td>0.75</td>\n",
       "      <td>0.732143</td>\n",
       "      <td>0.767857</td>\n",
       "      <td>0.660714</td>\n",
       "      <td>0.678571</td>\n",
       "    </tr>\n",
       "    <tr>\n",
       "      <th>4</th>\n",
       "      <td>1.0</td>\n",
       "      <td>0.732143</td>\n",
       "      <td>0.732143</td>\n",
       "      <td>0.803571</td>\n",
       "      <td>0.696429</td>\n",
       "      <td>0.839286</td>\n",
       "    </tr>\n",
       "    <tr>\n",
       "      <th>...</th>\n",
       "      <td>...</td>\n",
       "      <td>...</td>\n",
       "      <td>...</td>\n",
       "      <td>...</td>\n",
       "      <td>...</td>\n",
       "      <td>...</td>\n",
       "    </tr>\n",
       "    <tr>\n",
       "      <th>95</th>\n",
       "      <td>1.0</td>\n",
       "      <td>0.678571</td>\n",
       "      <td>0.714286</td>\n",
       "      <td>0.464286</td>\n",
       "      <td>0.553571</td>\n",
       "      <td>0.553571</td>\n",
       "    </tr>\n",
       "    <tr>\n",
       "      <th>96</th>\n",
       "      <td>1.0</td>\n",
       "      <td>0.571429</td>\n",
       "      <td>0.75</td>\n",
       "      <td>0.714286</td>\n",
       "      <td>0.75</td>\n",
       "      <td>0.642857</td>\n",
       "    </tr>\n",
       "    <tr>\n",
       "      <th>97</th>\n",
       "      <td>1.0</td>\n",
       "      <td>0.714286</td>\n",
       "      <td>0.660714</td>\n",
       "      <td>0.732143</td>\n",
       "      <td>0.642857</td>\n",
       "      <td>0.714286</td>\n",
       "    </tr>\n",
       "    <tr>\n",
       "      <th>98</th>\n",
       "      <td>1.0</td>\n",
       "      <td>0.714286</td>\n",
       "      <td>0.607143</td>\n",
       "      <td>0.642857</td>\n",
       "      <td>0.571429</td>\n",
       "      <td>0.553571</td>\n",
       "    </tr>\n",
       "    <tr>\n",
       "      <th>99</th>\n",
       "      <td>1.0</td>\n",
       "      <td>0.75</td>\n",
       "      <td>0.767857</td>\n",
       "      <td>0.625</td>\n",
       "      <td>0.535714</td>\n",
       "      <td>0.571429</td>\n",
       "    </tr>\n",
       "  </tbody>\n",
       "</table>\n",
       "<p>100 rows × 6 columns</p>\n",
       "</div>"
      ],
      "text/plain": [
       "   A1_1      A1_2      A1_3      A4_1      A4_2      A4_3\n",
       "0   1.0  0.678571  0.732143  0.660714  0.607143  0.553571\n",
       "1   1.0  0.714286  0.714286  0.714286  0.607143  0.571429\n",
       "2   1.0     0.625  0.678571  0.696429  0.714286  0.660714\n",
       "3   1.0      0.75  0.732143  0.767857  0.660714  0.678571\n",
       "4   1.0  0.732143  0.732143  0.803571  0.696429  0.839286\n",
       "..  ...       ...       ...       ...       ...       ...\n",
       "95  1.0  0.678571  0.714286  0.464286  0.553571  0.553571\n",
       "96  1.0  0.571429      0.75  0.714286      0.75  0.642857\n",
       "97  1.0  0.714286  0.660714  0.732143  0.642857  0.714286\n",
       "98  1.0  0.714286  0.607143  0.642857  0.571429  0.553571\n",
       "99  1.0      0.75  0.767857     0.625  0.535714  0.571429\n",
       "\n",
       "[100 rows x 6 columns]"
      ]
     },
     "execution_count": 6,
     "metadata": {},
     "output_type": "execute_result"
    }
   ],
   "source": [
    "%%time\n",
    "\n",
    "columns = ['A1_1', 'A1_2', 'A1_3', 'A4_1', 'A4_2', 'A4_3']\n",
    "shuffled_count = 100\n",
    "\n",
    "animal_name = const.ANIMAL_NAMES[0]\n",
    "print('animal_name: %s' % animal_name)\n",
    "\n",
    "a1_csv = ContextDataCSV(animal_name, 'A1postES')\n",
    "a1_matrix = a1_csv.data_frame\n",
    "a1_matrix = MatrixOptimizer(a1_matrix).divide_sd()\n",
    "\n",
    "a4_csv = ContextDataCSV(animal_name, 'A4postES')\n",
    "a4_matrix = a4_csv.data_frame\n",
    "a4_matrix = MatrixOptimizer(a4_matrix).divide_sd()\n",
    "\n",
    "a1_nan_cells = find_all_nan_cells(a1_matrix)\n",
    "a4_nan_cells = find_all_nan_cells(a4_matrix)\n",
    "\n",
    "dropped_cells = dropped_unique_cells(a1_nan_cells, a4_nan_cells)\n",
    "a1_matrix.drop(columns=dropped_cells, inplace=True)\n",
    "a4_matrix.drop(columns=dropped_cells, inplace=True)\n",
    "\n",
    "shuffle_engram_matching_score = pd.DataFrame(index=list(range(shuffled_count)), columns=columns)\n",
    "\n",
    "for index in range(shuffled_count):\n",
    "    random_cells = np.random.randint(0, len(a1_matrix.columns), size=len(a1_csv.engram_cells()))\n",
    "    a1_shuffle_df = a1_matrix.iloc[:, random_cells].copy(deep=True)\n",
    "    a4_shuffle_df = a4_matrix.iloc[:, random_cells].copy(deep=True)\n",
    "    \n",
    "    shuffled_a1_1, shuffled_a1_2, shuffled_a1_3 = split_matrix(a1_shuffle_df, 'A1postES')\n",
    "    shuffled_a4_1, shuffled_a4_2, shuffled_a4_3 = split_matrix(a4_shuffle_df, 'A4postES')\n",
    "    \n",
    "    \n",
    "    shuffled_df = {}\n",
    "    shuffled_df['A1_1'] = shuffled_a1_1\n",
    "    shuffled_df['A1_2'] = shuffled_a1_2\n",
    "    shuffled_df['A1_3'] = shuffled_a1_3\n",
    "    shuffled_df['A4_1'] = shuffled_a4_1\n",
    "    shuffled_df['A4_2'] = shuffled_a4_2\n",
    "    shuffled_df['A4_3'] = shuffled_a4_3\n",
    "    \n",
    "    shuffled_patterns = {}\n",
    "    for context_name, df in shuffled_df.items():\n",
    "        _, H, _ = setted_NMF(df, len(df.columns) - 1)\n",
    "        shuffled_patterns[context_name] = H\n",
    "    \n",
    "    shuffle_engram_matching_score.loc[index, 'A1_1'] = calc_matching_score(shuffled_patterns['A1_1'], shuffled_patterns['A1_1'])\n",
    "    shuffle_engram_matching_score.loc[index, 'A1_2'] = calc_matching_score(shuffled_patterns['A1_1'], shuffled_patterns['A1_2'])\n",
    "    shuffle_engram_matching_score.loc[index, 'A1_3'] = calc_matching_score(shuffled_patterns['A1_1'], shuffled_patterns['A1_3'])\n",
    "    shuffle_engram_matching_score.loc[index, 'A4_1'] = calc_matching_score(shuffled_patterns['A1_1'], shuffled_patterns['A4_1'])\n",
    "    shuffle_engram_matching_score.loc[index, 'A4_2'] = calc_matching_score(shuffled_patterns['A1_1'], shuffled_patterns['A4_2'])\n",
    "    shuffle_engram_matching_score.loc[index, 'A4_3'] = calc_matching_score(shuffled_patterns['A1_1'], shuffled_patterns['A4_3'])\n",
    "    \n",
    "shuffle_engram_matching_score"
   ]
  },
  {
   "cell_type": "code",
   "execution_count": 11,
   "id": "8778e97d",
   "metadata": {},
   "outputs": [
    {
     "data": {
      "text/plain": [
       "(array([ 3.,  3.,  7., 15., 34., 17., 18.,  3.]),\n",
       " array([0.5178571428571429, 0.5580357142857143, 0.5982142857142858,\n",
       "        0.6383928571428572, 0.6785714285714286, 0.71875,\n",
       "        0.7589285714285714, 0.7991071428571429, 0.8392857142857143],\n",
       "       dtype=object),\n",
       " <BarContainer object of 8 artists>)"
      ]
     },
     "execution_count": 11,
     "metadata": {},
     "output_type": "execute_result"
    },
    {
     "data": {
      "image/png": "[encoded data removed]",
      "text/plain": [
       "<Figure size 432x288 with 1 Axes>"
      ]
     },
     "metadata": {
      "needs_background": "light"
     },
     "output_type": "display_data"
    }
   ],
   "source": [
    "plt.hist(shuffle_engram_matching_score.loc[:, 'A1_2'], bins=8)"
   ]
  },
  {
   "cell_type": "code",
   "execution_count": 12,
   "id": "e8a490e6",
   "metadata": {},
   "outputs": [],
   "source": [
    "from matching_score_resampling import MatchingScoreResampling"
   ]
  },
  {
   "cell_type": "code",
   "execution_count": 13,
   "id": "df35c44f",
   "metadata": {},
   "outputs": [
    {
     "name": "stderr",
     "output_type": "stream",
     "text": [
      "INFO:pystan:COMPILING THE C++ CODE FOR MODEL anon_model_dd71cdd6da0ab5f91b96805ab7873f3e NOW.\n"
     ]
    },
    {
     "data": {
      "text/plain": [
       "Inference for Stan model: anon_model_dd71cdd6da0ab5f91b96805ab7873f3e.\n",
       "3 chains, each with iter=1000; warmup=300; thin=1; \n",
       "post-warmup draws per chain=700, total post-warmup draws=2100.\n",
       "\n",
       "        mean se_mean     sd   2.5%    25%    50%    75%  97.5%  n_eff   Rhat\n",
       "mu       0.7  2.2e-4 6.6e-3   0.69    0.7    0.7   0.71   0.72    905   1.01\n",
       "sigma   0.06  1.1e-4 4.5e-3   0.05   0.06   0.06   0.07   0.07   1659    1.0\n",
       "lp__  227.18    0.04   1.05 224.19 226.77  227.5 227.94 228.21    715    1.0\n",
       "\n",
       "Samples were drawn using NUTS at Sun Aug 22 03:45:16 2021.\n",
       "For each parameter, n_eff is a crude measure of effective sample size,\n",
       "and Rhat is the potential scale reduction factor on split chains (at \n",
       "convergence, Rhat=1)."
      ]
     },
     "execution_count": 13,
     "metadata": {},
     "output_type": "execute_result"
    }
   ],
   "source": [
    "mc = MatchingScoreResampling()\n",
    "fit = mc.resampling(shuffle_engram_matching_score.loc[:, 'A1_2'])\n",
    "fit"
   ]
  },
  {
   "cell_type": "code",
   "execution_count": 16,
   "id": "52b90275",
   "metadata": {},
   "outputs": [
    {
     "data": {
      "text/plain": [
       "0.7028326833176806"
      ]
     },
     "execution_count": 16,
     "metadata": {},
     "output_type": "execute_result"
    }
   ],
   "source": [
    "np.mean(fit.extract('mu')['mu'])"
   ]
  },
  {
   "cell_type": "code",
   "execution_count": 17,
   "id": "cdcab016",
   "metadata": {},
   "outputs": [
    {
     "name": "stderr",
     "output_type": "stream",
     "text": [
      "WARNING:pystan:Deprecation warning. PyStan plotting deprecated, use ArviZ library (Python 3.5+). `pip install arviz`; `arviz.plot_trace(fit)`)\n"
     ]
    },
    {
     "data": {
      "image/png": "[encoded data removed]",
      "text/plain": [
       "<Figure size 432x288 with 4 Axes>"
      ]
     },
     "execution_count": 17,
     "metadata": {},
     "output_type": "execute_result"
    },
    {
     "data": {
      "image/png": "[encoded data removed]",
      "text/plain": [
       "<Figure size 432x288 with 4 Axes>"
      ]
     },
     "metadata": {
      "needs_background": "light"
     },
     "output_type": "display_data"
    }
   ],
   "source": [
    "fit.plot()"
   ]
  },
  {
   "cell_type": "code",
   "execution_count": 18,
   "id": "14c7d6a3",
   "metadata": {},
   "outputs": [
    {
     "name": "stderr",
     "output_type": "stream",
     "text": [
      "WARNING:pystan:n_eff / iter below 0.001 indicates that the effective sample size has likely been overestimated\n",
      "WARNING:pystan:Rhat above 1.1 or below 0.9 indicates that the chains very likely have not mixed\n",
      "WARNING:pystan:1039 of 2100 iterations ended with a divergence (49.5 %).\n",
      "WARNING:pystan:Try running with adapt_delta larger than 0.8 to remove the divergences.\n",
      "WARNING:pystan:Chain 1: E-BFMI = 0.0517\n",
      "WARNING:pystan:Chain 2: E-BFMI = 0.052\n",
      "WARNING:pystan:Chain 3: E-BFMI = 0.0314\n",
      "WARNING:pystan:E-BFMI below 0.2 indicates you may need to reparameterize your model\n"
     ]
    },
    {
     "data": {
      "text/plain": [
       "{'A1_1': array([1., 1., 1., ..., 1., 1., 1.]),\n",
       " 'A1_2': array([0.70547495, 0.70341867, 0.69731859, ..., 0.70527298, 0.71136246,\n",
       "        0.69357128]),\n",
       " 'A1_3': array([0.6842661 , 0.67888732, 0.68448561, ..., 0.68424055, 0.6854942 ,\n",
       "        0.67844822]),\n",
       " 'A4_1': array([0.6832856 , 0.67408584, 0.68712123, ..., 0.68759732, 0.6934114 ,\n",
       "        0.69875363]),\n",
       " 'A4_2': array([0.63644719, 0.64293546, 0.63588851, ..., 0.63729261, 0.65279873,\n",
       "        0.64406722]),\n",
       " 'A4_3': array([0.66561843, 0.64632931, 0.65043737, ..., 0.67010748, 0.6535319 ,\n",
       "        0.6288488 ])}"
      ]
     },
     "execution_count": 18,
     "metadata": {},
     "output_type": "execute_result"
    }
   ],
   "source": [
    "results"
   ]
  },
  {
   "cell_type": "code",
   "execution_count": null,
   "id": "0a21ab44",
   "metadata": {},
   "outputs": [],
   "source": []
  }
 ],
 "metadata": {
  "kernelspec": {
   "display_name": "Python 3",
   "language": "python",
   "name": "python3"
  },
  "language_info": {
   "codemirror_mode": {
    "name": "ipython",
    "version": 3
   },
   "file_extension": ".py",
   "mimetype": "text/x-python",
   "name": "python",
   "nbconvert_exporter": "python",
   "pygments_lexer": "ipython3",
   "version": "3.8.8"
  }
 },
 "nbformat": 4,
 "nbformat_minor": 5
}
