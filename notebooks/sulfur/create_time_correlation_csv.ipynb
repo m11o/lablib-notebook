{
 "cells": [
  {
   "cell_type": "code",
   "execution_count": 1,
   "id": "43a6e1b6",
   "metadata": {},
   "outputs": [],
   "source": [
    "import pandas as pd\n",
    "import numpy as np\n",
    "import os\n",
    "import re\n",
    "\n",
    "from utils.CaImageCSV import CaImageCSV\n",
    "import utils.sulfur.constant as const"
   ]
  },
  {
   "cell_type": "code",
   "execution_count": 2,
   "id": "0507db75",
   "metadata": {},
   "outputs": [],
   "source": [
    "def calc_time_correlation(df, seconds, correlation_for_cells):\n",
    "    for i in range(seconds):\n",
    "        i_time_data = correlation_for_cells[i]\n",
    "        for j in range(seconds):\n",
    "            j_time_data = correlation_for_cells[j]\n",
    "            \n",
    "            if df.at[j, i] is not np.nan:\n",
    "                df.at[i, j] = df.at[j, i]\n",
    "                continue\n",
    "                \n",
    "            cell_count = len(i_time_data)\n",
    "            calculated_values = i_time_data * j_time_data\n",
    "            corr_sum = (calculated_values - (calculated_values * np.eye(len(calculated_values)))).sum().sum()\n",
    "            df.at[i, j] = corr_sum / (cell_count * (cell_count - 1))"
   ]
  },
  {
   "cell_type": "code",
   "execution_count": 3,
   "id": "f9ee4271",
   "metadata": {},
   "outputs": [],
   "source": [
    "def save_to_csv(df, animal_name, context_name, klass='all'):\n",
    "    save_dir = './resources/time_correlation/csv/%s/%s/' % (animal_name, context_name)\n",
    "    save_path = '%s%s.csv' % (save_dir, klass)\n",
    "    os.makedirs(save_dir, exist_ok=True)\n",
    "    df.to_csv(save_path)"
   ]
  },
  {
   "cell_type": "code",
   "execution_count": 4,
   "id": "cafe06ea",
   "metadata": {},
   "outputs": [],
   "source": [
    "def calc_correlation_for_second(matrix, second, frame=10):\n",
    "    sliding_window_matrix = matrix.iloc[second:second+frame, :]\n",
    "    return sliding_window_matrix.corr()"
   ]
  },
  {
   "cell_type": "code",
   "execution_count": 5,
   "id": "16055392",
   "metadata": {},
   "outputs": [],
   "source": [
    "def dropna_and_fillna(matrix):\n",
    "    matrix.dropna(how='all', axis=1, inplace=True)\n",
    "    matrix.fillna(0.0, inplace=True, axis=1)"
   ]
  },
  {
   "cell_type": "code",
   "execution_count": 6,
   "id": "3cdb2fe3",
   "metadata": {},
   "outputs": [
    {
     "name": "stdout",
     "output_type": "stream",
     "text": [
      "animal_name: ID181106CreA\n"
     ]
    },
    {
     "name": "stderr",
     "output_type": "stream",
     "text": [
      "/opt/conda/lib/python3.8/site-packages/pandas/core/indexing.py:1843: SettingWithCopyWarning: \n",
      "A value is trying to be set on a copy of a slice from a DataFrame.\n",
      "Try using .loc[row_indexer,col_indexer] = value instead\n",
      "\n",
      "See the caveats in the documentation: https://pandas.pydata.org/pandas-docs/stable/user_guide/indexing.html#returning-a-view-versus-a-copy\n",
      "  self.obj[item_labels[indexer[info_axis]]] = value\n"
     ]
    },
    {
     "name": "stdout",
     "output_type": "stream",
     "text": [
      "context: HC1\n",
      "context: A1preES\n",
      "context: A1postES\n",
      "context: HC2\n",
      "context: HC3\n",
      "context: A2_1\n",
      "context: A2_2\n",
      "context: A3_1\n",
      "context: A3_2\n",
      "context: B1\n",
      "context: HC4\n",
      "context: A4preES\n",
      "context: A4postES\n",
      "context: HC5\n",
      "context: HC6\n",
      "context: A5\n",
      "context: B2\n",
      "animal_name: ID181106CreB\n"
     ]
    },
    {
     "name": "stderr",
     "output_type": "stream",
     "text": [
      "/opt/conda/lib/python3.8/site-packages/pandas/core/indexing.py:1843: SettingWithCopyWarning: \n",
      "A value is trying to be set on a copy of a slice from a DataFrame.\n",
      "Try using .loc[row_indexer,col_indexer] = value instead\n",
      "\n",
      "See the caveats in the documentation: https://pandas.pydata.org/pandas-docs/stable/user_guide/indexing.html#returning-a-view-versus-a-copy\n",
      "  self.obj[item_labels[indexer[info_axis]]] = value\n"
     ]
    },
    {
     "name": "stdout",
     "output_type": "stream",
     "text": [
      "context: HC1\n",
      "context: A1preES\n",
      "context: A1postES\n",
      "context: HC2\n",
      "context: HC3\n",
      "context: A2_1\n",
      "context: A2_2\n",
      "context: A3_1\n",
      "context: A3_2\n",
      "context: B1\n",
      "context: HC4\n",
      "context: A4preES\n",
      "context: A4postES\n",
      "context: HC5\n",
      "context: HC6\n",
      "context: A5\n",
      "context: B2\n",
      "animal_name: ID181106CreC\n"
     ]
    },
    {
     "name": "stderr",
     "output_type": "stream",
     "text": [
      "/opt/conda/lib/python3.8/site-packages/pandas/core/indexing.py:1843: SettingWithCopyWarning: \n",
      "A value is trying to be set on a copy of a slice from a DataFrame.\n",
      "Try using .loc[row_indexer,col_indexer] = value instead\n",
      "\n",
      "See the caveats in the documentation: https://pandas.pydata.org/pandas-docs/stable/user_guide/indexing.html#returning-a-view-versus-a-copy\n",
      "  self.obj[item_labels[indexer[info_axis]]] = value\n"
     ]
    },
    {
     "name": "stdout",
     "output_type": "stream",
     "text": [
      "context: HC1\n",
      "context: A1preES\n",
      "context: A1postES\n",
      "context: HC2\n",
      "context: HC3\n",
      "context: A2_1\n",
      "context: A2_2\n",
      "context: A3_1\n",
      "context: A3_2\n",
      "context: B1\n",
      "context: HC4\n",
      "context: A4preES\n",
      "context: A4postES\n",
      "context: HC5\n",
      "context: HC6\n",
      "context: A5\n",
      "context: B2\n",
      "animal_name: ID181106CreG\n"
     ]
    },
    {
     "name": "stderr",
     "output_type": "stream",
     "text": [
      "/opt/conda/lib/python3.8/site-packages/pandas/core/indexing.py:1843: SettingWithCopyWarning: \n",
      "A value is trying to be set on a copy of a slice from a DataFrame.\n",
      "Try using .loc[row_indexer,col_indexer] = value instead\n",
      "\n",
      "See the caveats in the documentation: https://pandas.pydata.org/pandas-docs/stable/user_guide/indexing.html#returning-a-view-versus-a-copy\n",
      "  self.obj[item_labels[indexer[info_axis]]] = value\n"
     ]
    },
    {
     "name": "stdout",
     "output_type": "stream",
     "text": [
      "context: HC1\n",
      "context: A1preES\n",
      "context: A1postES\n",
      "context: HC2\n",
      "context: HC3\n",
      "context: A2_1\n",
      "context: A2_2\n",
      "context: A3_1\n",
      "context: A3_2\n",
      "context: B1\n",
      "context: HC4\n",
      "context: A4preES\n",
      "context: A4postES\n",
      "context: HC5\n",
      "context: HC6\n",
      "context: A5\n",
      "context: B2\n",
      "animal_name: ID181106CreH\n"
     ]
    },
    {
     "name": "stderr",
     "output_type": "stream",
     "text": [
      "/opt/conda/lib/python3.8/site-packages/pandas/core/indexing.py:1843: SettingWithCopyWarning: \n",
      "A value is trying to be set on a copy of a slice from a DataFrame.\n",
      "Try using .loc[row_indexer,col_indexer] = value instead\n",
      "\n",
      "See the caveats in the documentation: https://pandas.pydata.org/pandas-docs/stable/user_guide/indexing.html#returning-a-view-versus-a-copy\n",
      "  self.obj[item_labels[indexer[info_axis]]] = value\n"
     ]
    },
    {
     "name": "stdout",
     "output_type": "stream",
     "text": [
      "context: HC1\n",
      "context: A1preES\n",
      "context: A1postES\n",
      "context: HC2\n",
      "context: HC3\n",
      "context: A2_1\n",
      "context: A2_2\n",
      "context: A3_1\n",
      "context: A3_2\n",
      "context: B1\n",
      "context: HC4\n",
      "context: A4preES\n",
      "context: A4postES\n",
      "context: HC5\n",
      "context: HC6\n",
      "context: A5\n",
      "context: B2\n",
      "animal_name: ID181106CreI\n"
     ]
    },
    {
     "name": "stderr",
     "output_type": "stream",
     "text": [
      "/opt/conda/lib/python3.8/site-packages/pandas/core/indexing.py:1843: SettingWithCopyWarning: \n",
      "A value is trying to be set on a copy of a slice from a DataFrame.\n",
      "Try using .loc[row_indexer,col_indexer] = value instead\n",
      "\n",
      "See the caveats in the documentation: https://pandas.pydata.org/pandas-docs/stable/user_guide/indexing.html#returning-a-view-versus-a-copy\n",
      "  self.obj[item_labels[indexer[info_axis]]] = value\n"
     ]
    },
    {
     "name": "stdout",
     "output_type": "stream",
     "text": [
      "context: HC1\n",
      "context: A1preES\n",
      "context: A1postES\n",
      "context: HC2\n",
      "context: HC3\n",
      "context: A2_1\n",
      "context: A2_2\n",
      "context: A3_1\n",
      "context: A3_2\n",
      "context: B1\n",
      "context: HC4\n",
      "context: A4preES\n",
      "context: A4postES\n",
      "context: HC5\n",
      "context: HC6\n",
      "context: A5\n",
      "context: B2\n",
      "animal_name: ID181106CreK\n"
     ]
    },
    {
     "name": "stderr",
     "output_type": "stream",
     "text": [
      "/opt/conda/lib/python3.8/site-packages/pandas/core/indexing.py:1843: SettingWithCopyWarning: \n",
      "A value is trying to be set on a copy of a slice from a DataFrame.\n",
      "Try using .loc[row_indexer,col_indexer] = value instead\n",
      "\n",
      "See the caveats in the documentation: https://pandas.pydata.org/pandas-docs/stable/user_guide/indexing.html#returning-a-view-versus-a-copy\n",
      "  self.obj[item_labels[indexer[info_axis]]] = value\n"
     ]
    },
    {
     "name": "stdout",
     "output_type": "stream",
     "text": [
      "context: HC1\n",
      "context: A1preES\n",
      "context: A1postES\n",
      "context: HC2\n",
      "context: HC3\n",
      "context: A2_1\n",
      "context: A2_2\n",
      "context: A3_1\n",
      "context: A3_2\n",
      "context: B1\n",
      "context: HC4\n",
      "context: A4preES\n",
      "context: A4postES\n",
      "context: HC5\n",
      "context: HC6\n",
      "context: A5\n",
      "context: B2\n",
      "animal_name: ID181106CreL\n"
     ]
    },
    {
     "name": "stderr",
     "output_type": "stream",
     "text": [
      "/opt/conda/lib/python3.8/site-packages/pandas/core/indexing.py:1843: SettingWithCopyWarning: \n",
      "A value is trying to be set on a copy of a slice from a DataFrame.\n",
      "Try using .loc[row_indexer,col_indexer] = value instead\n",
      "\n",
      "See the caveats in the documentation: https://pandas.pydata.org/pandas-docs/stable/user_guide/indexing.html#returning-a-view-versus-a-copy\n",
      "  self.obj[item_labels[indexer[info_axis]]] = value\n"
     ]
    },
    {
     "name": "stdout",
     "output_type": "stream",
     "text": [
      "context: HC1\n",
      "context: A1preES\n",
      "context: A1postES\n",
      "context: HC2\n",
      "context: HC3\n",
      "context: A2_1\n",
      "context: A2_2\n",
      "context: A3_1\n",
      "context: A3_2\n",
      "context: B1\n",
      "context: HC4\n",
      "context: A4preES\n",
      "context: A4postES\n",
      "context: HC5\n",
      "context: HC6\n",
      "context: A5\n",
      "context: B2\n",
      "animal_name: ID181106CreN\n"
     ]
    },
    {
     "name": "stderr",
     "output_type": "stream",
     "text": [
      "/opt/conda/lib/python3.8/site-packages/pandas/core/indexing.py:1843: SettingWithCopyWarning: \n",
      "A value is trying to be set on a copy of a slice from a DataFrame.\n",
      "Try using .loc[row_indexer,col_indexer] = value instead\n",
      "\n",
      "See the caveats in the documentation: https://pandas.pydata.org/pandas-docs/stable/user_guide/indexing.html#returning-a-view-versus-a-copy\n",
      "  self.obj[item_labels[indexer[info_axis]]] = value\n"
     ]
    },
    {
     "name": "stdout",
     "output_type": "stream",
     "text": [
      "context: HC1\n",
      "context: A1preES\n",
      "context: A1postES\n",
      "context: HC2\n",
      "context: HC3\n",
      "context: A2_1\n",
      "context: A2_2\n",
      "context: A3_1\n",
      "context: A3_2\n",
      "context: B1\n",
      "context: HC4\n",
      "context: A4preES\n",
      "context: A4postES\n",
      "context: HC5\n",
      "context: HC6\n",
      "context: A5\n",
      "context: B2\n",
      "animal_name: ID181106CreQ\n"
     ]
    },
    {
     "name": "stderr",
     "output_type": "stream",
     "text": [
      "/opt/conda/lib/python3.8/site-packages/pandas/core/indexing.py:1843: SettingWithCopyWarning: \n",
      "A value is trying to be set on a copy of a slice from a DataFrame.\n",
      "Try using .loc[row_indexer,col_indexer] = value instead\n",
      "\n",
      "See the caveats in the documentation: https://pandas.pydata.org/pandas-docs/stable/user_guide/indexing.html#returning-a-view-versus-a-copy\n",
      "  self.obj[item_labels[indexer[info_axis]]] = value\n"
     ]
    },
    {
     "name": "stdout",
     "output_type": "stream",
     "text": [
      "context: HC1\n",
      "context: A1preES\n",
      "context: A1postES\n",
      "context: HC2\n",
      "context: HC3\n",
      "context: A2_1\n",
      "context: A2_2\n",
      "context: A3_1\n",
      "context: A3_2\n",
      "context: B1\n",
      "context: HC4\n",
      "context: A4preES\n",
      "context: A4postES\n",
      "context: HC5\n",
      "context: HC6\n",
      "context: A5\n",
      "context: B2\n"
     ]
    }
   ],
   "source": [
    "animal_names = const.ANIMAL_NAMES\n",
    "for animal_name in animal_names:\n",
    "    print('animal_name: %s' % animal_name)\n",
    "    file_path = './resources/%s_Longitudinal_Traces.csv' % animal_name\n",
    "    csv = CaImageCSV(file_path)\n",
    "    \n",
    "    for context_name in const.CONTEXTS:\n",
    "        print('context: %s' % context_name)\n",
    "        if re.match(r'^HC\\d', context_name):\n",
    "            continue\n",
    "        \n",
    "        context_data = csv.filtered_by_context(context_name)\n",
    "        optimized_context_matrix = csv.optimize_std(context_data.astype(float))\n",
    "        optimized_engram_matrix = optimized_context_matrix.loc[:, csv.engram_cells()]\n",
    "        optimized_non_engram_matrix = optimized_context_matrix.loc[:, csv.non_engram_cells()]\n",
    "        \n",
    "        dropna_and_fillna(optimized_context_matrix)\n",
    "        dropna_and_fillna(optimized_engram_matrix)\n",
    "        dropna_and_fillna(optimized_non_engram_matrix)\n",
    "        \n",
    "        seconds = len(optimized_context_matrix) // 10\n",
    "        \n",
    "        all_cells_correlations = []\n",
    "        engram_cells_correlations = []\n",
    "        non_engram_cells_correlations = []\n",
    "        for second in range(seconds):\n",
    "            all_cells_correlations.append(calc_correlation_for_second(optimized_context_matrix, second))\n",
    "            engram_cells_correlations.append(calc_correlation_for_second(optimized_engram_matrix, second))\n",
    "            non_engram_cells_correlations.append(calc_correlation_for_second(optimized_non_engram_matrix, second))\n",
    "        \n",
    "        df_for_all = pd.DataFrame(columns=list(range(seconds)), index=list(range(seconds)))\n",
    "        calc_time_correlation(df_for_all, seconds, all_cells_correlations)\n",
    "        save_to_csv(df_for_all, animal_name, context_name, 'all')\n",
    "        \n",
    "        df_for_engram = pd.DataFrame(columns=list(range(seconds)), index=list(range(seconds)))\n",
    "        calc_time_correlation(df_for_engram, seconds, engram_cells_correlations)\n",
    "        save_to_csv(df_for_engram, animal_name, context_name, 'engram')\n",
    "        \n",
    "        df_for_non_engram = pd.DataFrame(columns=list(range(seconds)), index=list(range(seconds)))\n",
    "        calc_time_correlation(df_for_non_engram, seconds, non_engram_cells_correlations)\n",
    "        save_to_csv(df_for_non_engram, animal_name, context_name, 'non-engram')"
   ]
  }
 ],
 "metadata": {
  "kernelspec": {
   "display_name": "Python 3",
   "language": "python",
   "name": "python3"
  },
  "language_info": {
   "codemirror_mode": {
    "name": "ipython",
    "version": 3
   },
   "file_extension": ".py",
   "mimetype": "text/x-python",
   "name": "python",
   "nbconvert_exporter": "python",
   "pygments_lexer": "ipython3",
   "version": "3.8.8"
  }
 },
 "nbformat": 4,
 "nbformat_minor": 5
}
